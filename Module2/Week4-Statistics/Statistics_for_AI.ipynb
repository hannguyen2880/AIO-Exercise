{
  "nbformat": 4,
  "nbformat_minor": 0,
  "metadata": {
    "colab": {
      "provenance": [],
      "toc_visible": true
    },
    "kernelspec": {
      "name": "python3",
      "display_name": "Python 3"
    },
    "language_info": {
      "name": "python"
    }
  },
  "cells": [
    {
      "cell_type": "markdown",
      "source": [
        "# **1. Basic Probability**"
      ],
      "metadata": {
        "id": "q8eeSSjvlp7W"
      }
    },
    {
      "cell_type": "code",
      "execution_count": null,
      "metadata": {
        "id": "uHsNZ4kjlnRp"
      },
      "outputs": [],
      "source": [
        "import numpy as np"
      ]
    },
    {
      "cell_type": "code",
      "source": [
        "## Question 1\n",
        "def compute_mean(X):\n",
        "  return np.sum(X) / len(X)\n",
        "\n",
        "X = [2, 0, 2, 2, 7, 4, -2, 5, -1, -1]\n",
        "\n",
        "print(\"Mean : \", compute_mean(X))"
      ],
      "metadata": {
        "colab": {
          "base_uri": "https://localhost:8080/"
        },
        "id": "BNoJkN2Vl2Ti",
        "outputId": "8f0897e5-deab-44f4-b064-6703d8f3b5b3"
      },
      "execution_count": null,
      "outputs": [
        {
          "output_type": "stream",
          "name": "stdout",
          "text": [
            "Mean :  1.8\n"
          ]
        }
      ]
    },
    {
      "cell_type": "code",
      "source": [
        "## Question 2\n",
        "def compute_median(X):\n",
        "  size = len(X)\n",
        "  X = np.sort(X)\n",
        "  print(X)\n",
        "\n",
        "  if size % 2 == 0:\n",
        "      return 1/2 * (X[int(size/2)-1] + X[int(size/2)])\n",
        "  else:\n",
        "      return X[int(size/2)-1]\n",
        "\n",
        "X = [1, 5, 4, 4, 9, 13]\n",
        "print(\"Median: \", compute_median(X))"
      ],
      "metadata": {
        "colab": {
          "base_uri": "https://localhost:8080/"
        },
        "id": "jUkvp7Dvl4Sa",
        "outputId": "1a070530-a792-4074-e5fd-cfe4518382a3"
      },
      "execution_count": null,
      "outputs": [
        {
          "output_type": "stream",
          "name": "stdout",
          "text": [
            "[ 1  4  4  5  9 13]\n",
            "Median:  4.5\n"
          ]
        }
      ]
    },
    {
      "cell_type": "code",
      "source": [
        "## Question 3\n",
        "def compute_std(X):\n",
        "    mean = compute_mean(X)\n",
        "    variance = 0\n",
        "    for x in X:\n",
        "        variance = variance + (x - mean)**2\n",
        "\n",
        "    variance /= len(X)\n",
        "    return np.sqrt(variance)\n",
        "\n",
        "X = [ 171, 176, 155, 167, 169, 182]\n",
        "print(np.round(compute_std(X), 2))"
      ],
      "metadata": {
        "id": "ANGx_K-Nm4GQ",
        "colab": {
          "base_uri": "https://localhost:8080/"
        },
        "outputId": "e9fefebb-519d-4bd8-c2a2-0980af25d758"
      },
      "execution_count": null,
      "outputs": [
        {
          "output_type": "stream",
          "name": "stdout",
          "text": [
            "8.33\n"
          ]
        }
      ]
    },
    {
      "cell_type": "code",
      "source": [
        "## Question 4\n",
        "def compute_correlation_cofficient(X, Y):\n",
        "    N = len(X)\n",
        "    numerator = N * X.dot(Y) - np.sum(X) * np.sum(Y)\n",
        "    denominator = np.sqrt(N * np.sum(np.square(X)) - np.sum(X)**2) * np.sqrt(N*np.sum(np.square(Y)) - np.sum(Y)**2)\n",
        "    return np.round(numerator / denominator, 2)\n",
        "\n",
        "X = np.asarray([-2, -5, -11, 6, 4, 15, 9])\n",
        "Y = np.asarray([4, 25, 121, 36, 16, 225, 81])\n",
        "print(\"Correlation: \", compute_correlation_cofficient(X,Y))"
      ],
      "metadata": {
        "id": "CDZqRhuxneoO",
        "colab": {
          "base_uri": "https://localhost:8080/"
        },
        "outputId": "1190fc96-fc78-4eb3-8cd2-c9b79520caf7"
      },
      "execution_count": null,
      "outputs": [
        {
          "output_type": "stream",
          "name": "stdout",
          "text": [
            "Correlation:  0.42\n"
          ]
        }
      ]
    },
    {
      "cell_type": "markdown",
      "source": [
        "# **2. Tabular Data Analysis**"
      ],
      "metadata": {
        "id": "LIaITIgWAEYE"
      }
    },
    {
      "cell_type": "code",
      "source": [
        "import pandas as pd\n",
        "import numpy as np\n",
        "import seaborn as sns\n",
        "import matplotlib.pyplot as plt"
      ],
      "metadata": {
        "id": "XtVkRmvEAIYu"
      },
      "execution_count": 5,
      "outputs": []
    },
    {
      "cell_type": "code",
      "source": [
        "!gdown 1iA0WmVfW88HyJvTBSQDI5vesf-pgKabq"
      ],
      "metadata": {
        "colab": {
          "base_uri": "https://localhost:8080/"
        },
        "id": "LzYDK6PXCPP9",
        "outputId": "f490bc93-13f8-481f-e97c-62d187e33e62"
      },
      "execution_count": 2,
      "outputs": [
        {
          "output_type": "stream",
          "name": "stdout",
          "text": [
            "Downloading...\n",
            "From: https://drive.google.com/uc?id=1iA0WmVfW88HyJvTBSQDI5vesf-pgKabq\n",
            "To: /content/advertising.csv\n",
            "\r  0% 0.00/4.06k [00:00<?, ?B/s]\r100% 4.06k/4.06k [00:00<00:00, 8.38MB/s]\n"
          ]
        }
      ]
    },
    {
      "cell_type": "code",
      "source": [
        "data = pd.read_csv(\"/content/advertising.csv\")\n",
        "data"
      ],
      "metadata": {
        "colab": {
          "base_uri": "https://localhost:8080/",
          "height": 423
        },
        "id": "OnP_yoZgEVb8",
        "outputId": "2ab3c2c0-5fa7-4b6c-c6a5-2e7a7aaab3fb"
      },
      "execution_count": 3,
      "outputs": [
        {
          "output_type": "execute_result",
          "data": {
            "text/plain": [
              "        TV  Radio  Newspaper  Sales\n",
              "0    230.1   37.8       69.2   22.1\n",
              "1     44.5   39.3       45.1   10.4\n",
              "2     17.2   45.9       69.3   12.0\n",
              "3    151.5   41.3       58.5   16.5\n",
              "4    180.8   10.8       58.4   17.9\n",
              "..     ...    ...        ...    ...\n",
              "195   38.2    3.7       13.8    7.6\n",
              "196   94.2    4.9        8.1   14.0\n",
              "197  177.0    9.3        6.4   14.8\n",
              "198  283.6   42.0       66.2   25.5\n",
              "199  232.1    8.6        8.7   18.4\n",
              "\n",
              "[200 rows x 4 columns]"
            ],
            "text/html": [
              "\n",
              "  <div id=\"df-e904b82d-ad7d-44d0-9fe2-27af4f4b51f3\" class=\"colab-df-container\">\n",
              "    <div>\n",
              "<style scoped>\n",
              "    .dataframe tbody tr th:only-of-type {\n",
              "        vertical-align: middle;\n",
              "    }\n",
              "\n",
              "    .dataframe tbody tr th {\n",
              "        vertical-align: top;\n",
              "    }\n",
              "\n",
              "    .dataframe thead th {\n",
              "        text-align: right;\n",
              "    }\n",
              "</style>\n",
              "<table border=\"1\" class=\"dataframe\">\n",
              "  <thead>\n",
              "    <tr style=\"text-align: right;\">\n",
              "      <th></th>\n",
              "      <th>TV</th>\n",
              "      <th>Radio</th>\n",
              "      <th>Newspaper</th>\n",
              "      <th>Sales</th>\n",
              "    </tr>\n",
              "  </thead>\n",
              "  <tbody>\n",
              "    <tr>\n",
              "      <th>0</th>\n",
              "      <td>230.1</td>\n",
              "      <td>37.8</td>\n",
              "      <td>69.2</td>\n",
              "      <td>22.1</td>\n",
              "    </tr>\n",
              "    <tr>\n",
              "      <th>1</th>\n",
              "      <td>44.5</td>\n",
              "      <td>39.3</td>\n",
              "      <td>45.1</td>\n",
              "      <td>10.4</td>\n",
              "    </tr>\n",
              "    <tr>\n",
              "      <th>2</th>\n",
              "      <td>17.2</td>\n",
              "      <td>45.9</td>\n",
              "      <td>69.3</td>\n",
              "      <td>12.0</td>\n",
              "    </tr>\n",
              "    <tr>\n",
              "      <th>3</th>\n",
              "      <td>151.5</td>\n",
              "      <td>41.3</td>\n",
              "      <td>58.5</td>\n",
              "      <td>16.5</td>\n",
              "    </tr>\n",
              "    <tr>\n",
              "      <th>4</th>\n",
              "      <td>180.8</td>\n",
              "      <td>10.8</td>\n",
              "      <td>58.4</td>\n",
              "      <td>17.9</td>\n",
              "    </tr>\n",
              "    <tr>\n",
              "      <th>...</th>\n",
              "      <td>...</td>\n",
              "      <td>...</td>\n",
              "      <td>...</td>\n",
              "      <td>...</td>\n",
              "    </tr>\n",
              "    <tr>\n",
              "      <th>195</th>\n",
              "      <td>38.2</td>\n",
              "      <td>3.7</td>\n",
              "      <td>13.8</td>\n",
              "      <td>7.6</td>\n",
              "    </tr>\n",
              "    <tr>\n",
              "      <th>196</th>\n",
              "      <td>94.2</td>\n",
              "      <td>4.9</td>\n",
              "      <td>8.1</td>\n",
              "      <td>14.0</td>\n",
              "    </tr>\n",
              "    <tr>\n",
              "      <th>197</th>\n",
              "      <td>177.0</td>\n",
              "      <td>9.3</td>\n",
              "      <td>6.4</td>\n",
              "      <td>14.8</td>\n",
              "    </tr>\n",
              "    <tr>\n",
              "      <th>198</th>\n",
              "      <td>283.6</td>\n",
              "      <td>42.0</td>\n",
              "      <td>66.2</td>\n",
              "      <td>25.5</td>\n",
              "    </tr>\n",
              "    <tr>\n",
              "      <th>199</th>\n",
              "      <td>232.1</td>\n",
              "      <td>8.6</td>\n",
              "      <td>8.7</td>\n",
              "      <td>18.4</td>\n",
              "    </tr>\n",
              "  </tbody>\n",
              "</table>\n",
              "<p>200 rows × 4 columns</p>\n",
              "</div>\n",
              "    <div class=\"colab-df-buttons\">\n",
              "\n",
              "  <div class=\"colab-df-container\">\n",
              "    <button class=\"colab-df-convert\" onclick=\"convertToInteractive('df-e904b82d-ad7d-44d0-9fe2-27af4f4b51f3')\"\n",
              "            title=\"Convert this dataframe to an interactive table.\"\n",
              "            style=\"display:none;\">\n",
              "\n",
              "  <svg xmlns=\"http://www.w3.org/2000/svg\" height=\"24px\" viewBox=\"0 -960 960 960\">\n",
              "    <path d=\"M120-120v-720h720v720H120Zm60-500h600v-160H180v160Zm220 220h160v-160H400v160Zm0 220h160v-160H400v160ZM180-400h160v-160H180v160Zm440 0h160v-160H620v160ZM180-180h160v-160H180v160Zm440 0h160v-160H620v160Z\"/>\n",
              "  </svg>\n",
              "    </button>\n",
              "\n",
              "  <style>\n",
              "    .colab-df-container {\n",
              "      display:flex;\n",
              "      gap: 12px;\n",
              "    }\n",
              "\n",
              "    .colab-df-convert {\n",
              "      background-color: #E8F0FE;\n",
              "      border: none;\n",
              "      border-radius: 50%;\n",
              "      cursor: pointer;\n",
              "      display: none;\n",
              "      fill: #1967D2;\n",
              "      height: 32px;\n",
              "      padding: 0 0 0 0;\n",
              "      width: 32px;\n",
              "    }\n",
              "\n",
              "    .colab-df-convert:hover {\n",
              "      background-color: #E2EBFA;\n",
              "      box-shadow: 0px 1px 2px rgba(60, 64, 67, 0.3), 0px 1px 3px 1px rgba(60, 64, 67, 0.15);\n",
              "      fill: #174EA6;\n",
              "    }\n",
              "\n",
              "    .colab-df-buttons div {\n",
              "      margin-bottom: 4px;\n",
              "    }\n",
              "\n",
              "    [theme=dark] .colab-df-convert {\n",
              "      background-color: #3B4455;\n",
              "      fill: #D2E3FC;\n",
              "    }\n",
              "\n",
              "    [theme=dark] .colab-df-convert:hover {\n",
              "      background-color: #434B5C;\n",
              "      box-shadow: 0px 1px 3px 1px rgba(0, 0, 0, 0.15);\n",
              "      filter: drop-shadow(0px 1px 2px rgba(0, 0, 0, 0.3));\n",
              "      fill: #FFFFFF;\n",
              "    }\n",
              "  </style>\n",
              "\n",
              "    <script>\n",
              "      const buttonEl =\n",
              "        document.querySelector('#df-e904b82d-ad7d-44d0-9fe2-27af4f4b51f3 button.colab-df-convert');\n",
              "      buttonEl.style.display =\n",
              "        google.colab.kernel.accessAllowed ? 'block' : 'none';\n",
              "\n",
              "      async function convertToInteractive(key) {\n",
              "        const element = document.querySelector('#df-e904b82d-ad7d-44d0-9fe2-27af4f4b51f3');\n",
              "        const dataTable =\n",
              "          await google.colab.kernel.invokeFunction('convertToInteractive',\n",
              "                                                    [key], {});\n",
              "        if (!dataTable) return;\n",
              "\n",
              "        const docLinkHtml = 'Like what you see? Visit the ' +\n",
              "          '<a target=\"_blank\" href=https://colab.research.google.com/notebooks/data_table.ipynb>data table notebook</a>'\n",
              "          + ' to learn more about interactive tables.';\n",
              "        element.innerHTML = '';\n",
              "        dataTable['output_type'] = 'display_data';\n",
              "        await google.colab.output.renderOutput(dataTable, element);\n",
              "        const docLink = document.createElement('div');\n",
              "        docLink.innerHTML = docLinkHtml;\n",
              "        element.appendChild(docLink);\n",
              "      }\n",
              "    </script>\n",
              "  </div>\n",
              "\n",
              "\n",
              "<div id=\"df-c0d8c6a9-ce9d-4147-8e7b-0c6b95c9faa0\">\n",
              "  <button class=\"colab-df-quickchart\" onclick=\"quickchart('df-c0d8c6a9-ce9d-4147-8e7b-0c6b95c9faa0')\"\n",
              "            title=\"Suggest charts\"\n",
              "            style=\"display:none;\">\n",
              "\n",
              "<svg xmlns=\"http://www.w3.org/2000/svg\" height=\"24px\"viewBox=\"0 0 24 24\"\n",
              "     width=\"24px\">\n",
              "    <g>\n",
              "        <path d=\"M19 3H5c-1.1 0-2 .9-2 2v14c0 1.1.9 2 2 2h14c1.1 0 2-.9 2-2V5c0-1.1-.9-2-2-2zM9 17H7v-7h2v7zm4 0h-2V7h2v10zm4 0h-2v-4h2v4z\"/>\n",
              "    </g>\n",
              "</svg>\n",
              "  </button>\n",
              "\n",
              "<style>\n",
              "  .colab-df-quickchart {\n",
              "      --bg-color: #E8F0FE;\n",
              "      --fill-color: #1967D2;\n",
              "      --hover-bg-color: #E2EBFA;\n",
              "      --hover-fill-color: #174EA6;\n",
              "      --disabled-fill-color: #AAA;\n",
              "      --disabled-bg-color: #DDD;\n",
              "  }\n",
              "\n",
              "  [theme=dark] .colab-df-quickchart {\n",
              "      --bg-color: #3B4455;\n",
              "      --fill-color: #D2E3FC;\n",
              "      --hover-bg-color: #434B5C;\n",
              "      --hover-fill-color: #FFFFFF;\n",
              "      --disabled-bg-color: #3B4455;\n",
              "      --disabled-fill-color: #666;\n",
              "  }\n",
              "\n",
              "  .colab-df-quickchart {\n",
              "    background-color: var(--bg-color);\n",
              "    border: none;\n",
              "    border-radius: 50%;\n",
              "    cursor: pointer;\n",
              "    display: none;\n",
              "    fill: var(--fill-color);\n",
              "    height: 32px;\n",
              "    padding: 0;\n",
              "    width: 32px;\n",
              "  }\n",
              "\n",
              "  .colab-df-quickchart:hover {\n",
              "    background-color: var(--hover-bg-color);\n",
              "    box-shadow: 0 1px 2px rgba(60, 64, 67, 0.3), 0 1px 3px 1px rgba(60, 64, 67, 0.15);\n",
              "    fill: var(--button-hover-fill-color);\n",
              "  }\n",
              "\n",
              "  .colab-df-quickchart-complete:disabled,\n",
              "  .colab-df-quickchart-complete:disabled:hover {\n",
              "    background-color: var(--disabled-bg-color);\n",
              "    fill: var(--disabled-fill-color);\n",
              "    box-shadow: none;\n",
              "  }\n",
              "\n",
              "  .colab-df-spinner {\n",
              "    border: 2px solid var(--fill-color);\n",
              "    border-color: transparent;\n",
              "    border-bottom-color: var(--fill-color);\n",
              "    animation:\n",
              "      spin 1s steps(1) infinite;\n",
              "  }\n",
              "\n",
              "  @keyframes spin {\n",
              "    0% {\n",
              "      border-color: transparent;\n",
              "      border-bottom-color: var(--fill-color);\n",
              "      border-left-color: var(--fill-color);\n",
              "    }\n",
              "    20% {\n",
              "      border-color: transparent;\n",
              "      border-left-color: var(--fill-color);\n",
              "      border-top-color: var(--fill-color);\n",
              "    }\n",
              "    30% {\n",
              "      border-color: transparent;\n",
              "      border-left-color: var(--fill-color);\n",
              "      border-top-color: var(--fill-color);\n",
              "      border-right-color: var(--fill-color);\n",
              "    }\n",
              "    40% {\n",
              "      border-color: transparent;\n",
              "      border-right-color: var(--fill-color);\n",
              "      border-top-color: var(--fill-color);\n",
              "    }\n",
              "    60% {\n",
              "      border-color: transparent;\n",
              "      border-right-color: var(--fill-color);\n",
              "    }\n",
              "    80% {\n",
              "      border-color: transparent;\n",
              "      border-right-color: var(--fill-color);\n",
              "      border-bottom-color: var(--fill-color);\n",
              "    }\n",
              "    90% {\n",
              "      border-color: transparent;\n",
              "      border-bottom-color: var(--fill-color);\n",
              "    }\n",
              "  }\n",
              "</style>\n",
              "\n",
              "  <script>\n",
              "    async function quickchart(key) {\n",
              "      const quickchartButtonEl =\n",
              "        document.querySelector('#' + key + ' button');\n",
              "      quickchartButtonEl.disabled = true;  // To prevent multiple clicks.\n",
              "      quickchartButtonEl.classList.add('colab-df-spinner');\n",
              "      try {\n",
              "        const charts = await google.colab.kernel.invokeFunction(\n",
              "            'suggestCharts', [key], {});\n",
              "      } catch (error) {\n",
              "        console.error('Error during call to suggestCharts:', error);\n",
              "      }\n",
              "      quickchartButtonEl.classList.remove('colab-df-spinner');\n",
              "      quickchartButtonEl.classList.add('colab-df-quickchart-complete');\n",
              "    }\n",
              "    (() => {\n",
              "      let quickchartButtonEl =\n",
              "        document.querySelector('#df-c0d8c6a9-ce9d-4147-8e7b-0c6b95c9faa0 button');\n",
              "      quickchartButtonEl.style.display =\n",
              "        google.colab.kernel.accessAllowed ? 'block' : 'none';\n",
              "    })();\n",
              "  </script>\n",
              "</div>\n",
              "\n",
              "  <div id=\"id_31b6fd8e-98a8-42a0-a947-d3fa6ef04e9b\">\n",
              "    <style>\n",
              "      .colab-df-generate {\n",
              "        background-color: #E8F0FE;\n",
              "        border: none;\n",
              "        border-radius: 50%;\n",
              "        cursor: pointer;\n",
              "        display: none;\n",
              "        fill: #1967D2;\n",
              "        height: 32px;\n",
              "        padding: 0 0 0 0;\n",
              "        width: 32px;\n",
              "      }\n",
              "\n",
              "      .colab-df-generate:hover {\n",
              "        background-color: #E2EBFA;\n",
              "        box-shadow: 0px 1px 2px rgba(60, 64, 67, 0.3), 0px 1px 3px 1px rgba(60, 64, 67, 0.15);\n",
              "        fill: #174EA6;\n",
              "      }\n",
              "\n",
              "      [theme=dark] .colab-df-generate {\n",
              "        background-color: #3B4455;\n",
              "        fill: #D2E3FC;\n",
              "      }\n",
              "\n",
              "      [theme=dark] .colab-df-generate:hover {\n",
              "        background-color: #434B5C;\n",
              "        box-shadow: 0px 1px 3px 1px rgba(0, 0, 0, 0.15);\n",
              "        filter: drop-shadow(0px 1px 2px rgba(0, 0, 0, 0.3));\n",
              "        fill: #FFFFFF;\n",
              "      }\n",
              "    </style>\n",
              "    <button class=\"colab-df-generate\" onclick=\"generateWithVariable('data')\"\n",
              "            title=\"Generate code using this dataframe.\"\n",
              "            style=\"display:none;\">\n",
              "\n",
              "  <svg xmlns=\"http://www.w3.org/2000/svg\" height=\"24px\"viewBox=\"0 0 24 24\"\n",
              "       width=\"24px\">\n",
              "    <path d=\"M7,19H8.4L18.45,9,17,7.55,7,17.6ZM5,21V16.75L18.45,3.32a2,2,0,0,1,2.83,0l1.4,1.43a1.91,1.91,0,0,1,.58,1.4,1.91,1.91,0,0,1-.58,1.4L9.25,21ZM18.45,9,17,7.55Zm-12,3A5.31,5.31,0,0,0,4.9,8.1,5.31,5.31,0,0,0,1,6.5,5.31,5.31,0,0,0,4.9,4.9,5.31,5.31,0,0,0,6.5,1,5.31,5.31,0,0,0,8.1,4.9,5.31,5.31,0,0,0,12,6.5,5.46,5.46,0,0,0,6.5,12Z\"/>\n",
              "  </svg>\n",
              "    </button>\n",
              "    <script>\n",
              "      (() => {\n",
              "      const buttonEl =\n",
              "        document.querySelector('#id_31b6fd8e-98a8-42a0-a947-d3fa6ef04e9b button.colab-df-generate');\n",
              "      buttonEl.style.display =\n",
              "        google.colab.kernel.accessAllowed ? 'block' : 'none';\n",
              "\n",
              "      buttonEl.onclick = () => {\n",
              "        google.colab.notebook.generateWithVariable('data');\n",
              "      }\n",
              "      })();\n",
              "    </script>\n",
              "  </div>\n",
              "\n",
              "    </div>\n",
              "  </div>\n"
            ],
            "application/vnd.google.colaboratory.intrinsic+json": {
              "type": "dataframe",
              "variable_name": "data",
              "summary": "{\n  \"name\": \"data\",\n  \"rows\": 200,\n  \"fields\": [\n    {\n      \"column\": \"TV\",\n      \"properties\": {\n        \"dtype\": \"number\",\n        \"std\": 85.85423631490808,\n        \"min\": 0.7,\n        \"max\": 296.4,\n        \"num_unique_values\": 190,\n        \"samples\": [\n          287.6,\n          286.0,\n          78.2\n        ],\n        \"semantic_type\": \"\",\n        \"description\": \"\"\n      }\n    },\n    {\n      \"column\": \"Radio\",\n      \"properties\": {\n        \"dtype\": \"number\",\n        \"std\": 14.846809176168724,\n        \"min\": 0.0,\n        \"max\": 49.6,\n        \"num_unique_values\": 167,\n        \"samples\": [\n          8.2,\n          36.9,\n          44.5\n        ],\n        \"semantic_type\": \"\",\n        \"description\": \"\"\n      }\n    },\n    {\n      \"column\": \"Newspaper\",\n      \"properties\": {\n        \"dtype\": \"number\",\n        \"std\": 21.778620838522826,\n        \"min\": 0.3,\n        \"max\": 114.0,\n        \"num_unique_values\": 172,\n        \"samples\": [\n          22.3,\n          5.7,\n          17.0\n        ],\n        \"semantic_type\": \"\",\n        \"description\": \"\"\n      }\n    },\n    {\n      \"column\": \"Sales\",\n      \"properties\": {\n        \"dtype\": \"number\",\n        \"std\": 5.283892252561876,\n        \"min\": 1.6,\n        \"max\": 27.0,\n        \"num_unique_values\": 121,\n        \"samples\": [\n          19.8,\n          22.6,\n          17.9\n        ],\n        \"semantic_type\": \"\",\n        \"description\": \"\"\n      }\n    }\n  ]\n}"
            }
          },
          "metadata": {},
          "execution_count": 3
        }
      ]
    },
    {
      "cell_type": "code",
      "source": [
        "data.head(5), data.tail(5)"
      ],
      "metadata": {
        "colab": {
          "base_uri": "https://localhost:8080/"
        },
        "id": "wlYcXvQPEaqD",
        "outputId": "7169a1f0-22a7-48b0-e0d7-6ae5447bd5c6"
      },
      "execution_count": 4,
      "outputs": [
        {
          "output_type": "execute_result",
          "data": {
            "text/plain": [
              "(      TV  Radio  Newspaper  Sales\n",
              " 0  230.1   37.8       69.2   22.1\n",
              " 1   44.5   39.3       45.1   10.4\n",
              " 2   17.2   45.9       69.3   12.0\n",
              " 3  151.5   41.3       58.5   16.5\n",
              " 4  180.8   10.8       58.4   17.9,\n",
              "         TV  Radio  Newspaper  Sales\n",
              " 195   38.2    3.7       13.8    7.6\n",
              " 196   94.2    4.9        8.1   14.0\n",
              " 197  177.0    9.3        6.4   14.8\n",
              " 198  283.6   42.0       66.2   25.5\n",
              " 199  232.1    8.6        8.7   18.4)"
            ]
          },
          "metadata": {},
          "execution_count": 4
        }
      ]
    },
    {
      "cell_type": "code",
      "source": [
        "def correlation(x, y):\n",
        "    x_mean = np.mean(x)\n",
        "    y_mean = np.mean(y)\n",
        "    numerator = np.sum((x - x_mean) * (y - y_mean))\n",
        "    denominator = np.sqrt(np.sum((x - x_mean)**2) * np.sum((y - y_mean)**2))\n",
        "    if denominator == 0:\n",
        "        return 0\n",
        "    return numerator / denominator"
      ],
      "metadata": {
        "id": "eG64ZMa9En5X"
      },
      "execution_count": 6,
      "outputs": []
    },
    {
      "cell_type": "code",
      "source": [
        "## Question 5\n",
        "x = data['TV']\n",
        "y = data['Radio']\n",
        "corr_xy = correlation(x, y)\n",
        "print(f\"Correlation between TV and Radio: {round(corr_xy , 2)}\")"
      ],
      "metadata": {
        "id": "REAf_743JbWl",
        "colab": {
          "base_uri": "https://localhost:8080/"
        },
        "outputId": "d3c51b62-643e-4b7c-94e1-72d5f746e1f7"
      },
      "execution_count": 7,
      "outputs": [
        {
          "output_type": "stream",
          "name": "stdout",
          "text": [
            "Correlation between TV and Radio: 0.05\n"
          ]
        }
      ]
    },
    {
      "cell_type": "code",
      "source": [
        "## Question 6\n",
        "features = ['TV', 'Radio', 'Newspaper']\n",
        "for feature_1 in features:\n",
        "  for feature_2 in features:\n",
        "      correlation_value = correlation(data[feature_1], data[feature_2])\n",
        "      print(f\"{feature_1} and {feature_2}: {round(correlation_value, 2)}\")"
      ],
      "metadata": {
        "id": "40TsxMUnJ26u",
        "colab": {
          "base_uri": "https://localhost:8080/"
        },
        "outputId": "94f26ce2-ada6-471d-f546-2e466e979900"
      },
      "execution_count": 8,
      "outputs": [
        {
          "output_type": "stream",
          "name": "stdout",
          "text": [
            "TV and TV: 1.0\n",
            "TV and Radio: 0.05\n",
            "TV and Newspaper: 0.06\n",
            "Radio and TV: 0.05\n",
            "Radio and Radio: 1.0\n",
            "Radio and Newspaper: 0.35\n",
            "Newspaper and TV: 0.06\n",
            "Newspaper and Radio: 0.35\n",
            "Newspaper and Newspaper: 1.0\n"
          ]
        }
      ]
    },
    {
      "cell_type": "code",
      "source": [
        "## Question 7\n",
        "x = data['Radio']\n",
        "y = data['Newspaper']\n",
        "result = np.corrcoef(x, y)\n",
        "print(result)"
      ],
      "metadata": {
        "colab": {
          "base_uri": "https://localhost:8080/"
        },
        "id": "JPprVBZVD9r3",
        "outputId": "6744191f-3a61-4e85-e4dd-2ba8073fd948"
      },
      "execution_count": 9,
      "outputs": [
        {
          "output_type": "stream",
          "name": "stdout",
          "text": [
            "[[1.         0.35410375]\n",
            " [0.35410375 1.        ]]\n"
          ]
        }
      ]
    },
    {
      "cell_type": "code",
      "source": [
        "## Question 8\n",
        "data_corr_coef = data.corr()\n",
        "data_corr_coef"
      ],
      "metadata": {
        "colab": {
          "base_uri": "https://localhost:8080/",
          "height": 175
        },
        "id": "XkRazpZNEVTL",
        "outputId": "4a47ee47-fb4e-4f7b-a2b5-0436eab63241"
      },
      "execution_count": 10,
      "outputs": [
        {
          "output_type": "execute_result",
          "data": {
            "text/plain": [
              "                 TV     Radio  Newspaper     Sales\n",
              "TV         1.000000  0.054809   0.056648  0.901208\n",
              "Radio      0.054809  1.000000   0.354104  0.349631\n",
              "Newspaper  0.056648  0.354104   1.000000  0.157960\n",
              "Sales      0.901208  0.349631   0.157960  1.000000"
            ],
            "text/html": [
              "\n",
              "  <div id=\"df-fbb57403-137c-4a65-82c3-61e6aef9bb4f\" class=\"colab-df-container\">\n",
              "    <div>\n",
              "<style scoped>\n",
              "    .dataframe tbody tr th:only-of-type {\n",
              "        vertical-align: middle;\n",
              "    }\n",
              "\n",
              "    .dataframe tbody tr th {\n",
              "        vertical-align: top;\n",
              "    }\n",
              "\n",
              "    .dataframe thead th {\n",
              "        text-align: right;\n",
              "    }\n",
              "</style>\n",
              "<table border=\"1\" class=\"dataframe\">\n",
              "  <thead>\n",
              "    <tr style=\"text-align: right;\">\n",
              "      <th></th>\n",
              "      <th>TV</th>\n",
              "      <th>Radio</th>\n",
              "      <th>Newspaper</th>\n",
              "      <th>Sales</th>\n",
              "    </tr>\n",
              "  </thead>\n",
              "  <tbody>\n",
              "    <tr>\n",
              "      <th>TV</th>\n",
              "      <td>1.000000</td>\n",
              "      <td>0.054809</td>\n",
              "      <td>0.056648</td>\n",
              "      <td>0.901208</td>\n",
              "    </tr>\n",
              "    <tr>\n",
              "      <th>Radio</th>\n",
              "      <td>0.054809</td>\n",
              "      <td>1.000000</td>\n",
              "      <td>0.354104</td>\n",
              "      <td>0.349631</td>\n",
              "    </tr>\n",
              "    <tr>\n",
              "      <th>Newspaper</th>\n",
              "      <td>0.056648</td>\n",
              "      <td>0.354104</td>\n",
              "      <td>1.000000</td>\n",
              "      <td>0.157960</td>\n",
              "    </tr>\n",
              "    <tr>\n",
              "      <th>Sales</th>\n",
              "      <td>0.901208</td>\n",
              "      <td>0.349631</td>\n",
              "      <td>0.157960</td>\n",
              "      <td>1.000000</td>\n",
              "    </tr>\n",
              "  </tbody>\n",
              "</table>\n",
              "</div>\n",
              "    <div class=\"colab-df-buttons\">\n",
              "\n",
              "  <div class=\"colab-df-container\">\n",
              "    <button class=\"colab-df-convert\" onclick=\"convertToInteractive('df-fbb57403-137c-4a65-82c3-61e6aef9bb4f')\"\n",
              "            title=\"Convert this dataframe to an interactive table.\"\n",
              "            style=\"display:none;\">\n",
              "\n",
              "  <svg xmlns=\"http://www.w3.org/2000/svg\" height=\"24px\" viewBox=\"0 -960 960 960\">\n",
              "    <path d=\"M120-120v-720h720v720H120Zm60-500h600v-160H180v160Zm220 220h160v-160H400v160Zm0 220h160v-160H400v160ZM180-400h160v-160H180v160Zm440 0h160v-160H620v160ZM180-180h160v-160H180v160Zm440 0h160v-160H620v160Z\"/>\n",
              "  </svg>\n",
              "    </button>\n",
              "\n",
              "  <style>\n",
              "    .colab-df-container {\n",
              "      display:flex;\n",
              "      gap: 12px;\n",
              "    }\n",
              "\n",
              "    .colab-df-convert {\n",
              "      background-color: #E8F0FE;\n",
              "      border: none;\n",
              "      border-radius: 50%;\n",
              "      cursor: pointer;\n",
              "      display: none;\n",
              "      fill: #1967D2;\n",
              "      height: 32px;\n",
              "      padding: 0 0 0 0;\n",
              "      width: 32px;\n",
              "    }\n",
              "\n",
              "    .colab-df-convert:hover {\n",
              "      background-color: #E2EBFA;\n",
              "      box-shadow: 0px 1px 2px rgba(60, 64, 67, 0.3), 0px 1px 3px 1px rgba(60, 64, 67, 0.15);\n",
              "      fill: #174EA6;\n",
              "    }\n",
              "\n",
              "    .colab-df-buttons div {\n",
              "      margin-bottom: 4px;\n",
              "    }\n",
              "\n",
              "    [theme=dark] .colab-df-convert {\n",
              "      background-color: #3B4455;\n",
              "      fill: #D2E3FC;\n",
              "    }\n",
              "\n",
              "    [theme=dark] .colab-df-convert:hover {\n",
              "      background-color: #434B5C;\n",
              "      box-shadow: 0px 1px 3px 1px rgba(0, 0, 0, 0.15);\n",
              "      filter: drop-shadow(0px 1px 2px rgba(0, 0, 0, 0.3));\n",
              "      fill: #FFFFFF;\n",
              "    }\n",
              "  </style>\n",
              "\n",
              "    <script>\n",
              "      const buttonEl =\n",
              "        document.querySelector('#df-fbb57403-137c-4a65-82c3-61e6aef9bb4f button.colab-df-convert');\n",
              "      buttonEl.style.display =\n",
              "        google.colab.kernel.accessAllowed ? 'block' : 'none';\n",
              "\n",
              "      async function convertToInteractive(key) {\n",
              "        const element = document.querySelector('#df-fbb57403-137c-4a65-82c3-61e6aef9bb4f');\n",
              "        const dataTable =\n",
              "          await google.colab.kernel.invokeFunction('convertToInteractive',\n",
              "                                                    [key], {});\n",
              "        if (!dataTable) return;\n",
              "\n",
              "        const docLinkHtml = 'Like what you see? Visit the ' +\n",
              "          '<a target=\"_blank\" href=https://colab.research.google.com/notebooks/data_table.ipynb>data table notebook</a>'\n",
              "          + ' to learn more about interactive tables.';\n",
              "        element.innerHTML = '';\n",
              "        dataTable['output_type'] = 'display_data';\n",
              "        await google.colab.output.renderOutput(dataTable, element);\n",
              "        const docLink = document.createElement('div');\n",
              "        docLink.innerHTML = docLinkHtml;\n",
              "        element.appendChild(docLink);\n",
              "      }\n",
              "    </script>\n",
              "  </div>\n",
              "\n",
              "\n",
              "<div id=\"df-ce03e009-083a-4b64-820c-b016da5e573d\">\n",
              "  <button class=\"colab-df-quickchart\" onclick=\"quickchart('df-ce03e009-083a-4b64-820c-b016da5e573d')\"\n",
              "            title=\"Suggest charts\"\n",
              "            style=\"display:none;\">\n",
              "\n",
              "<svg xmlns=\"http://www.w3.org/2000/svg\" height=\"24px\"viewBox=\"0 0 24 24\"\n",
              "     width=\"24px\">\n",
              "    <g>\n",
              "        <path d=\"M19 3H5c-1.1 0-2 .9-2 2v14c0 1.1.9 2 2 2h14c1.1 0 2-.9 2-2V5c0-1.1-.9-2-2-2zM9 17H7v-7h2v7zm4 0h-2V7h2v10zm4 0h-2v-4h2v4z\"/>\n",
              "    </g>\n",
              "</svg>\n",
              "  </button>\n",
              "\n",
              "<style>\n",
              "  .colab-df-quickchart {\n",
              "      --bg-color: #E8F0FE;\n",
              "      --fill-color: #1967D2;\n",
              "      --hover-bg-color: #E2EBFA;\n",
              "      --hover-fill-color: #174EA6;\n",
              "      --disabled-fill-color: #AAA;\n",
              "      --disabled-bg-color: #DDD;\n",
              "  }\n",
              "\n",
              "  [theme=dark] .colab-df-quickchart {\n",
              "      --bg-color: #3B4455;\n",
              "      --fill-color: #D2E3FC;\n",
              "      --hover-bg-color: #434B5C;\n",
              "      --hover-fill-color: #FFFFFF;\n",
              "      --disabled-bg-color: #3B4455;\n",
              "      --disabled-fill-color: #666;\n",
              "  }\n",
              "\n",
              "  .colab-df-quickchart {\n",
              "    background-color: var(--bg-color);\n",
              "    border: none;\n",
              "    border-radius: 50%;\n",
              "    cursor: pointer;\n",
              "    display: none;\n",
              "    fill: var(--fill-color);\n",
              "    height: 32px;\n",
              "    padding: 0;\n",
              "    width: 32px;\n",
              "  }\n",
              "\n",
              "  .colab-df-quickchart:hover {\n",
              "    background-color: var(--hover-bg-color);\n",
              "    box-shadow: 0 1px 2px rgba(60, 64, 67, 0.3), 0 1px 3px 1px rgba(60, 64, 67, 0.15);\n",
              "    fill: var(--button-hover-fill-color);\n",
              "  }\n",
              "\n",
              "  .colab-df-quickchart-complete:disabled,\n",
              "  .colab-df-quickchart-complete:disabled:hover {\n",
              "    background-color: var(--disabled-bg-color);\n",
              "    fill: var(--disabled-fill-color);\n",
              "    box-shadow: none;\n",
              "  }\n",
              "\n",
              "  .colab-df-spinner {\n",
              "    border: 2px solid var(--fill-color);\n",
              "    border-color: transparent;\n",
              "    border-bottom-color: var(--fill-color);\n",
              "    animation:\n",
              "      spin 1s steps(1) infinite;\n",
              "  }\n",
              "\n",
              "  @keyframes spin {\n",
              "    0% {\n",
              "      border-color: transparent;\n",
              "      border-bottom-color: var(--fill-color);\n",
              "      border-left-color: var(--fill-color);\n",
              "    }\n",
              "    20% {\n",
              "      border-color: transparent;\n",
              "      border-left-color: var(--fill-color);\n",
              "      border-top-color: var(--fill-color);\n",
              "    }\n",
              "    30% {\n",
              "      border-color: transparent;\n",
              "      border-left-color: var(--fill-color);\n",
              "      border-top-color: var(--fill-color);\n",
              "      border-right-color: var(--fill-color);\n",
              "    }\n",
              "    40% {\n",
              "      border-color: transparent;\n",
              "      border-right-color: var(--fill-color);\n",
              "      border-top-color: var(--fill-color);\n",
              "    }\n",
              "    60% {\n",
              "      border-color: transparent;\n",
              "      border-right-color: var(--fill-color);\n",
              "    }\n",
              "    80% {\n",
              "      border-color: transparent;\n",
              "      border-right-color: var(--fill-color);\n",
              "      border-bottom-color: var(--fill-color);\n",
              "    }\n",
              "    90% {\n",
              "      border-color: transparent;\n",
              "      border-bottom-color: var(--fill-color);\n",
              "    }\n",
              "  }\n",
              "</style>\n",
              "\n",
              "  <script>\n",
              "    async function quickchart(key) {\n",
              "      const quickchartButtonEl =\n",
              "        document.querySelector('#' + key + ' button');\n",
              "      quickchartButtonEl.disabled = true;  // To prevent multiple clicks.\n",
              "      quickchartButtonEl.classList.add('colab-df-spinner');\n",
              "      try {\n",
              "        const charts = await google.colab.kernel.invokeFunction(\n",
              "            'suggestCharts', [key], {});\n",
              "      } catch (error) {\n",
              "        console.error('Error during call to suggestCharts:', error);\n",
              "      }\n",
              "      quickchartButtonEl.classList.remove('colab-df-spinner');\n",
              "      quickchartButtonEl.classList.add('colab-df-quickchart-complete');\n",
              "    }\n",
              "    (() => {\n",
              "      let quickchartButtonEl =\n",
              "        document.querySelector('#df-ce03e009-083a-4b64-820c-b016da5e573d button');\n",
              "      quickchartButtonEl.style.display =\n",
              "        google.colab.kernel.accessAllowed ? 'block' : 'none';\n",
              "    })();\n",
              "  </script>\n",
              "</div>\n",
              "\n",
              "  <div id=\"id_19fbd0f7-1f85-4ed8-947e-96feed9ccbdc\">\n",
              "    <style>\n",
              "      .colab-df-generate {\n",
              "        background-color: #E8F0FE;\n",
              "        border: none;\n",
              "        border-radius: 50%;\n",
              "        cursor: pointer;\n",
              "        display: none;\n",
              "        fill: #1967D2;\n",
              "        height: 32px;\n",
              "        padding: 0 0 0 0;\n",
              "        width: 32px;\n",
              "      }\n",
              "\n",
              "      .colab-df-generate:hover {\n",
              "        background-color: #E2EBFA;\n",
              "        box-shadow: 0px 1px 2px rgba(60, 64, 67, 0.3), 0px 1px 3px 1px rgba(60, 64, 67, 0.15);\n",
              "        fill: #174EA6;\n",
              "      }\n",
              "\n",
              "      [theme=dark] .colab-df-generate {\n",
              "        background-color: #3B4455;\n",
              "        fill: #D2E3FC;\n",
              "      }\n",
              "\n",
              "      [theme=dark] .colab-df-generate:hover {\n",
              "        background-color: #434B5C;\n",
              "        box-shadow: 0px 1px 3px 1px rgba(0, 0, 0, 0.15);\n",
              "        filter: drop-shadow(0px 1px 2px rgba(0, 0, 0, 0.3));\n",
              "        fill: #FFFFFF;\n",
              "      }\n",
              "    </style>\n",
              "    <button class=\"colab-df-generate\" onclick=\"generateWithVariable('data_corr_coef')\"\n",
              "            title=\"Generate code using this dataframe.\"\n",
              "            style=\"display:none;\">\n",
              "\n",
              "  <svg xmlns=\"http://www.w3.org/2000/svg\" height=\"24px\"viewBox=\"0 0 24 24\"\n",
              "       width=\"24px\">\n",
              "    <path d=\"M7,19H8.4L18.45,9,17,7.55,7,17.6ZM5,21V16.75L18.45,3.32a2,2,0,0,1,2.83,0l1.4,1.43a1.91,1.91,0,0,1,.58,1.4,1.91,1.91,0,0,1-.58,1.4L9.25,21ZM18.45,9,17,7.55Zm-12,3A5.31,5.31,0,0,0,4.9,8.1,5.31,5.31,0,0,0,1,6.5,5.31,5.31,0,0,0,4.9,4.9,5.31,5.31,0,0,0,6.5,1,5.31,5.31,0,0,0,8.1,4.9,5.31,5.31,0,0,0,12,6.5,5.46,5.46,0,0,0,6.5,12Z\"/>\n",
              "  </svg>\n",
              "    </button>\n",
              "    <script>\n",
              "      (() => {\n",
              "      const buttonEl =\n",
              "        document.querySelector('#id_19fbd0f7-1f85-4ed8-947e-96feed9ccbdc button.colab-df-generate');\n",
              "      buttonEl.style.display =\n",
              "        google.colab.kernel.accessAllowed ? 'block' : 'none';\n",
              "\n",
              "      buttonEl.onclick = () => {\n",
              "        google.colab.notebook.generateWithVariable('data_corr_coef');\n",
              "      }\n",
              "      })();\n",
              "    </script>\n",
              "  </div>\n",
              "\n",
              "    </div>\n",
              "  </div>\n"
            ],
            "application/vnd.google.colaboratory.intrinsic+json": {
              "type": "dataframe",
              "variable_name": "data_corr_coef",
              "summary": "{\n  \"name\": \"data_corr_coef\",\n  \"rows\": 4,\n  \"fields\": [\n    {\n      \"column\": \"TV\",\n      \"properties\": {\n        \"dtype\": \"number\",\n        \"std\": 0.5182290756712874,\n        \"min\": 0.05480866446583008,\n        \"max\": 1.0,\n        \"num_unique_values\": 4,\n        \"samples\": [\n          0.05480866446583008,\n          0.9012079133023315,\n          1.0\n        ],\n        \"semantic_type\": \"\",\n        \"description\": \"\"\n      }\n    },\n    {\n      \"column\": \"Radio\",\n      \"properties\": {\n        \"dtype\": \"number\",\n        \"std\": 0.39896388261461313,\n        \"min\": 0.05480866446583008,\n        \"max\": 1.0,\n        \"num_unique_values\": 4,\n        \"samples\": [\n          1.0,\n          0.34963109700766926,\n          0.05480866446583008\n        ],\n        \"semantic_type\": \"\",\n        \"description\": \"\"\n      }\n    },\n    {\n      \"column\": \"Newspaper\",\n      \"properties\": {\n        \"dtype\": \"number\",\n        \"std\": 0.42360978750776684,\n        \"min\": 0.05664787496505698,\n        \"max\": 1.0,\n        \"num_unique_values\": 4,\n        \"samples\": [\n          0.35410375076117534,\n          0.15796002615492621,\n          0.05664787496505698\n        ],\n        \"semantic_type\": \"\",\n        \"description\": \"\"\n      }\n    },\n    {\n      \"column\": \"Sales\",\n      \"properties\": {\n        \"dtype\": \"number\",\n        \"std\": 0.4118214731886475,\n        \"min\": 0.15796002615492621,\n        \"max\": 1.0,\n        \"num_unique_values\": 4,\n        \"samples\": [\n          0.34963109700766926,\n          1.0,\n          0.9012079133023315\n        ],\n        \"semantic_type\": \"\",\n        \"description\": \"\"\n      }\n    }\n  ]\n}"
            }
          },
          "metadata": {},
          "execution_count": 10
        }
      ]
    },
    {
      "cell_type": "code",
      "source": [
        "## Question 9\n",
        "plt.figure(figsize=(10, 8))\n",
        "sns.heatmap(data_corr_coef, annot=True, fmt=\".2f\", linewidth=.5) # annot (annotation), fmt (format)\n",
        "plt.show()"
      ],
      "metadata": {
        "colab": {
          "base_uri": "https://localhost:8080/",
          "height": 682
        },
        "id": "HNXu7SvGEeAG",
        "outputId": "cf32234b-29b4-45e3-cbff-1e201190d7e8"
      },
      "execution_count": 12,
      "outputs": [
        {
          "output_type": "display_data",
          "data": {
            "text/plain": [
              "<Figure size 1000x800 with 2 Axes>"
            ],
            "image/png": "[encoded data removed]"
          },
          "metadata": {}
        }
      ]
    },
    {
      "cell_type": "markdown",
      "source": [
        "# **3. Vietnamese Text Retrieval**"
      ],
      "metadata": {
        "id": "B_m1dbZzI23Z"
      }
    },
    {
      "cell_type": "code",
      "source": [
        "import pandas as pd\n",
        "import numpy as np\n",
        "from sklearn.metrics.pairwise import cosine_similarity\n",
        "from sklearn.feature_extraction.text import TfidfVectorizer"
      ],
      "metadata": {
        "id": "DdDVXXAkEqLE"
      },
      "execution_count": 13,
      "outputs": []
    },
    {
      "cell_type": "code",
      "source": [
        "!gdown 1jh2p2DlaWsDo_vEWIcTrNh3mUuXd-cw6"
      ],
      "metadata": {
        "colab": {
          "base_uri": "https://localhost:8080/"
        },
        "id": "C4qu9ILzI_lj",
        "outputId": "11fe765d-5219-49df-e4e2-9d36e1b6e8a3"
      },
      "execution_count": 14,
      "outputs": [
        {
          "output_type": "stream",
          "name": "stdout",
          "text": [
            "Downloading...\n",
            "From: https://drive.google.com/uc?id=1jh2p2DlaWsDo_vEWIcTrNh3mUuXd-cw6\n",
            "To: /content/vi_text_retrieval.csv\n",
            "\r  0% 0.00/201k [00:00<?, ?B/s]\r100% 201k/201k [00:00<00:00, 77.1MB/s]\n"
          ]
        }
      ]
    },
    {
      "cell_type": "markdown",
      "source": [
        "## **3.1. TF-IDF** (Term Frequency-Inverse Document Frequency)"
      ],
      "metadata": {
        "id": "eK0Nm2_LJOmd"
      }
    },
    {
      "cell_type": "code",
      "source": [
        "vi_data_df = pd.read_csv(\"./vi_text_retrieval.csv\")\n",
        "vi_data_df"
      ],
      "metadata": {
        "colab": {
          "base_uri": "https://localhost:8080/",
          "height": 423
        },
        "id": "C7L5B2XeJBr9",
        "outputId": "9101408a-4a98-4108-a796-71606da895e6"
      },
      "execution_count": 16,
      "outputs": [
        {
          "output_type": "execute_result",
          "data": {
            "text/plain": [
              "             id                                           question  \\\n",
              "0    1570446247  Quang Hải giành được chức vô địch U21 quốc gia...   \n",
              "1    1570445661                   Mỗi hiệp bóng đá kéo dài bao lâu   \n",
              "2    1570382095            Quân đội Hoa Kỳ gồm những lực lượng nào   \n",
              "3    1570382072                                     Ngọc Lan là ai   \n",
              "4    1570382037         Thu Phương từng được những giải thưởng nào   \n",
              "..          ...                                                ...   \n",
              "495  1569486091  Dân số của Sóc Trăng đứng thứ mấy trong khu vự...   \n",
              "496  1569486072  Các nguyên lý toán học của triết học tự nhiên ...   \n",
              "497  1569486003                    Biến đổi khí hậu Trái Đất là gì   \n",
              "498  1569485614     Phanxicô Xaviê Trương Bửu Diệp mất vào năm nào   \n",
              "499  1569485573  Mật độ dân số của vùng trung du và miền núi ph...   \n",
              "\n",
              "                                                  text  \n",
              "0    Năm 2013 , Nguyễn Quang Hải giành chức vô địch...  \n",
              "1    Một trận đấu bóng đá thông thường có hai hiệp ...  \n",
              "2    Quân đội Hoa Kỳ hay Các lực lượng vũ trang Hoa...  \n",
              "3    Ngọc Lan ( 28 tháng 12 năm 1956 - 6 tháng 3 20...  \n",
              "4    Cô được coi là một trong những ca sĩ thuộc thế...  \n",
              "..                                                 ...  \n",
              "495  Sóc Trăng là một tỉnh ven biển thuộc đồng bằng...  \n",
              "496  Đây là những điều cơ bản tiên quyết của cơ học...  \n",
              "497  Biến đổi khí hậu là những biến đổi trong môi t...  \n",
              "498  Phanxicô Xaviê Trương Bửu Diệp ( 1 tháng 1 năm...  \n",
              "499  Vùng trung du miền núi phía bắc , trước năm 19...  \n",
              "\n",
              "[500 rows x 3 columns]"
            ],
            "text/html": [
              "\n",
              "  <div id=\"df-74961bec-ed8f-439d-9371-45ff3acea200\" class=\"colab-df-container\">\n",
              "    <div>\n",
              "<style scoped>\n",
              "    .dataframe tbody tr th:only-of-type {\n",
              "        vertical-align: middle;\n",
              "    }\n",
              "\n",
              "    .dataframe tbody tr th {\n",
              "        vertical-align: top;\n",
              "    }\n",
              "\n",
              "    .dataframe thead th {\n",
              "        text-align: right;\n",
              "    }\n",
              "</style>\n",
              "<table border=\"1\" class=\"dataframe\">\n",
              "  <thead>\n",
              "    <tr style=\"text-align: right;\">\n",
              "      <th></th>\n",
              "      <th>id</th>\n",
              "      <th>question</th>\n",
              "      <th>text</th>\n",
              "    </tr>\n",
              "  </thead>\n",
              "  <tbody>\n",
              "    <tr>\n",
              "      <th>0</th>\n",
              "      <td>1570446247</td>\n",
              "      <td>Quang Hải giành được chức vô địch U21 quốc gia...</td>\n",
              "      <td>Năm 2013 , Nguyễn Quang Hải giành chức vô địch...</td>\n",
              "    </tr>\n",
              "    <tr>\n",
              "      <th>1</th>\n",
              "      <td>1570445661</td>\n",
              "      <td>Mỗi hiệp bóng đá kéo dài bao lâu</td>\n",
              "      <td>Một trận đấu bóng đá thông thường có hai hiệp ...</td>\n",
              "    </tr>\n",
              "    <tr>\n",
              "      <th>2</th>\n",
              "      <td>1570382095</td>\n",
              "      <td>Quân đội Hoa Kỳ gồm những lực lượng nào</td>\n",
              "      <td>Quân đội Hoa Kỳ hay Các lực lượng vũ trang Hoa...</td>\n",
              "    </tr>\n",
              "    <tr>\n",
              "      <th>3</th>\n",
              "      <td>1570382072</td>\n",
              "      <td>Ngọc Lan là ai</td>\n",
              "      <td>Ngọc Lan ( 28 tháng 12 năm 1956 - 6 tháng 3 20...</td>\n",
              "    </tr>\n",
              "    <tr>\n",
              "      <th>4</th>\n",
              "      <td>1570382037</td>\n",
              "      <td>Thu Phương từng được những giải thưởng nào</td>\n",
              "      <td>Cô được coi là một trong những ca sĩ thuộc thế...</td>\n",
              "    </tr>\n",
              "    <tr>\n",
              "      <th>...</th>\n",
              "      <td>...</td>\n",
              "      <td>...</td>\n",
              "      <td>...</td>\n",
              "    </tr>\n",
              "    <tr>\n",
              "      <th>495</th>\n",
              "      <td>1569486091</td>\n",
              "      <td>Dân số của Sóc Trăng đứng thứ mấy trong khu vự...</td>\n",
              "      <td>Sóc Trăng là một tỉnh ven biển thuộc đồng bằng...</td>\n",
              "    </tr>\n",
              "    <tr>\n",
              "      <th>496</th>\n",
              "      <td>1569486072</td>\n",
              "      <td>Các nguyên lý toán học của triết học tự nhiên ...</td>\n",
              "      <td>Đây là những điều cơ bản tiên quyết của cơ học...</td>\n",
              "    </tr>\n",
              "    <tr>\n",
              "      <th>497</th>\n",
              "      <td>1569486003</td>\n",
              "      <td>Biến đổi khí hậu Trái Đất là gì</td>\n",
              "      <td>Biến đổi khí hậu là những biến đổi trong môi t...</td>\n",
              "    </tr>\n",
              "    <tr>\n",
              "      <th>498</th>\n",
              "      <td>1569485614</td>\n",
              "      <td>Phanxicô Xaviê Trương Bửu Diệp mất vào năm nào</td>\n",
              "      <td>Phanxicô Xaviê Trương Bửu Diệp ( 1 tháng 1 năm...</td>\n",
              "    </tr>\n",
              "    <tr>\n",
              "      <th>499</th>\n",
              "      <td>1569485573</td>\n",
              "      <td>Mật độ dân số của vùng trung du và miền núi ph...</td>\n",
              "      <td>Vùng trung du miền núi phía bắc , trước năm 19...</td>\n",
              "    </tr>\n",
              "  </tbody>\n",
              "</table>\n",
              "<p>500 rows × 3 columns</p>\n",
              "</div>\n",
              "    <div class=\"colab-df-buttons\">\n",
              "\n",
              "  <div class=\"colab-df-container\">\n",
              "    <button class=\"colab-df-convert\" onclick=\"convertToInteractive('df-74961bec-ed8f-439d-9371-45ff3acea200')\"\n",
              "            title=\"Convert this dataframe to an interactive table.\"\n",
              "            style=\"display:none;\">\n",
              "\n",
              "  <svg xmlns=\"http://www.w3.org/2000/svg\" height=\"24px\" viewBox=\"0 -960 960 960\">\n",
              "    <path d=\"M120-120v-720h720v720H120Zm60-500h600v-160H180v160Zm220 220h160v-160H400v160Zm0 220h160v-160H400v160ZM180-400h160v-160H180v160Zm440 0h160v-160H620v160ZM180-180h160v-160H180v160Zm440 0h160v-160H620v160Z\"/>\n",
              "  </svg>\n",
              "    </button>\n",
              "\n",
              "  <style>\n",
              "    .colab-df-container {\n",
              "      display:flex;\n",
              "      gap: 12px;\n",
              "    }\n",
              "\n",
              "    .colab-df-convert {\n",
              "      background-color: #E8F0FE;\n",
              "      border: none;\n",
              "      border-radius: 50%;\n",
              "      cursor: pointer;\n",
              "      display: none;\n",
              "      fill: #1967D2;\n",
              "      height: 32px;\n",
              "      padding: 0 0 0 0;\n",
              "      width: 32px;\n",
              "    }\n",
              "\n",
              "    .colab-df-convert:hover {\n",
              "      background-color: #E2EBFA;\n",
              "      box-shadow: 0px 1px 2px rgba(60, 64, 67, 0.3), 0px 1px 3px 1px rgba(60, 64, 67, 0.15);\n",
              "      fill: #174EA6;\n",
              "    }\n",
              "\n",
              "    .colab-df-buttons div {\n",
              "      margin-bottom: 4px;\n",
              "    }\n",
              "\n",
              "    [theme=dark] .colab-df-convert {\n",
              "      background-color: #3B4455;\n",
              "      fill: #D2E3FC;\n",
              "    }\n",
              "\n",
              "    [theme=dark] .colab-df-convert:hover {\n",
              "      background-color: #434B5C;\n",
              "      box-shadow: 0px 1px 3px 1px rgba(0, 0, 0, 0.15);\n",
              "      filter: drop-shadow(0px 1px 2px rgba(0, 0, 0, 0.3));\n",
              "      fill: #FFFFFF;\n",
              "    }\n",
              "  </style>\n",
              "\n",
              "    <script>\n",
              "      const buttonEl =\n",
              "        document.querySelector('#df-74961bec-ed8f-439d-9371-45ff3acea200 button.colab-df-convert');\n",
              "      buttonEl.style.display =\n",
              "        google.colab.kernel.accessAllowed ? 'block' : 'none';\n",
              "\n",
              "      async function convertToInteractive(key) {\n",
              "        const element = document.querySelector('#df-74961bec-ed8f-439d-9371-45ff3acea200');\n",
              "        const dataTable =\n",
              "          await google.colab.kernel.invokeFunction('convertToInteractive',\n",
              "                                                    [key], {});\n",
              "        if (!dataTable) return;\n",
              "\n",
              "        const docLinkHtml = 'Like what you see? Visit the ' +\n",
              "          '<a target=\"_blank\" href=https://colab.research.google.com/notebooks/data_table.ipynb>data table notebook</a>'\n",
              "          + ' to learn more about interactive tables.';\n",
              "        element.innerHTML = '';\n",
              "        dataTable['output_type'] = 'display_data';\n",
              "        await google.colab.output.renderOutput(dataTable, element);\n",
              "        const docLink = document.createElement('div');\n",
              "        docLink.innerHTML = docLinkHtml;\n",
              "        element.appendChild(docLink);\n",
              "      }\n",
              "    </script>\n",
              "  </div>\n",
              "\n",
              "\n",
              "<div id=\"df-4d6503dc-ccd9-44ff-b2a5-548acae9aacc\">\n",
              "  <button class=\"colab-df-quickchart\" onclick=\"quickchart('df-4d6503dc-ccd9-44ff-b2a5-548acae9aacc')\"\n",
              "            title=\"Suggest charts\"\n",
              "            style=\"display:none;\">\n",
              "\n",
              "<svg xmlns=\"http://www.w3.org/2000/svg\" height=\"24px\"viewBox=\"0 0 24 24\"\n",
              "     width=\"24px\">\n",
              "    <g>\n",
              "        <path d=\"M19 3H5c-1.1 0-2 .9-2 2v14c0 1.1.9 2 2 2h14c1.1 0 2-.9 2-2V5c0-1.1-.9-2-2-2zM9 17H7v-7h2v7zm4 0h-2V7h2v10zm4 0h-2v-4h2v4z\"/>\n",
              "    </g>\n",
              "</svg>\n",
              "  </button>\n",
              "\n",
              "<style>\n",
              "  .colab-df-quickchart {\n",
              "      --bg-color: #E8F0FE;\n",
              "      --fill-color: #1967D2;\n",
              "      --hover-bg-color: #E2EBFA;\n",
              "      --hover-fill-color: #174EA6;\n",
              "      --disabled-fill-color: #AAA;\n",
              "      --disabled-bg-color: #DDD;\n",
              "  }\n",
              "\n",
              "  [theme=dark] .colab-df-quickchart {\n",
              "      --bg-color: #3B4455;\n",
              "      --fill-color: #D2E3FC;\n",
              "      --hover-bg-color: #434B5C;\n",
              "      --hover-fill-color: #FFFFFF;\n",
              "      --disabled-bg-color: #3B4455;\n",
              "      --disabled-fill-color: #666;\n",
              "  }\n",
              "\n",
              "  .colab-df-quickchart {\n",
              "    background-color: var(--bg-color);\n",
              "    border: none;\n",
              "    border-radius: 50%;\n",
              "    cursor: pointer;\n",
              "    display: none;\n",
              "    fill: var(--fill-color);\n",
              "    height: 32px;\n",
              "    padding: 0;\n",
              "    width: 32px;\n",
              "  }\n",
              "\n",
              "  .colab-df-quickchart:hover {\n",
              "    background-color: var(--hover-bg-color);\n",
              "    box-shadow: 0 1px 2px rgba(60, 64, 67, 0.3), 0 1px 3px 1px rgba(60, 64, 67, 0.15);\n",
              "    fill: var(--button-hover-fill-color);\n",
              "  }\n",
              "\n",
              "  .colab-df-quickchart-complete:disabled,\n",
              "  .colab-df-quickchart-complete:disabled:hover {\n",
              "    background-color: var(--disabled-bg-color);\n",
              "    fill: var(--disabled-fill-color);\n",
              "    box-shadow: none;\n",
              "  }\n",
              "\n",
              "  .colab-df-spinner {\n",
              "    border: 2px solid var(--fill-color);\n",
              "    border-color: transparent;\n",
              "    border-bottom-color: var(--fill-color);\n",
              "    animation:\n",
              "      spin 1s steps(1) infinite;\n",
              "  }\n",
              "\n",
              "  @keyframes spin {\n",
              "    0% {\n",
              "      border-color: transparent;\n",
              "      border-bottom-color: var(--fill-color);\n",
              "      border-left-color: var(--fill-color);\n",
              "    }\n",
              "    20% {\n",
              "      border-color: transparent;\n",
              "      border-left-color: var(--fill-color);\n",
              "      border-top-color: var(--fill-color);\n",
              "    }\n",
              "    30% {\n",
              "      border-color: transparent;\n",
              "      border-left-color: var(--fill-color);\n",
              "      border-top-color: var(--fill-color);\n",
              "      border-right-color: var(--fill-color);\n",
              "    }\n",
              "    40% {\n",
              "      border-color: transparent;\n",
              "      border-right-color: var(--fill-color);\n",
              "      border-top-color: var(--fill-color);\n",
              "    }\n",
              "    60% {\n",
              "      border-color: transparent;\n",
              "      border-right-color: var(--fill-color);\n",
              "    }\n",
              "    80% {\n",
              "      border-color: transparent;\n",
              "      border-right-color: var(--fill-color);\n",
              "      border-bottom-color: var(--fill-color);\n",
              "    }\n",
              "    90% {\n",
              "      border-color: transparent;\n",
              "      border-bottom-color: var(--fill-color);\n",
              "    }\n",
              "  }\n",
              "</style>\n",
              "\n",
              "  <script>\n",
              "    async function quickchart(key) {\n",
              "      const quickchartButtonEl =\n",
              "        document.querySelector('#' + key + ' button');\n",
              "      quickchartButtonEl.disabled = true;  // To prevent multiple clicks.\n",
              "      quickchartButtonEl.classList.add('colab-df-spinner');\n",
              "      try {\n",
              "        const charts = await google.colab.kernel.invokeFunction(\n",
              "            'suggestCharts', [key], {});\n",
              "      } catch (error) {\n",
              "        console.error('Error during call to suggestCharts:', error);\n",
              "      }\n",
              "      quickchartButtonEl.classList.remove('colab-df-spinner');\n",
              "      quickchartButtonEl.classList.add('colab-df-quickchart-complete');\n",
              "    }\n",
              "    (() => {\n",
              "      let quickchartButtonEl =\n",
              "        document.querySelector('#df-4d6503dc-ccd9-44ff-b2a5-548acae9aacc button');\n",
              "      quickchartButtonEl.style.display =\n",
              "        google.colab.kernel.accessAllowed ? 'block' : 'none';\n",
              "    })();\n",
              "  </script>\n",
              "</div>\n",
              "\n",
              "  <div id=\"id_26a852ac-f709-48a0-99fd-9ce95b35d6b3\">\n",
              "    <style>\n",
              "      .colab-df-generate {\n",
              "        background-color: #E8F0FE;\n",
              "        border: none;\n",
              "        border-radius: 50%;\n",
              "        cursor: pointer;\n",
              "        display: none;\n",
              "        fill: #1967D2;\n",
              "        height: 32px;\n",
              "        padding: 0 0 0 0;\n",
              "        width: 32px;\n",
              "      }\n",
              "\n",
              "      .colab-df-generate:hover {\n",
              "        background-color: #E2EBFA;\n",
              "        box-shadow: 0px 1px 2px rgba(60, 64, 67, 0.3), 0px 1px 3px 1px rgba(60, 64, 67, 0.15);\n",
              "        fill: #174EA6;\n",
              "      }\n",
              "\n",
              "      [theme=dark] .colab-df-generate {\n",
              "        background-color: #3B4455;\n",
              "        fill: #D2E3FC;\n",
              "      }\n",
              "\n",
              "      [theme=dark] .colab-df-generate:hover {\n",
              "        background-color: #434B5C;\n",
              "        box-shadow: 0px 1px 3px 1px rgba(0, 0, 0, 0.15);\n",
              "        filter: drop-shadow(0px 1px 2px rgba(0, 0, 0, 0.3));\n",
              "        fill: #FFFFFF;\n",
              "      }\n",
              "    </style>\n",
              "    <button class=\"colab-df-generate\" onclick=\"generateWithVariable('vi_data_df')\"\n",
              "            title=\"Generate code using this dataframe.\"\n",
              "            style=\"display:none;\">\n",
              "\n",
              "  <svg xmlns=\"http://www.w3.org/2000/svg\" height=\"24px\"viewBox=\"0 0 24 24\"\n",
              "       width=\"24px\">\n",
              "    <path d=\"M7,19H8.4L18.45,9,17,7.55,7,17.6ZM5,21V16.75L18.45,3.32a2,2,0,0,1,2.83,0l1.4,1.43a1.91,1.91,0,0,1,.58,1.4,1.91,1.91,0,0,1-.58,1.4L9.25,21ZM18.45,9,17,7.55Zm-12,3A5.31,5.31,0,0,0,4.9,8.1,5.31,5.31,0,0,0,1,6.5,5.31,5.31,0,0,0,4.9,4.9,5.31,5.31,0,0,0,6.5,1,5.31,5.31,0,0,0,8.1,4.9,5.31,5.31,0,0,0,12,6.5,5.46,5.46,0,0,0,6.5,12Z\"/>\n",
              "  </svg>\n",
              "    </button>\n",
              "    <script>\n",
              "      (() => {\n",
              "      const buttonEl =\n",
              "        document.querySelector('#id_26a852ac-f709-48a0-99fd-9ce95b35d6b3 button.colab-df-generate');\n",
              "      buttonEl.style.display =\n",
              "        google.colab.kernel.accessAllowed ? 'block' : 'none';\n",
              "\n",
              "      buttonEl.onclick = () => {\n",
              "        google.colab.notebook.generateWithVariable('vi_data_df');\n",
              "      }\n",
              "      })();\n",
              "    </script>\n",
              "  </div>\n",
              "\n",
              "    </div>\n",
              "  </div>\n"
            ],
            "application/vnd.google.colaboratory.intrinsic+json": {
              "type": "dataframe",
              "variable_name": "vi_data_df",
              "summary": "{\n  \"name\": \"vi_data_df\",\n  \"rows\": 500,\n  \"fields\": [\n    {\n      \"column\": \"id\",\n      \"properties\": {\n        \"dtype\": \"number\",\n        \"std\": 357950,\n        \"min\": 1569485573,\n        \"max\": 1570446247,\n        \"num_unique_values\": 500,\n        \"samples\": [\n          1569590998,\n          1570375367,\n          1569590542\n        ],\n        \"semantic_type\": \"\",\n        \"description\": \"\"\n      }\n    },\n    {\n      \"column\": \"question\",\n      \"properties\": {\n        \"dtype\": \"string\",\n        \"num_unique_values\": 500,\n        \"samples\": [\n          \"Karl Heinrich Marx l\\u00e0 ai\",\n          \"Yoona sinh ng\\u00e0y m\\u1ea5y\",\n          \"D\\u1ea5u hi\\u1ec7u c\\u1ee7a b\\u1ec7nh r\\u1ed1i lo\\u1ea1n \\u00e1m \\u1ea3nh c\\u01b0\\u1ee1ng ch\\u1ebf\"\n        ],\n        \"semantic_type\": \"\",\n        \"description\": \"\"\n      }\n    },\n    {\n      \"column\": \"text\",\n      \"properties\": {\n        \"dtype\": \"string\",\n        \"num_unique_values\": 442,\n        \"samples\": [\n          \"Tr\\u00ean \\u0111\\u1ec9nh n\\u00fai th\\u01b0\\u1eddng c\\u00f3 m\\u00e2y bao ph\\u1ee7 n\\u00ean ng\\u00e0y tr\\u01b0\\u1edbc c\\u00f3 t\\u00ean g\\u1ecdi l\\u00e0 B\\u1ea1ch V\\u00e2n s\\u01a1n . T\\u1ed5ng chi\\u1ec1u d\\u00e0i \\u0111\\u01b0\\u1eddng b\\u1ed9 \\u0111\\u1ec3 l\\u00ean \\u0111\\u1ec9nh Y\\u00ean T\\u1eed ( ch\\u00f9a \\u0110\\u1ed3ng ) l\\u00e0 kho\\u1ea3ng 6000m v\\u1edbi 6 gi\\u1edd \\u0111i b\\u1ed9 li\\u00ean t\\u1ee5c qua h\\u00e0ng ng\\u00e0n b\\u1eadc \\u0111\\u00e1 , \\u0111\\u01b0\\u1eddng r\\u1eebng n\\u00fai ...\",\n          \"Hi\\u1ec7n nay Lu\\u1eadt b\\u00f3ng \\u0111\\u00e1 ch\\u00ednh th\\u1ee9c c\\u00f3 17 \\u0111i\\u1ec1u \\u0111\\u01b0\\u1ee3c \\u00e1p d\\u1ee5ng cho m\\u1ecdi c\\u1ea5p \\u0111\\u1ed9 ch\\u01a1i b\\u00f3ng v\\u00e0 ch\\u1ec9 c\\u00f3 m\\u1ed9t v\\u00e0i s\\u1eeda \\u0111\\u1ed5i nh\\u1ecf cho ph\\u00f9 h\\u1ee3p v\\u1edbi b\\u00f3ng \\u0111\\u00e1 n\\u1eef v\\u00e0 b\\u00f3ng \\u0111\\u00e1 tr\\u1ebb .\",\n          \"Ng\\u00f4n ng\\u1eef l\\u1eadp tr\\u00ecnh l\\u00e0 m\\u1ed9t t\\u1eadp con c\\u1ee7a ng\\u00f4n ng\\u1eef m\\u00e1y t\\u00ednh , \\u0111\\u01b0\\u1ee3c thi\\u1ebft k\\u1ebf v\\u00e0 chu\\u1ea9n ho\\u00e1 \\u0111\\u1ec3 truy\\u1ec1n c\\u00e1c ch\\u1ec9 th\\u1ecb cho c\\u00e1c m\\u00e1y c\\u00f3 b\\u1ed9 x\\u1eed l\\u00fd ( CPU ) , n\\u00f3i ri\\u00eang l\\u00e0 m\\u00e1y t\\u00ednh . Ng\\u00f4n ng\\u1eef l\\u1eadp tr\\u00ecnh \\u0111\\u01b0\\u1ee3c d\\u00f9ng \\u0111\\u1ec3 l\\u1eadp tr\\u00ecnh m\\u00e1y t\\u00ednh , t\\u1ea1o ra c\\u00e1c ch\\u01b0\\u01a1ng tr\\u00ecnh m\\u00e1y nh\\u1eb1m m\\u1ee5c \\u0111\\u00edch \\u0111i\\u1ec1u khi\\u1ec3n m\\u00e1y t\\u00ednh ho\\u1eb7c m\\u00f4 t\\u1ea3 c\\u00e1c thu\\u1eadt to\\u00e1n \\u0111\\u1ec3 ng\\u01b0\\u1eddi kh\\u00e1c \\u0111\\u1ecdc hi\\u1ec3u .\"\n        ],\n        \"semantic_type\": \"\",\n        \"description\": \"\"\n      }\n    }\n  ]\n}"
            }
          },
          "metadata": {},
          "execution_count": 16
        }
      ]
    },
    {
      "cell_type": "code",
      "source": [
        "context = vi_data_df['text']\n",
        "context = [doc.lower() for doc in context]\n",
        "context"
      ],
      "metadata": {
        "colab": {
          "base_uri": "https://localhost:8080/"
        },
        "id": "24-aGTXbJjBZ",
        "outputId": "c670141d-2375-49ca-cb09-50dc6cab3068"
      },
      "execution_count": 20,
      "outputs": [
        {
          "output_type": "execute_result",
          "data": {
            "text/plain": [
              "['năm 2013 , nguyễn quang hải giành chức vô địch u21 quốc gia 2013 cùng với đội trẻ hà nội t&t và tạo nên cú sốc khi trở thành cầu thủ 16 tuổi đầu tiên giành được danh hiệu vô địch u21 quốc gia .',\n",
              " 'một trận đấu bóng đá thông thường có hai hiệp , mỗi hiệp 45 phút với khoảng thời gian 15 phút nghỉ giữa hai hiệp .',\n",
              " 'quân đội hoa kỳ hay các lực lượng vũ trang hoa kỳ là tổng hợp các lực lượng quân sự thống nhất của hoa kỳ . các lực lượng này gồm có lục quân , hải quân , thuỷ quân lục chiến , không quân và tuần duyên .',\n",
              " 'ngọc lan ( 28 tháng 12 năm 1956 - 6 tháng 3 2001 ) là một ca sĩ hải ngoại nổi tiếng . không chỉ với giọng hát , cô còn được khán giả đặc biệt yêu mến vì khuôn mặt khả ái và tính cách nhút nhát , khiêm tốn của mình .',\n",
              " 'cô được coi là một trong những ca sĩ thuộc thế hệ thứ hai của nền nhạc nhẹ việt nam đạt được nhiều giải thưởng nhất .',\n",
              " 'na uy ( bokmål : \" norge \" ; nynorsk : \" noreg \" ) , tên chính thức là vương quốc na uy ( bokmål : \" kongeriket norge \" ; nynorsk : \" kongeriket noreg \" ) , là một quốc gia theo thể chế quân chủ lập hiến tại bắc âu chiếm phần phía tây bán đảo scandinavie . nước này giáp biên giới với thuỵ điển , phần lan , và nga . khoảng cách từ các phần phía bắc và phía nam na uy lớn hơn rất nhiều so với khoảng cách từ đông sang tây .',\n",
              " 'bà tên thật là nguyễn thị xuân quỳnh , sinh ngày 6 tháng 10 năm 1942 tại làng la khê , xã văn khê , thị xã hà đông , tỉnh hà tây ( nay là quận hà đông , hà nội ) . xuất thân trong một gia đình công chức , mẹ mất sớm , bố thường xuyên công tác xa gia đình , bà được bà nội nuôi dạy từ nhỏ đến khi trưởng thành .',\n",
              " 'đế quốc mông cổ (tiếng mông cổ: монголын эзэнт гүрэн, chuyển tự mongol-yn ezent güren ipa: [mɔŋɡ(ɔ)ɮˈiːŋ ɛt͡sˈɛnt ˈɡurəŋ] (nghe)) là đế quốc du mục lớn nhất trong lịch sử, từng tồn tại trong các thế kỷ 13 và 14.[2] khởi đầu trên vùng thảo nguyên trung á, đế quốc cuối cùng đã trải dài từ đông âu đến biển nhật bản, bao gồm nhiều phần rộng lớn của siberi ở phía bắc và mở rộng về phía nam đến đông nam á, tiểu lục địa ấn độ, cao nguyên iran, và trung đông. ở thời điểm đỉnh cao, đế quốc mông cổ trải dài 9.700 km (6.000 mi), diện tích lãnh thổ lên tới 24.000.000 km2 (9.300.000 sq mi),[3][4][5][6] và thống trị 100 triệu dân.',\n",
              " 'trong hoá học , kim loại ( tiếng hy lạp là \" metallon \" ) là nguyên tố có thể tạo ra các ion dương ( cation ) và có các liên kết kim loại , và đôi khi người ta cho rằng nó tương tự như là cation trong đám mây các điện tử .',\n",
              " 'bangladesh ( , ,   \" đất nước bengal \" , phiên âm tiếng việt : băng-la-đét ) , tên chính thức : cộng hoà nhân dân bangladesh ( tiếng bengal : গণপ্রজাতন্ত্রী বাংলাদেশ ) , là một quốc gia ở vùng nam á. địa giới bangladesh giáp ấn độ ở phía tây , bắc , và đông nên gần như bị bao vây trừ một đoạn biên giới giáp với myanma ở phía cực đông nam và vịnh bengal ở phía nam .',\n",
              " 'ibrahimović bắt đầu sự nghiệp cầu thủ bóng đá tại clb malmö ff cuối những năm 1990 trước khi được ajax - nơi đầu tiên làm nên tên tuổi của anh - ký hợp đồng . anh sau đó đầu quân cho juventus fc và cùng với david trezeguet tạo nên một cặp tiền đạo khét tiếng .',\n",
              " 'hy lạp cũng là nơi ra đời thế vận hội ( olympic ) đầu tiên vào năm 776 trước công nguyên và được tổ chức 4 năm một lần , khởi nguồn của thế vận hội olympic hiện đại ngày nay .',\n",
              " 'dân số bangladesh xếp hạng thứ bảy trên thế giới, nhưng với diện tích chỉ gần 144.000 km2 nó đứng hàng thứ 94, biến nước này trở thành một trong những nước có mật độ dân số cao nhất thế giới.',\n",
              " 'bảng anh ( ký hiệu £ , mã iso : gbp ) tức anh kim là đơn vị tiền tệ chính thức của vương quốc anh và các lãnh thổ hải ngoại , thuộc địa .',\n",
              " 'tôn trung sơn, nguyên danh là tôn văn, tự tải chi, hiệu nhật tân, dật tiên là nhà cách mạng trung quốc, người đóng vai trò quan trọng trong cuộc cách mạng tân hợi năm 1911 lật đổ triều đại mãn thanh và khai sinh ra trung hoa dân quốc.',\n",
              " 'bức hoạ mona lisa hiện được treo tại bảo tàng louvre ở paris , pháp . danh tiếng ngày càng tăng của bức hoạ còn lớn thêm khi nó bị ăn trộm ngày 21 tháng 8 năm 1911 . ngày hôm sau , louis béroud , một hoạ sĩ , đi vào louvre và vào salon carré nơi bức tranh \" mona lisa \" đã được trưng bày trong năm năm .',\n",
              " 'nguyễn công phượng ( sinh ngày 21 tháng 1 năm 1995 tại mỹ sơn , đô lương , nghệ an ) là một cầu thủ bóng đá chuyên nghiệp người việt nam hiện đang thi đấu ở vị trí tiền đạo câu lạc bộ hoàng anh gia lai tại  v.league 1  và đội tuyển quốc gia việt nam .',\n",
              " 'sân bay này hiện đang là sân bay bận rộn thứ hai trên thế giới ( sau sân bay quốc tế hartsfield-jackson atlanta ) và là sân bay bận rộn nhất châu á. sau khi được nâng cấp để phục vụ cho thế vận hội mùa hè 2008 , sân bay hiện có ba nhà ga , trong đó nhà ga 3 là một trong số các nhà ga sân bay lớn nhất thế giới .',\n",
              " 'iran (tiếng ba tư: ایران\\u200e irān [ʔiːˈɾɒːn] (nghe)), gọi chính thức là nước cộng hòa hồi giáo iran (tiếng ba tư: جمهوری اسلامی ایران\\u200e jomhuri-ye eslāmi-ye irān về âm thanh nàyphát âm (trợ giúp·thông tin)),[14] là một quốc gia có chủ quyền tại tây á.[15][16] iran có biên giới về phía tây bắc với armenia, azerbaijan, và cộng hoà artsakh tự xưng; phía bắc giáp biển caspi; phía đông bắc giáp turkmenistan; phía đông giáp afghanistan và pakistan; phía nam giáp vịnh ba tư và vịnh oman; còn phía tây giáp thổ nhĩ kỳ và iraq (khu vực kurdistan)',\n",
              " 'hàm nghi ( chữ hán : 咸宜 ; 3 tháng 8 năm 1871 – 14 tháng 1 năm 1944 ) , tên thật nguyễn phúc ưng lịch , là vị hoàng đế thứ tám của nhà nguyễn , triều đại phong kiến cuối cùng trong lịch sử việt nam .',\n",
              " 'chèo là loại hình nghệ thuật sân khấu cổ truyền việt nam . chèo phát triển mạnh ở phía bắc việt nam với trọng tâm là vùng châu thổ sông hồng cùng hai khu vực lan toả là trung du miền núi bắc bộ và bắc trung bộ .',\n",
              " 'cuối cùng , tới năm 1883 , tự đức qua đời , ngay sau đó pháp tấn công vào kinh đô và ép buộc nhà nguyễn phải công nhận sự \" bảo hộ \" của pháp trên toàn đại nam . nhà nguyễn sau thời tự đức chỉ còn là danh nghĩa , thực tế thì đã mất nước vào tay pháp .',\n",
              " 'hậu giang là tỉnh ở trung tâm châu thổ sông mê kông , thuộc khu vực nội địa của đồng bằng sông cửu long . trước năm 1976 , hậu giang là tên gọi của sông hậu . vùng đất thuộc tỉnh hậu giang ngày nay trước năm 1956 nằm rải rác thuộc tỉnh cần thơ và tỉnh rạch giá .',\n",
              " 'tại hội an có phố cổ hội an với những di sản kiến trúc đã có từ hàng trăm năm trước , được công nhận là di sản văn hoá của unesco từ năm 1999 .',\n",
              " 'hy lạp cũng là nơi ra đời thế vận hội ( olympic ) đầu tiên vào năm 776 trước công nguyên và được tổ chức 4 năm một lần , khởi nguồn của thế vận hội olympic hiện đại ngày nay .',\n",
              " 'hai tôn giáo chính ở bangladesh là hồi giáo ( 88% theo ước tính của bộ nội vụ hoa kỳ , 2005 ) và hindu giáo ( 11% theo ước tính của bộ nội vụ hoa kỳ , 2005 ) . dân tộc bihari chủ yếu là người hồi giáo shia . các nhóm tôn giáo khác gồm phật giáo , thiên chúa giáo và thuyết duy linh .',\n",
              " 'phùng xuân nhạ sinh ngày 3 tháng 6 năm 1963 tại xã tống phan , huyện phù cừ , tỉnh hưng yên . ông là một giáo sư , tiến sĩ ngành kinh tế , chủ tịch hội đồng chức danh giáo sư nhà nước , và là một chính khách việt nam .',\n",
              " 'sau đó , nhà sử học ngô sĩ liên dựa trên các tác phẩm của lê văn hưu và phan phu tiên để biên soạn bộ \" đại việt sử ký toàn thư \" bao gồm 15 quyển được hoàn thành năm 1479 .',\n",
              " 'giáo hoàng là vị giám mục của giáo phận rôma, lãnh đạo của giáo hội công giáo toàn thế giới. theo quan điểm của giáo hội công giáo, giáo hoàng là người kế vị thánh phêrô - tông đồ trưởng của chúa giêsu, với vai trò là người giữ chìa khóa thiên đàng, là \"tảng đá\" để xây dựng nên giáo hội.',\n",
              " 'trong khoa đo lường, ppm là đơn vị đo mật độ thường dành cho các mật độ tương đối thấp. nó thường chỉ tỷ lệ của lượng một chất trong tổng số lượng của hỗn hợp chứa chất đó. ở đây lượng có thể hiểu là khối lượng, thể tích, số hạt (số mol),... ... chữ ppm xuất phát từ tiếng anh parts per million nghĩa là một phần triệu.',\n",
              " 'bắt đầu từ thế kỷ xvi , méxico bị thực dân tây ban nha đô hộ và đến năm 1810 thì tuyên bố độc lập và chính thức được công nhận vào năm 1821 . méxico hiện nay là quốc gia mỹ latinh duy nhất nằm trong tổ chức hợp tác và phát triển kinh tế .',\n",
              " 'phan châu trinh ( còn được gọi phan chu trinh ; 1872 – 1926 ) , hiệu là tây hồ , hy mã , tự là tử cán . ông là nhà thơ , nhà văn , và là nhà hoạt động chính trị thời cận đại trong lịch sử việt nam .',\n",
              " 'hồ ngọc hà còn là đại sứ quảng bá cho các nhãn hàng như sunplay , toshiba , sony ericsson , sunsilk ... và là đại sứ cho kênh truyền hình âm nhạc yantv .',\n",
              " 'và cuối cùng , sau hàng thế kỉ ngóng đợi , bộ quốc sử \" đại việt sử ký toàn thư \" đã được in toàn bộ và ban bố phát hành đầy đủ vào năm đinh sửu , niên hiệu chính hoà thứ 18 , tức là năm 1697 đời vua lê hy tông .',\n",
              " 'thiên hoàng minh trị (明治天皇 meiji-tennō?, 3 tháng 11, 1852 - 30 tháng 7, 1912) là vị thiên hoàng thứ 122 của nhật bản theo danh sách thiên hoàng truyền thống, trị vì từ ngày 3 tháng 2 năm 1867 tới khi qua đời. ông được coi là một vị minh quân có công lớn nhất trong lịch sử nhật bản, đã canh tân và đưa nhật bản trở thành một quốc gia hiện đại, thoát khỏi nguy cơ trở thành thuộc địa của các nước đế quốc phương tây giữa lúc chủ nghĩa thực dân đang phát triển mạnh.',\n",
              " 'hồ tây trước đây còn có các tên gọi khác như đầm xác cáo , hồ kim ngưu , lãng bạc , dâm đàm , đoài hồ , là một hồ nước tự nhiên lớn nhất ở nội thành hà nội . hồ có diện tích hơn 500 ha với chu vi là 14,8 km . hồ nằm ở vị trí phía tây bắc trung tâm hà nội .',\n",
              " 'im yoon-ah ( hangul : 임윤아 , hanja : 林允儿 , hán-việt : lâm duẫn nhi , sinh ngày 30 tháng 5 năm 1990 ) , thường được biết đến với nghệ danh yoona , là một nữ ca sĩ và diễn viên người hàn quốc , thành viên nhóm nhạc nữ [ [ girls \\' generation ] 소녀시대 ] . cô đã tham gia diễn xuất trong một số bộ phim truyền hình như \" you are my destiny \" ( 2008 ) , \" cinderella man \" ( 2009 ) , \" [ [ love rain ] ] \" ( 2012 ) , \" [ [ prime minister and i ] ] \" ( 2013 ) , \" [ [ võ thần triệu tử long ] ] \" ( 2016 ) , \" [ [ the k 2 ] ] \" ( 2016 ) và \" [ [ the king loves ] ] \" ( 2017 ) .',\n",
              " 'năm 2012 , cô nhận được giải htv award cho \" nữ ca sĩ được yêu thích nhất \" . sản phẩm tiếp theo của cô là dvd hồ ngọc hà live concert . liveshow xuất sắc nhận được giải cống hiến cho \" chương trình của năm \" .',\n",
              " 'trường hogwarts là trường đào tạo phù thuỷ trong bộ tiểu thuyết giả tưởng harry potter của tác giả j. k. rowling . trong trường có nhiều giáo sư , mỗi giáo sư giảng dạy một hoặc một số môn học khác nhau ( nhưng phần lớn ai cũng dạy được tất cả các môn ) .',\n",
              " 'phần lan ( tiếng phần lan : \" suomi \" ) , tên chính thức là cộng hoà phần lan ( tiếng phần lan : \" suomen tasavalta \" , tiếng thuỵ điển : \" republiken finland \" ) , là một quốc gia thuộc khu vực bắc âu . phần lan giáp với thuỵ điển về phía tây , nga về phía đông , na uy về phía bắc và estonia về phía nam qua vịnh phần lan .',\n",
              " 'thành thái ( chữ hán : 成泰 , 14 tháng 3 năm 1879 – 20 tháng 3 năm 1954 ) , tên khai sinh là nguyễn phúc bửu lân , là vị hoàng đế thứ 10 của triều đại nhà nguyễn , tại vị từ 1889 đến 1907 .',\n",
              " 'thành thái tên thật là nguyễn phúc bửu lân , khi lên ngôi đổi thành nguyễn phúc chiêu . ông là con thứ 7 của vua dục đức và bà phan thị điều , sinh ngày 22 tháng 2 năm kỷ mão , tức 14 tháng 3 năm 1879 tại huế .',\n",
              " 'iran có dân số trên 79,92 triệu người tính đến năm 2017 , là quốc gia đông dân thứ 18 trên thế giới . lãnh thổ iran rộng 1.648.195  km2 , là quốc gia rộng thứ nhì tại trung đông và đứng thứ 17 thế giới . iran có vị thế địa chính trị quan trọng do nằm tại phần trung tâm của đại lục á-âu và gần với eo biển hormuz .',\n",
              " 'tây thi , còn gọi là tây tử , là một đại mỹ nhân trứ danh thời kì xuân thu , đứng đầu trong tứ đại mỹ nhân của lịch sử trung quốc . tương truyền , tây thi có nhan sắc làm cá phải ngừng bơi mà lặn xuống đáy nước , gọi là trầm ngư .',\n",
              " 'mỗi năm có từ 1 đến 3 ngày thứ 6 ngày 13 . năm 2018 có 2 ngày thứ 6 ngày 13 vào tháng 4 và tháng 7 . sẽ có hai thứ sáu ngày 13 hàng năm cho đến năm 2020 , nhưng 2021 và 2022 sẽ chỉ có một ngày thứ 6 ngày 13 , tương ứng trong tháng 8 và tháng 5 .',\n",
              " 'ước tính dân số gần đây trong khoảng từ 142 đến 147 triệu người , làm cho bangladesh đứng trong nhóm 10 nước đông dân nhất thế giới . với số dân tương tự như nga nhưng có diện tích chỉ 144.000 kilômét vuông , khiến nước này có mật độ dân số rất lớn .',\n",
              " 'phạm băng băng ( sinh ngày 16 tháng 9 năm 1981 ) là nữ diễn viên , ca sĩ , người mẫu , nhà sản xuất phim người trung quốc .',\n",
              " 'đông trùng hạ thảo là một loại đông dược quý có bản chất là dạng ký sinh của loài nấm ophiocordyceps sinensis thuộc nhóm nấm ascomycetes trên cơ thể ấu trùng của một vài loài bướm trong chi \" thitarodes \" ( trước đây phân loại trong chi \" hepialus \" ) .',\n",
              " 'hiệp định đối tác xuyên thái bình dương ( tiếng anh : \" trans-pacific partnership agreement \" - viết tắt tpp ) là một hiệp đinh / thoả thuận thương mại tự do được ký kết giữa 12 nước vào ngày 4 tháng 2 năm 2016 tại auckland , new zealand sau 5 năm đàm phán với mục đích hội nhập các nền kinh tế thuộc khu vực châu á-thái bình dương .',\n",
              " 'dầu mỏ hay dầu thô là một chất lỏng sánh đặc màu nâu hoặc ngả lục . dầu mỏ tồn tại trong các lớp đất đá tại một số nơi trong vỏ trái đất . dầu mỏ là một hỗn hợp hoá chất hữu cơ ở thể lỏng đậm đặc , phần lớn là những hợp chất của hydrocarbon , thuộc gốc alkane , thành phần rất đa dạng .',\n",
              " 'năm 1264 , mùa xuân , tháng giêng , thái sư trần thủ độ qua đời , thọ 71 tuổi . ông được trần thái tông truy tặng thuỵ hiệu là thượng phụ thái sư trung vũ đại vương .',\n",
              " 'méxico hiện nay là quốc gia mỹ latinh duy nhất nằm trong tổ chức hợp tác và phát triển kinh tế . méxico hiện là nền kinh tế lớn thứ 11 trên thế giới và có thu nhập bình quân đầu người thuộc nhóm trung bình cao .',\n",
              " 'theo quy ước , tiết đông chí là khoảng thời gian bắt đầu từ khoảng ngày 21 hay 22 tháng 12 khi kết thúc tiết đại tuyết và kết thúc vào khoảng ngày 5 hay 6 tháng một trong lịch gregory theo các múi giờ đông á khi tiết tiểu hàn bắt đầu .',\n",
              " 'hy lạp ( hay ελλάς , chuyển tự \" ellas \" ) , tên chính thức là cộng hoà hy lạp , là một quốc gia thuộc khu vực châu âu , nằm phía nam bán đảo balkan . hy lạp giáp với các nước albania , cộng hoà macedonia và bulgaria về phía bắc , giáp với thổ nhĩ kỳ về phía đông .',\n",
              " 'ở dạng nguyên tố , clo có dạng khí ( ở điều kiện tiêu chuẩn ) nhị nguyên tử ( phân tử ) có màu vàng lục nhạt .',\n",
              " 'john cena tên khai sinh là john felix anthony cena jr . ( sinh ngày 23 tháng 4 năm 1977 ) , là đô vật chuyên nghiệp , ca sĩ nhạc hip hop , diễn viên người mỹ biểu diễn cho smackdown của wwe . anh là nhà cựu vô địch wwe với kỷ lục 16 lần giữ đai wwe championship .',\n",
              " 'hậu giang là một tỉnh ở đồng bằng sông cửu long , được thành lập vào năm 2004 do tách ra từ tỉnh cần thơ cũ . tỉnh lỵ hiện nay là thành phố vị thanh cách thành phố hồ chí minh 240  km về phía tây nam , cách thành phố cần thơ 60  km theo quốc lộ 61 và chỉ cách 40  km theo đường nối vị thanh – thành phố cần thơ',\n",
              " 'ram ( viết tắt từ random access memory trong tiếng anh ) là một loại bộ nhớ khả biến cho phép truy xuất đọc-ghi ngẫu nhiên đến bất kỳ vị trí nào trong bộ nhớ dựa theo địa chỉ ô nhớ . thông tin lưu trên ram chỉ là tạm thời , chúng sẽ mất đi khi mất nguồn điện cung cấp .',\n",
              " 'hiệp định đối tác xuyên thái bình dương ( tiếng anh : \" trans-pacific partnership agreement \" - viết tắt tpp ) là một hiệp đinh / thoả thuận thương mại tự do được ký kết giữa 12 nước vào ngày 4 tháng 2 năm 2016 tại auckland , new zealand sau 5 năm đàm phán với mục đích hội nhập các nền kinh tế thuộc khu vực châu á-thái bình dương .',\n",
              " 'nằm cách hà nội 320  km trên trục quốc lộ 6 hà nội - sơn la - điện biên , sơn la là một tỉnh nằm sâu trong nội địa . tỉnh này có 3 cửa khẩu với lào là chiềng khương và cửa khẩu quốc tế pa háng , cửa khẩu quốc gia nà cài .',\n",
              " 'phần lan là một trong những quốc gia dân cư thưa thớt nhất châu âu. theo số liệu tháng 8 năm 2015, dân số phần lan là 5 489 101người',\n",
              " 'trần thái tông ( chữ hán : 陳太宗 ; 9 tháng 7 năm 1218 – 5 tháng 5 năm 1277 ) , tên khai sinh : trần cảnh , là vị hoàng đế đầu tiên của hoàng triều trần nước đại việt . ông ở ngôi từ năm 1225 tới năm 1258 , sau đó làm thái thượng hoàng cho đến khi qua đời .',\n",
              " 'thang điểm hôn mê glasgow ( tiếng anh : \" glasgow coma scale \" ) là một phương pháp đánh giá tình trạng ý thức của người bệnh một cách lượng hoá . được thiết lập để lượng giá độ hôn mê của nạn nhân bị chấn thương đầu , hiện nay người ta còn dùng thang điểm glasgow trong những trường hợp bệnh lý khác .',\n",
              " 'tên \" glucose \" đến từ ngôn ngữ hy lạp , chữ \" glu \" nghĩa là rượu nho ngọt , nước nho ; còn đuôi \" ose \" nhằm thể hiện sự phân loại chất trong hoá học ( đuôi \" ose \" biểu thị cho các chất cacbohydrat ) . nó là đường hexose do cấu trúc phân tử mang 6 cacbon . glucose có cấu tạo phân tử : cho có 2 dạng là mạch vòng và mạch hở .',\n",
              " 'thế vận hội mùa đông lần đầu được tổ chức như một cuộc thi riêng biệt vào năm 1924 tại chanix-mont-blanc , pháp.từ thời điểm đó đến năm 1992 , thế vận hội mùa đông được tổ chức trong cùng năm với thế vận hội mùa hè nhưng bắt đầu từ thế vận hội mùa đông lillehammer , na uy năm 1994 , thế vận hội mùa đông được thay đổi lịch tổ chức sao cho cả hai thế vận hội mùa đông và mùa hè diễn ra xen kẽ nhau , nghĩa là nếu thế vận hội mùa hè tổ chức vào năm 1992 thì thế vận hội mùa đông sẽ tổ chức vào năm 1994 và lần kế tiếp của thế vận hội mùa đông là 1998 trong khi thế vận hội mùa hè là năm 1996 .',\n",
              " 'hồ ngọc hà tên khai sinh là hồ thị ngọc hà ( sinh ngày 25 tháng 11 năm 1984 ) là nữ ca sĩ , diễn viên , người mẫu thời trang người việt nam . hồ ngọc hà bắt đầu sự nghiệp người mẫu từ năm 15 tuổi với chiều cao 1m72 và đạt nhiều giải thưởng .',\n",
              " '19 là album đầu tay của nữ ca sĩ-người viết bài hát người anh adele . nó được phát hành vào ngày 28 tháng 1 năm 2008 , một tuần sau khi đĩa đơn chủ đạo \" chasing pavements \" ra mắt .',\n",
              " 'thu phương , tên khai sinh nguyễn thị thu phương ( sinh ngày 9 tháng 10 năm 1972 tại hải phòng ) , là một nữ ca sĩ nhạc nhẹ việt nam .',\n",
              " 'đinh đức thiện , tên thật là : phan đình dinh ( sinh ngày 15 - 11 - 1914 – mất ngày 21 - 12 - 1986 ) là một trong những người lãnh đạo chủ chốt trong việc xây dựng đường mòn hồ chí minh huyền thoại trong chiến tranh việt nam ; nguyên uỷ viên ban chấp hành trung ương đảng cộng sản việt nam , bộ trưởng bộ cơ khí luyện kim , bộ trưởng bộ giao thông vận tải ( việt nam ) , thượng tướng quân đội nhân dân việt nam .',\n",
              " 'logarit tự nhiên ( còn gọi là logarit nêpe ) là logarit cơ số e do nhà toán học john napier sáng tạo ra .',\n",
              " 'hồ ngọc hà tên khai sinh là hồ thị ngọc hà ( sinh ngày 25 tháng 11 năm 1984 ) là nữ ca sĩ , diễn viên , người mẫu thời trang người việt nam . hồ ngọc hà bắt đầu sự nghiệp người mẫu từ năm 15 tuổi với chiều cao 1m72 và đạt nhiều giải thưởng .',\n",
              " 'dầu mỏ được sử dụng trong sản xuất nhiều loại vật liệu , và người ta ước tính rằng thế giới tiêu thụ khoảng 95 triệu thùng mỗi ngày .',\n",
              " 'hy lạp ( hay ελλάς , chuyển tự \" ellas \" ) , tên chính thức là cộng hoà hy lạp , là một quốc gia thuộc khu vực châu âu , nằm phía nam bán đảo balkan . hy lạp giáp với các nước albania , cộng hoà macedonia và bulgaria về phía bắc , giáp với thổ nhĩ kỳ về phía đông .',\n",
              " 'im yoon-ah ( hangul : 임윤아 , hanja : 林允儿 , hán-việt : lâm duẫn nhi , sinh ngày 30 tháng 5 năm 1990 ) , thường được biết đến với nghệ danh yoona , là một nữ ca sĩ và diễn viên người hàn quốc , thành viên nhóm nhạc nữ [ [ girls \\' generation ] 소녀시대 ] . cô đã tham gia diễn xuất trong một số bộ phim truyền hình như \" you are my destiny \" ( 2008 ) , \" cinderella man \" ( 2009 ) , \" [ [ love rain ] ] \" ( 2012 ) , \" [ [ prime minister and i ] ] \" ( 2013 ) , \" [ [ võ thần triệu tử long ] ] \" ( 2016 ) , \" [ [ the k 2 ] ] \" ( 2016 ) và \" [ [ the king loves ] ] \" ( 2017 ) .',\n",
              " 'đế quốc mông cổ từng tồn tại trong các thế kỷ 13 và 14 , là đế quốc có lãnh thổ liền nhau lớn nhất trong lịch sử nhân loại . khởi đầu trên vùng thảo nguyên trung á , đế quốc cuối cùng đã trải dài từ đông âu đến biển nhật bản , bao gồm nhiều phần rộng lớn của siberi ở phía bắc và mở rộng về phía nam đến đông nam á , tiểu lục địa ấn độ , cao nguyên iran , và trung đông .',\n",
              " 'ngoài ra , phần cuối văn bản là bút ký đọc sách và bút ký đọc báo ghi chép tóm tắt những thông tin quan trọng về chính trị , quân sự , văn hoá quốc tế và việt nam đương thời .',\n",
              " 'trần thủ độ trần thủ độ (chữ hán: 陳守度, 1194 - 1264), cũng gọi trung vũ đại vương (忠武大王), là một nhà chính trị đại việt, sống vào thời cuối triều lý đầu triều trần trong lịch sử việt nam.',\n",
              " 'ngôn ngữ lập trình là một tập con của ngôn ngữ máy tính , được thiết kế và chuẩn hoá để truyền các chỉ thị cho các máy có bộ xử lý ( cpu ) , nói riêng là máy tính . ngôn ngữ lập trình được dùng để lập trình máy tính , tạo ra các chương trình máy nhằm mục đích điều khiển máy tính hoặc mô tả các thuật toán để người khác đọc hiểu .',\n",
              " 'na uy, tên chính thức là vương quốc na uy, là một quốc gia bắc âu nằm ở tây bắc châu âu có lãnh thổ bao gồm phần phía tây và cực bắc của bán đảo scandinavi; hòn đảo xa xôi jan mayen và quần đảo svalbard cũng là một phần của vương quốc na uy. na uy/dân số 5,258 triệu (2017)',\n",
              " 'là người khai sinh nên trung hoa dân quốc , tại đài loan ông được tôn xưng là \" quốc phụ \" . tại đại lục , ông được coi là \" cách mạng tiên hành giả \" ( \" người tiên phong của cách mạng \" ) và tên của ông thậm chí còn được đề cập tới trong lời tựa hiến pháp cộng hoà nhân dân trung hoa .',\n",
              " 'iran có di sản văn hoá phong phú , sở hữu 22 di sản thế giới unesco tính đến năm 2017 , đứng thứ ba tại châu á. iran là một quốc gia đa văn hoá , có nhiều nhóm dân tộc và ngôn ngữ , trong đó các nhóm lớn nhất là người ba tư ( 61% ) , người azeri ( 16% ) , người kurd ( 10% ) và người lur ( 6% ) .',\n",
              " 'quần đảo cát bà là quần thể gồm 367 đảo trong đó có đảo cát bà ở phía nam vịnh hạ long , ngoài khơi thành phố hải phòng và tỉnh quảng ninh , cách trung tâm thành phố hải phòng khoảng 30  km , cách thành phố hạ long khoảng 25  km .',\n",
              " 'tổng thống iran là chức vụ nhà nước dân cử cao nhất ở cộng hoà hồi giáo iran và là vị trí quyền lực lớn thứ hai ở iran sau lãnh đạo tối cao iran .',\n",
              " 'nam xương là thành phố tỉnh lỵ tỉnh giang tây ở đông nam trung quốc . thành phố nam xương toạ lạc bên bờ cám giang , 60  km về phía nam sông dương tử . nam xương nổi tiếng với đằng vương các xây dựng năm 653 và quảng trường nhân dân nam xương rộng thứ 2 trung quốc - chỉ xếp sau thiên an môn ở bắc kinh .',\n",
              " 'david robert joseph beckham , ( sinh ngày 2 tháng 5 năm 1975 ) là một cựu cầu thủ bóng đá chuyên nghiệp người anh từng thi đấu cho các câu lạc bộ manchester united , preston north end , real madrid , a.c. milan , los angeles galaxy , paris saint-germain và đội tuyển quốc gia anh ở vị trí tiền vệ .',\n",
              " 'album đầu tay của cô, 19 được phát hành vào năm 2008 với nhiều thành công cả về thương mại lẫn các ý kiến phê bình tại anh. 19 được chứng nhận đĩa bạch kim bốn lần tại anh quốc và hai đĩa bạch kim tại hoa kỳ.[4][5] sự nghiệp của cô tại mỹ thăng tiến mạnh mẽ sau sự xuất hiện của cô trong chương trình saturday night live vào cuối năm 2008. tại lễ trao giải grammy năm 2009, adele đã nhận được giải nghệ sĩ mới xuất sắc nhất và trình diễn giọng pop nữ xuất sắc nhất.[6][7][8]',\n",
              " 'phần lan hoàn toàn độc lập vào năm 1917 . trong chiến tranh thế giới thứ hai , phần lan đã bảo vệ được nền độc lập của mình và chống lại sự xâm lược của liên xô ( chiến tranh liên xô-phần lan ) mặc dù bị mất một phần lãnh thổ .',\n",
              " 'hậu giang là tỉnh ở trung tâm châu thổ sông mê kông , thuộc khu vực nội địa của đồng bằng sông cửu long . trước năm 1976 , hậu giang là tên gọi của sông hậu . vùng đất thuộc tỉnh hậu giang ngày nay trước năm 1956 nằm rải rác thuộc tỉnh cần thơ và tỉnh rạch giá .',\n",
              " 'arsenal là câu lạc bộ có số trận thắng ở cấp cao nhất nhiều thứ hai trong lịch sử bóng đá anh , và cũng là đội bóng anh duy nhất cho đến nay vô địch quốc gia với thành tích bất bại qua 38 vòng đấu , nhận biệt danh the invincibles ( tiếng việt : \" đội bóng bất bại \" ) và giành cúp vàng ngoại hạng anh .',\n",
              " 'anh ba sàm tên thật là nguyễn hữu vinh ( sinh năm 1956 ) là một blogger ở việt nam . ông từng là công an và đảng viên đảng cộng sản việt nam , từng công tác ở uỷ ban việt kiều trung ương . ông bị chính phủ chxhcn việt nam bắt giữ và bị cáo buộc và phạt tù 5 năm do có hành vi đăng tải các bài viết trên mạng internet vi phạm điều 258 bộ luật hình sự .',\n",
              " 'thu phương , tên khai sinh nguyễn thị thu phương ( sinh ngày 9 tháng 10 năm 1972 tại hải phòng ) , là một nữ ca sĩ nhạc nhẹ việt nam .',\n",
              " 'william henry harrison là tổng thống tại nhiệm ngắn nhất với 32 ngày trong năm 1841. franklin d. roosevelt có thời gian làm tổng thống dài nhất với hơn mười hai năm, nhưng đã qua đời ngay vào nhiệm kỳ thứ tư trong năm 1945; ông là tổng thống duy nhất đã phục vụ hơn hai nhiệm kỳ.',\n",
              " 'ước tính dân số pakistan năm 2009 là hơn 180,800,000 người khiến nước này có số dân đứng hàng thứ sáu trên thế giới sau brasil và trước nga . tới năm 2020 , dân số nước này dự tính sẽ đạt mức 208 triệu người , vì tỷ lệ tăng dân số khá cao .',\n",
              " 'thế vận hội bắt nguồn từ các cuộc thi đấu thể thao thời hy lạp cổ đại từ năm 776 trước công nguyên cho đến khi hoàng đế la mã là theodosius i cấm đoán vào năm 394 . và thế vận hội hiện đại được nam tước người pháp pierre frèdy de coubertin tổ chức lần đầu tiên vào cuối thế kỷ 19 .',\n",
              " 'bảng chữ cái hy lạp ( tiếng hy lạp : \" ελληνικό αλφάβητο \" - \" elleniká alphábeto \" ) là hệ thống 24 ký tự được dùng để viết tiếng hy lạp từ cuối thế kỷ thứ ix trước công nguyên hoặc đầu thế kỷ thứ viii trước công nguyên . theo nghĩa hẹp đây là bảng chữ cái đầu tiên và lâu đời ghi mỗi nguyên âm và phụ âm bằng một biểu tượng riêng .',\n",
              " 'bộ trưởng bộ công an hiện nay là ông tô lâm . ông tuyên thệ nhậm chức bộ trưởng trước quốc hội việt nam ngày 8 tháng 4 năm 2016 .',\n",
              " 'franklin delano roosevelt (phiên âm tiếng việt: phranh-kơ-lin đê-la-nô ru-giơ-veo) (30 tháng 1 năm 1882 – 12 tháng 4 năm 1945, thường được gọi tắt là fdr) là tổng thống hoa kỳ thứ 32 và là một khuôn mặt trung tâm của các sự kiện thế giới trong giữa thế kỷ xx.',\n",
              " 'bao công huý là bao chửng ( chữ hán : 包拯 ; 11 tháng 4 năm 999 - 20 tháng 5 năm 1062 ) , tự hy nhân . ngoài ra , ông còn được gọi là bao thanh thiên , bao đãi chế , bao hắc tử , bao học sĩ hay bao long đồ .',\n",
              " 'ngôn ngữ lập trình là một tập con của ngôn ngữ máy tính , được thiết kế và chuẩn hoá để truyền các chỉ thị cho các máy có bộ xử lý ( cpu ) , nói riêng là máy tính . ngôn ngữ lập trình được dùng để lập trình máy tính , tạo ra các chương trình máy nhằm mục đích điều khiển máy tính hoặc mô tả các thuật toán để người khác đọc hiểu .',\n",
              " 'từ trường là môi trường vật chất đặc biệt sinh ra quanh các điện tích chuyển động hoặc do sự biến thiên của điện trường hoặc có nguồn gốc từ các mômen lưỡng cực từ như nam châm . mỗi điểm trong từ trường được miêu tả bằng toán học thông qua \" hướng \" và \" độ lớn \" tại đó ; từ trường được miêu tả bằng trường vector .',\n",
              " 'hoa thiên cốt ( tiếng anh : \" the journey of flower \" ) là bộ phim truyền hình trung quốc , được chuyển thể từ tiểu thuyết cùng tên của tác giả fresh quả quả . bộ phim khởi quay vào ngày 6 tháng 5 năm 2014 , đến ngày 15 tháng 9 năm 2014 hoàn thành .',\n",
              " 'sáng ngày 12 tháng 6 giáp thân , tức ngày 2 tháng 8 năm 1884 , ưng lịch được dìu đi giữa hai hàng thị vệ , tiến vào điện thái hoà để làm lễ lên ngôi hoàng đế , đặt niên hiệu là hàm nghi . khi đó ưng lịch mới 13 tuổi . người ta nói rằng hàm nghi được lên nối ngôi theo di chúc của vua kiến phúc trước đây .',\n",
              " 'trương quang nghĩa ( sinh ngày 19 tháng 8 năm 1958 ) là một chính trị gia người việt nam . ông được người dân tỉnh sơn la bầu làm đại biểu quốc hội việt nam khoá xiv nhiệm kì 2016-2021 , nhưng được chuyển làm đại diện cho cử tri ở đà nẵng .',\n",
              " 'william jefferson clinton ( tên khai sinh là william jefferson blythe iii ) sinh ngày 19 tháng 8 năm 1946 , là tổng thống thứ 42 của hoa kỳ từ năm 1993 đến năm 2001 .',\n",
              " 'từ thế kỷ 13, thung lũng méxico là trung tâm của nền văn minh aztec: nơi đây thủ đô của tam đồng minh aztec, thành phố tenochtitlan, được xây dựng trên những đảo nhỏ giữa hồ texcoco.',\n",
              " 'iran có vị thế địa chính trị quan trọng do nằm tại phần trung tâm của đại lục á-âu và gần với eo biển hormuz . tehran là thủ đô và thành phố lớn nhất của iran , cũng như là trung tâm dẫn đầu về kinh tế và văn hoá .',\n",
              " 'hoàng cung lúc đầu đặt ở winchester , hampshire , nhưng từ thế kỉ 12 trở đi , luân đôn thực tế đã trở thành thủ đô của quốc gia này .',\n",
              " 'adele laurie blue adkins mbe, được biết đến nhiều hơn với cái tên ngắn gọn là adele, là một ca sĩ, nhạc sĩ người anh. adele được đề nghị ký hợp đồng thu âm với hãng thu âm xl recordings sau khi một người bạn của adele đăng một bản demo của cô lên myspace vào năm 2006.',\n",
              " 'trong thập niên 80 , thu phương là thành viên hát chính trong ban nhạc rock tây hồ . tại thập niên 90 cô chính thức trở thành diễn viên của nhà hát tuổi trẻ . cùng với người chồng đầu tiên huy mc , hai người trở thành cặp đôi vàng của nhạc nhẹ việt nam thời kỳ này .',\n",
              " 'bangladesh là một thành viên sáng lập hiệp hội nam á vì sự hợp tác khu vực ( saarc ) , bimstec , và là một thành viên của tổ chức hội nghị hồi giáo ( oic ) và d-8 .',\n",
              " 'các thù hình của cacbon là khác nhau về cấu trúc mạng nguyên tử mà các nguyên tử tinh khiết có thể tạo ra. ba dạng được biết nhiều nhất là cacbon vô định hình, graphit và kim cương. một số thù hình kỳ dị khác cũng đã được tạo ra hay phát hiện ra, bao gồm các fullerene, cacbon ống nano, lonsdaleit và q-cacbon. muội đèn bao gồm các bề mặt dạng graphit nhỏ. các bề mặt này phân bổ ngẫu nhiên, vì thế cấu trúc tổng thể là đẳng hướng. cacbon thủy tinh là đẳng hướng và có tỷ lệ độ xốp cao. không giống như graphit thông thường, các lớp graphit không xếp lên nhau giống như các trang sách, mà chúng có sự sắp xếp ngẫu nhiên.',\n",
              " 'lee min ho ( sinh ngày 22 tháng 6 năm 1987 ) là nam diễn viên , người mẫu hàn quốc được biết đến các với vai goo jun pyo trong phim truyền hình \" vườn sao băng \" , vai lee yoon sung trong phim truyền hình \" thợ săn thành phố \" và trong phim \" những người thừa kế \" với vai diễn kim tan năm 2013 .',\n",
              " 'dương quá ( hay dương qua theo các bản dịch cũ ) là nhân vật nam chính trong bộ tiểu thuyết \" thần điêu hiệp lữ \" của nhà văn kim dung .',\n",
              " 'chùm ngây hay ba đậu dại ( danh pháp hai phần : moringa oleifera ) là loài thực vật thân gỗ phổ biến nhất trong chi chùm ngây ( danh pháp khoa học : \" moringa \" ) thuộc họ chùm ngây ( moringaceae ) , xuất xứ từ vùng nam á nhưng cũng mọc hoang và được trồng , khai thác , sử dụng nhiều nơi trên thế giới do có giá trị kinh tế cao .',\n",
              " 'méxico ( phiên âm : \" \" mê-xi-cô \" \" hoặc \" \" mê-hi-cô \" \" , , tiếng nahuatl : \" mēxihco \" ) , tên chính thức : hợp chúng quốc méxico ( , ) , là một nước cộng hoà liên bang thuộc khu vực bắc mỹ . méxico là một quốc gia rộng lớn với diện tích gần 2 triệu km2 , đứng hàng thứ 14 trên thế giới và dân số khoảng 106 triệu người , đứng hàng thứ 11 trên thế giới .',\n",
              " 'zlatan ibrahimović ( sinh ngày 3 tháng 10 năm 1981 ) là một cầu thủ bóng đá người thuỵ điển chơi ở vị trí tiền đạo cho la galaxy . anh từng khoác áo đội tuyển bóng đá quốc gia thuỵ điển khi ra mắt vào năm 2001 và trở thành đội trưởng của đội tuyển này từ năm 2010 cho đến khi giã từ đội tuyển quốc gia vào năm 2016 .',\n",
              " 'diện tích: 6.340,5 km2. theo điều tra dân số năm 2010 của trung quốc, thượng hải có tổng dân số 23.019.148 người (trong đó nội ô là 20,6 triệu người).',\n",
              " 'ông thống trị  walpole–townshend ministry và walpole ministry và giữ kỷ lục là thủ tướng phục vụ lâu nhất trong lịch sử nước anh .',\n",
              " 'tuyên quang là một tỉnh thuộc vùng đông bắc việt nam . có tỉnh lỵ là thành phố tuyên quang .',\n",
              " 'lý dịch phong ( sinh ngày 4 tháng 5 năm 1987 ) là nam diễn viên , ca sĩ người trung quốc được biết đến với vai bách lý đồ tô trong phim truyền hình tiên hiệp \" cổ kiếm kỳ đàm \" . anh xếp hạng thứ 9 trong danh sách những ngôi sao trung quốc của tạp chí forbes năm 2015 với thu nhập ước tính khoảng 69 triệu nhân dân tệ .',\n",
              " 'ngày 7 tháng 10 năm 2017 , ông trương quang nghĩa được bộ chính trị ban chấp hành trung ương đảng cộng sản việt nam khoá xii phân công giữ chức bí thư thành uỷ đà nẵng thay ông nguyễn xuân anh bị cách chức bí thư thành uỷ đà nẵng và cho thôi uỷ viên trung ương đảng .',\n",
              " 'ngoài ra , quang trung còn là người đánh bại các cuộc xâm lược đại việt của xiêm la từ phía nam , của đại thanh từ phía bắc . bản thân ông đã cầm quân chiến đấu từ năm 18 tuổi , trong 20 năm liền đã trải qua hàng chục trận đánh lớn , và chưa hề thua một trận nào .',\n",
              " '\" 21 \" cũng giúp adele được ghi danh trong \" sách kỷ lục guinness \" . cô là nữ nghệ sĩ đầu tiên trong lịch sử \" billboard \" hot 100 có cùng một lúc ba đĩa đơn trong top 10 , có hai album trong top 5 \" billboard \" 200 và hai đĩa đơn trong top 5 \" billboard \" hot 100 .',\n",
              " 'park bo gum ( sinh ngày 16 tháng 6 năm 1993 ) là một diễn viên người hàn quốc . anh ra mắt lần đầu tiên trong bộ phim \" blind \" vào năm 2011 và sau đó anh đảm nhiệm nhiều vai diễn truyền hình như thiên tài chơi cello lee yoon ho của học viện âm nhạc julliard trong \" cantabile tomorrow \" ( 2014 ) , luật sư tâm thần ( lee min ) trong \" hello monster \" / i remember you ( 2015 ) và thiên tài chơi baduk ( cờ vây ) choi taek trong \" reply 1988 \" ( 2015 ) .',\n",
              " 'cây cứt lợn ( tên khoa học \" ageratum conyzoides \" ) , còn gọi là cây hoa ngũ vị , cây hoa ngũ sắc , cây bù xít , thắng hồng kế , cỏ hôi , cỏ thúi địt ( \" địt \" ở đây có nghĩa là rắm ) , là một loài cây thuộc họ cúc .',\n",
              " 'hiệp định đối tác xuyên thái bình dương ( tiếng anh : \" trans-pacific partnership agreement \" - viết tắt tpp ) là một hiệp đinh / thoả thuận thương mại tự do được ký kết giữa 12 nước vào ngày 4 tháng 2 năm 2016 tại auckland , new zealand sau 5 năm đàm phán với mục đích hội nhập các nền kinh tế thuộc khu vực châu á-thái bình dương .',\n",
              " 'công suất p ( từ tiếng latinh potestas ) là một đại lượng cho biết công được thực hiện δw hay năng lượng biến đổi δe trong một khoảng thời gian t = δt .',\n",
              " 'méxico là một quốc gia rộng lớn với diện tích gần 2 triệu km2 , đứng hàng thứ 14 trên thế giới và dân số khoảng 106 triệu người , đứng hàng thứ 11 trên thế giới . méxico giáp với hoa kỳ về phía bắc , giáp với guatemala và belize về phía đông nam , giáp với thái bình dương về phía tây và tây nam , giáp với vịnh méxico về phía đông .',\n",
              " 'zalo là ứng dụng nhắn tin và gọi điện miễn phí hoạt động trên nền tảng di động và máy tính, được sử dụng tại các nước việt nam, hoa kỳ, myanmar, nhật bản, đài loan, hàn quốc, malaysia, ả rập xê út, angola, sri lanka, cộng hòa séc, nga.',\n",
              " 'méxico cũng là nước có số lượng người nói tiếng tây ban nha cao nhất trên thế giới và tôn giáo chủ yếu tại đây là công giáo rôma .',\n",
              " 'tên \" glucose \" đến từ ngôn ngữ hy lạp , chữ \" glu \" nghĩa là rượu nho ngọt , nước nho ; còn đuôi \" ose \" nhằm thể hiện sự phân loại chất trong hoá học ( đuôi \" ose \" biểu thị cho các chất cacbohydrat ) . nó là đường hexose do cấu trúc phân tử mang 6 cacbon . glucose có cấu tạo phân tử : cho có 2 dạng là mạch vòng và mạch hở .',\n",
              " 'năm 1912 , ông nhậm chức đại tổng thống lâm thời trung hoa dân quốc , nhưng một tháng sau , ông nhường chức này cho tướng thanh là viên thế khải với điều kiện viên thế khải bắt vua nhà thanh thoái vị để thành lập chế độ cộng hoà , nhưng sau đó viên thế khải bội ước , khiến ông phải lưu vong sang nhật .',\n",
              " 'tiết đông chí , theo lịch trung quốc cổ đại , là tiết khí khởi đầu bằng điểm giữa của mùa đông , nó là một trong hai mươi tư tiết khí trong nông lịch . theo định nghĩa này , điểm bắt đầu của nó trùng với điểm đông chí ( tiếng anh : \" winter solstice \" ) tại bắc bán cầu theo quan điểm của khoa học phương tây .',\n",
              " 'ái tân giác la phổ nghi ( phồn thể : 愛新覺羅溥儀 ; bính âm : \" ài xīn jué luó pǔ yí \" ; 1906 – 1967 ) hay aisin gioro puyi , hãn hiệu : cáp ngoã đồ du tư hãn , tây tạng tôn vị văn thù hoàng đế , là vị hoàng đế thứ 12 và là hoàng đế cuối cùng của triều đại mãn thanh nói riêng và của chế độ quân chủ trong lịch sử trung quốc nói chung .',\n",
              " 'kim tae-hyung ( hangul : 김태형 ; sinh ngày 30 tháng 12 năm 1995 ) thường được biết đến với nghệ danh v , là một nam ca sĩ , nhạc sĩ và diễn viên người hàn quốc .',\n",
              " 'tên gọi đồng bảng ( pound ) bắt nguồn từ đồng tower pound có hàm lượng bạc tinh khiết khá cao đạt 92,5% ( đồng chiếm phần còn lại 7,5% ) .',\n",
              " 'arsenal đã giành được 13 chức vô địch quốc gia , 13 cúp fa ( kỷ lục ) , 2 cúp liên đoàn anh , 1 cúp liên đoàn thế kỷ , 15 siêu cúp anh , 1 cúp uefa và 1 cúp inter-cities fairs . arsenal là câu lạc bộ có số trận thắng ở cấp cao nhất nhiều thứ hai trong lịch sử bóng đá anh , và cũng là đội bóng anh duy nhất cho đến nay vô địch quốc gia với thành tích bất bại qua 38 vòng đấu , nhận biệt danh the invincibles ( tiếng việt : \" đội bóng bất bại \" ) và giành cúp vàng ngoại hạng anh .',\n",
              " 'sao hoả khi quan sát qua kính thiên văn nhỏ thường hiện lên có màu vàng , cam hay đỏ nâu ; trong khi màu sắc thực sự của sao hoả gần với màu , và màu đỏ là do khí quyển sao hoả chứa rất nhiều bụi ; bên dưới là bức ảnh mà robot spirit chụp được trên sao hoả với màu nâu-xanh nhạt , màu bùn với những tảng đá xám-xanh và cát màu đỏ nhạt .',\n",
              " 'phù đổng thiên vương , cũng gọi sóc thiên vương nhưng hay được gọi là thánh gióng , là một nhân vật trong truyền thuyết việt nam , một trong bốn vị thánh mà người việt gọi là tứ bất tử trong tín ngưỡng dân gian việt nam .',\n",
              " 'ngày nay , phần lan là một quốc gia dân chủ theo chế độ cộng hoà nghị viện . nước này là thành viên của liên hiệp quốc từ năm 1955 và gia nhập liên minh châu âu vào năm 1995 .',\n",
              " 'phim chính thức phát sóng từ ngày 9 tháng 6 năm 2015 vào khung giờ kim cương ( 22 h ) trên đài hồ nam . mặc dù chiếu trong khung giờ khuya ( 22 h - 24 h ) nhưng bộ phim chuyển thể hoa thiên cốt đã chứng tỏ mình với vị trí đứng đầu bảng xếp hạng rating những phim chiếu cùng thời điểm trên các đài truyền hình trung quốc .',\n",
              " 'helsinki ( ; ; ) là thủ đô , đồng thời là thành phố đông dân nhất của phần lan với số dân 648,650 người . toạ lạc bên bờ vịnh phần lan , thành phố là trung tâm của vùng uusimaa . toàn khu vực đô thị helsinki có số dân 1,268,296 người . helsinki không chỉ là vùng tập trung đông dân cư nhất , mà còn là trung tâm chính trị , giáo dục , tài chính , văn hoá và nghiên cứu của phần lan .',\n",
              " 'zlatan ibrahimović ( sinh ngày 3 tháng 10 năm 1981 ) là một cầu thủ bóng đá người thuỵ điển chơi ở vị trí tiền đạo cho la galaxy . anh từng khoác áo đội tuyển bóng đá quốc gia thuỵ điển khi ra mắt vào năm 2001 và trở thành đội trưởng của đội tuyển này từ năm 2010 cho đến khi giã từ đội tuyển quốc gia vào năm 2016 .',\n",
              " 'xuân thu là tên gọi một giai đoạn lịch sử từ 771 đến 476 tcn trong lịch sử trung quốc . tên của nó bắt nguồn từ cuốn kinh xuân thu ( biên niên sử xuân thu ) , một cuốn sử mà theo truyền thống thường được coi là của khổng tử .',\n",
              " 'trần thái tông ( chữ hán : 陳太宗 ; 9 tháng 7 năm 1218 – 5 tháng 5 năm 1277 ) , tên khai sinh : trần cảnh , là vị hoàng đế đầu tiên của hoàng triều trần nước đại việt . ông ở ngôi từ năm 1225 tới năm 1258 , sau đó làm thái thượng hoàng cho đến khi qua đời .',\n",
              " 'hiện nay dầu mỏ chủ yếu dùng để sản xuất dầu hoả , diezen và xăng nhiên liệu . ngoài ra , dầu thô cũng là nguồn nguyên liệu chủ yếu để sản xuất ra các sản phẩm của ngành hoá dầu như dung môi , phân bón hoá học , nhựa , thuốc trừ sâu , nhựa đường ...',\n",
              " 'trong: super sentai, tokusatsu super sentai sửa đổi   chia sẻ supersentaiserieslogo biểu tượng chính thức của super sentai từ mirai sentai timeranger  super sentai series (スーパー戦隊シリーズ sūpā sentai shirīzu?) là tên của một chuỗi các loạt phim siêu anh hùng của nhật bản được sản xuất bởi công ty tnhh toei, chi nhánh toei và bandai, và phát hành bởi tv asahi . chương trình thuộc thể loại tokusatsu, với hiệu ứng màu và cuộc sống của các nhân vật, với khán giả chính là trẻ em. series này là 1 trong các series tokusatsu nổi tiếng nhất được làm tại nhật bản, bên cạnh ultra series, kamen rider series,và metal hero series cũng được làm lại tại mỹ với tên gọi power rangers.',\n",
              " 'đinh đức thiện , tên thật là : phan đình dinh ( sinh ngày 15 - 11 - 1914 – mất ngày 21 - 12 - 1986 ) là một trong những người lãnh đạo chủ chốt trong việc xây dựng đường mòn hồ chí minh huyền thoại trong chiến tranh việt nam ; nguyên uỷ viên ban chấp hành trung ương đảng cộng sản việt nam , bộ trưởng bộ cơ khí luyện kim , bộ trưởng bộ giao thông vận tải ( việt nam ) , thượng tướng quân đội nhân dân việt nam .',\n",
              " \"iran ( ' ) , gọi chính thức là nước cộng hoà hồi giáo iran ( ' ) , là một quốc gia có chủ quyền tại tây á. iran có biên giới về phía tây bắc với armenia , azerbaijan , và cộng hoà artsakh tự xưng ; phía bắc giáp biển caspi ; phía đông bắc giáp turkmenistan ; phía đông giáp afghanistan và pakistan ; phía nam giáp vịnh ba tư và vịnh oman ; còn phía tây giáp thổ nhĩ kỳ và iraq .\",\n",
              " 'tuỳ theo từng bài thuốc mà đông trùng hạ thảo tham gia , người ta có các chế biến nó khác nhau . phổ biển nhất là hầm lên hoặc ngâm rượu . cần phải phân biệt loại đông trùng hạ thảo dùng trong đông y và các chất có dược tính được tinh chế từ các chi nấm \" cordyceps \" được nuôi trồng trên quy mô công nghiệp .',\n",
              " 'ngày 1 tháng 1 năm 1981 , hy lạp trở thành thành viên thứ 10 của liên minh châu âu . nền kinh tế hy lạp đã phát triển rất nhanh chóng , với một nguồn vốn đầu tư lớn của nước ngoài đổ vào hy lạp để hiện đại hoá hệ thống hạ tầng cơ sở của nước này , xây dựng nền kinh tế hy lạp theo hướng hiện đại .',\n",
              " 'dưới triều nguyễn , năm 1822 ( minh mạng thứ 3 ) đổi tên trấn sơn nam hạ thành trấn nam định . đến năm minh mạng 13 ( 1832 ) đổi trấn nam định thành tỉnh nam định ( tỉnh nam định được thành lập ) , với 4 phủ , 18 huyện , bao gồm phần đất tỉnh thái bình hiện nay .',\n",
              " 'blockchain đầu tiên được phát minh và thiết kế bới satoshi nakamoto vào năm 2008 và được hiện thực hoá vào năm sau đó như là một phần cốt lõi của bitcoin , khi công nghệ blockchain đóng vai trò như là một cuốn sổ cái cho tất cả các giao dịch .',\n",
              " 'nước áo là thành viên của liên hiệp quốc từ 1955 và từ 1995 là thành viên của liên minh châu âu. nước áo giáp đức và cộng hoà séc ở phía bắc, slovakia và hungary về phía đông, slovenia và ý về phía nam, và thụy sĩ và liechtenstein về phía tây.',\n",
              " 'vịnh xuân quyền còn được biết đến dưới tên gọi vĩnh xuân quyền ( và những biến thể khác về tên như vịnh xuân công phu hay vịnh xuân phái ) , là một môn võ thuật có nguồn gốc từ nam thiếu lâm tại tỉnh phúc kiến , trung quốc .',\n",
              " 'võ hoàng yên là một thầy thuốc đông y , quê ở ấp cái nước , thị trấn cái nước , huyện cái nước , tỉnh cà mau , việt nam .',\n",
              " 'khmer đỏ ( ខ្មែរក្រហម ) ( tiếng pháp : khmer rouge ) , tên chính thức đảng cộng sản campuchia và sau này là đảng campuchia dân chủ , là một tổ chức chính trị cầm quyền tại campuchia từ 1975 đến 1979 . tổ chức này còn được biết với các tên đảng cộng sản khmer , quân đội nhân dân campuchia dân chủ .',\n",
              " 'điều này có thể là do quan âm là vị bồ tát cứu độ chúng sanh và là bồ tát đặc trưng cho tinh thần của phật giáo đại thừa - giác tha , có nghĩa là cứu vớt và giác ngộ người khác - cho nên có thể phật giáo đại thừa đã nâng ngài lên tầm quan trọng như vậy , khác biệt với phật giáo tiểu thừa .',\n",
              " 'đại hội thể thao châu á 2018 ( hoặc á vận hội xviii , asiad xviii ) là kỳ đại hội thể thao châu á lần thứ 18 tổ chức tại indonesia , với thủ đô jakarta sẽ là thành phố chủ nhà chính , trong khi palembang sẽ là chủ nhà hỗ trợ .',\n",
              " 'giấm là axit axetic nồng độ từ 2 – 6% . giấm được điều chế bằng cách lên men rượu etylic .',\n",
              " 'na uy có tổng diện tích là 385.207 kilômét vuông (148.729 sq mi)[5] và dân số là 5.312.300 (tính đến tháng 8 năm 2018). [6] đất nước này có chung biên giới phía đông với thụy điển ( có chiều dài là 1.619 km hoặc 1.006  mi). na uy giáp phần lan và nga ở phía đông bắc, và eo biển skagerrak ở phía nam, với đan mạch ở phía bên kia. na uy có đường bờ biển dài, hướng ra bắc đại tây dương và biển barents.',\n",
              " 'vật lý học (tiếng anh: physics, từ tiếng hy lạp cổ: φύσις có nghĩa là kiến thức về tự nhiên) là một môn khoa học tự nhiên tập trung vào sự nghiên cứu vật chất[1] và chuyển động của nó trong không gian và thời gian, cùng với những khái niệm liên quan như năng lượng và lực.[2] vật lý học là một trong những bộ môn khoa học lâu đời nhất, với mục đích tìm hiểu sự vận động của vũ trụ.',\n",
              " 'hợp chất crôm được sử dụng lần đầu tiên bởi người trung quốc vào khoảng 2000 năm trước , thuộc triều đại nhà tần . cụ thể khi khai quật lăng mộ tần thuỷ hoàng người ta đã tìm thấy một số thanh kiếm với lưỡi kiếm được phủ bởi 1 lớp cro dày 10-15 micromet , lớp này làm nhiệm vụ bảo vệ thanh kiếm khỏi các tác nhân oxi hoá của môi trường từ bên ngoài trong hơn 2000 năm .',\n",
              " 'blockchain đầu tiên được phát minh và thiết kế bới satoshi nakamoto vào năm 2008 và được hiện thực hoá vào năm sau đó như là một phần cốt lõi của bitcoin , khi công nghệ blockchain đóng vai trò như là một cuốn sổ cái cho tất cả các giao dịch .',\n",
              " 'hiệp định đối tác xuyên thái bình dương ( tiếng anh : \" trans-pacific partnership agreement \" - viết tắt tpp ) là một hiệp đinh / thoả thuận thương mại tự do được ký kết giữa 12 nước vào ngày 4 tháng 2 năm 2016 tại auckland , new zealand sau 5 năm đàm phán với mục đích hội nhập các nền kinh tế thuộc khu vực châu á-thái bình dương .',\n",
              " '\" chính sách kinh tế mới \" gắn liền với tên tuổi của vị tổng thống thứ 32 của hoa kỳ , franklin delano roosevelt ( gọi tắt là fdr )',\n",
              " 'karl heinrich marx ( , thường được phiên âm là các mác trong các tài liệu tiếng việt hoặc hán việt là mã khắc tư ; sinh 5 tháng 5 năm 1818 tại trier , vương quốc phổ – mất 14 tháng 3 năm 1883 tại luân đôn , vương quốc anh ) là nhà triết học người đức gốc do thái , và cũng là nhà kinh tế , nhà sử học , nhà lãnh đạo cách mạng của hiệp hội người lao động quốc tế .',\n",
              " 'trần thiện thanh , một nhạc sĩ nổi tiếng thuộc dòng nhạc vàng và nhạc trữ tình tại miền nam việt nam trước 1975 , đồng thời là một người sinh trưởng tại phan thiết , có sáng tác một bài hát nổi tiếng nói về cuộc đời hàn mặc tử .',\n",
              " 'cả bộ phim có 3 phần , sản xuất trong khoảng các năm 1997 , 1998 và 2003 . hầu hết các cảnh trong phim đều được thực hiện ở thủ đô bắc kinh và tỉnh hà bắc của trung quốc đại lục . tuy nhiên , đài loan và trung quốc tái hợp tác và cho ra một phiên bản mới có tên tân hoàn châu cách cách vào năm 2011 .',\n",
              " 'vườn quốc gia cúc phương ( hay rừng cúc phương ) là một khu bảo tồn thiên nhiên , khu rừng đặc dụng nằm trên địa phận ranh giới 3 khu vực tây bắc , châu thổ sông hồng và bắc trung bộ thuộc ba tỉnh : ninh bình , hoà bình , thanh hoá .',\n",
              " 'thơ đường luật hay thơ luật đường là thể thơ đường cách luật xuất hiện từ đời nhà đường ở trung quốc . là một trong những dạng thơ đường bên cạnh cổ thể ( cổ phong ) , từ , thơ đường luật đã phát triển mạnh mẽ tại chính quê hương của nó và lan toả ra nhiều quốc gia lân bang với tư cách thể loại tiêu biểu nhất của thơ đường nói riêng và tinh hoa thi ca trung hoa nói chung .',\n",
              " 'lê văn tám là tên của một thiếu niên anh hùng trong thời kỳ chiến tranh đông dương của việt nam với chiến tích nổi bật là đã cảm tử châm lửa để phá huỷ một kho đạn của quân pháp . sau chiến tranh , hình ảnh lê văn tám được coi là một biểu tượng anh hùng cách mạng , được nhắc tới cho đến tận ngày nay trong sách giáo khoa để các em thiếu nhi học tập tấm gương của một thiếu niên anh hùng dân tộc , đã xả thân vì nghiệp lớn giải phóng dân tộc .',\n",
              " 'chùm ngây hay ba đậu dại ( danh pháp hai phần : moringa oleifera ) là loài thực vật thân gỗ phổ biến nhất trong chi chùm ngây ( danh pháp khoa học : \" moringa \" ) thuộc họ chùm ngây ( moringaceae ) , xuất xứ từ vùng nam á nhưng cũng mọc hoang và được trồng , khai thác , sử dụng nhiều nơi trên thế giới do có giá trị kinh tế cao .',\n",
              " 'bắc kinh ( , ) , là thủ đô của nước cộng hoà nhân dân trung hoa và là một trong số các thành phố đông dân nhất thế giới với dân số là 21,707,000 người vào năm 2017 . thành phố nằm ở miền hoa bắc , và là một trực hạt thị dưới quyền chính phủ trung ương , với 14 quận nội thị và cận nội thị cùng hai huyện nông thôn .',\n",
              " 'joseph stalin là thủ tướng và là tổng thư ký đảng cộng sản liên xô , được dựa trên joseph stalin ngoài đời thực . là nhà lãnh đạo trong chiến dịch của xô viết , ông được hỗ trợ bởi nadia , tướng gradenko , tướng georgi kukov và kane .',\n",
              " 'đỉnh điểm là sự kiện nhà sư thích quảng đức tự thiêu năm 1963 để phản đối sự kì thị này . mặc dù vậy phật giáp vẫn phát triển . trong cuốn \" phật giáo tại việt nam \" , ông mai thọ truyền cho biết lúc ông diệm lên cầm quyền , số chùa tại miền nam là 2206 cái .',\n",
              " 'nelson rolihlahla mandela , 18 tháng 7 năm 1918 - 5 tháng 12 năm 2013 ) là tổng thống nam phi từ năm 1994 đến 1999 , và là tổng thống nam phi đầu tiên được bầu cử dân chủ theo phương thức phổ thông đầu phiếu . trước khi trở thành tổng thống , mandela là nhà hoạt động chống chủ nghĩa apartheid ( chủ nghĩa phân biệt chủng tộc ) , và là người đứng đầu umkhonto we sizwe , phái vũ trang của đảng đại hội dân tộc phi ( anc ) .',\n",
              " 'ô nhiễm không khí là sự thay đổi lớn trong thành phần của không khí , chủ yếu do khói , bụi , hơi hoặc các khí lạ được đưa vào không khí , có sự toả mùi , làm giảm tầm nhìn xa , gây biến đổi khí hậu , gây bệnh cho con người và cũng có thể gây hại cho các sinh vật khác như động vật và cây lương thực , và có thể làm hỏng môi trường tự nhiên hoặc xây dựng .',\n",
              " 'tiệp khắc ( tiếng séc : \" československo \" , tiếng slovak : \" česko-slovensko \" / trước 1990 \" československo \" , tiếng đức : \" tschechoslowakei \" ) , còn gọi tắt là tiệp ( nhất là trong khẩu ngữ ) , là một nhà nước có chủ quyền tại trung âu tồn tại từ tháng 10 năm 1918 , khi nó tuyên bố độc lập khỏi đế quốc áo-hung , cho tới năm 1992 .',\n",
              " 'khởi nghĩa hai bà trưng là cuộc khởi nghĩa chống bắc thuộc đầu tiên trong lịch sử việt nam do hai chị em trưng trắc và trưng nhị lãnh đạo . cuộc khởi nghĩa đã đánh đuổi được lực lượng cai trị nhà đông hán ra khỏi giao chỉ ( tương đương một phần quảng tây , trung quốc và bắc bộ , bắc trung bộ việt nam hiện nay ) , mang lại độc lập trong 3 năm cho người việt tại đây .',\n",
              " 'hán vũ đế ( chữ hán : 漢武帝 ; 31 tháng 7 , 156 tcn - 29 tháng 3 , 87 tcn ) , hay được phiên thành hán võ đế , tên thật lưu triệt , là vị hoàng đế thứ bảy của nhà hán trong lịch sử trung quốc .',\n",
              " 'axit axetic , hay còn gọi là ethanoic hoặc etanoic , là một axit hữu cơ ( axit cacboxylic ) , mạnh hơn axit cacbonic . phân tử gồm nhóm methyl ( - ch ) liên kết với nhóm carboxyl ( - cooh ) .',\n",
              " 'hai quần đảo madeira và açores là hai vùng tự trị của bồ đào nha . madeira nằm trên mảng kiến tạo châu phi , gồm đảo lớn madeira , porto santo và quần đảo selvagens nhỏ hơn . açores nằm giữa nơi giao nhau của các mảng châu phi , châu âu và bắc mỹ , trên sống núi giữa đại tây dương và gồm có chín đảo .',\n",
              " 'john cena bắt đầu sự nghiệp đấu vật chuyên nghiệp của mình năm 2000 , tham gia thi đấu cho ultimate pro wrestling ( upw ) , nơi mà anh đã từng giữ đai upw heavyweight championship . năm 2001 , cena ký hợp đồng với world wrestling federation ( wwf ) và được gửi tới',\n",
              " 'một số quốc gia với đa số phật tử chịu ảnh hưởng bắc tông ( như trung quốc , hàn quốc , nhật bản , việt nam ) thường tổ chức ngày lễ phật đản vào ngày mồng 8 tháng 4 âm lịch . các quốc gia theo nam tông thường tổ chức vào ngày trăng tròn trong tháng 4 âm lịch hay là ngày trăng tròn trong tháng 5 dương lịch .',\n",
              " 'hội chứng down là một hội chứng bệnh do đột biến số lượng nhiễm sắc thể , mà cụ thể là thừa một nhiễm sắc thể 21 . tên hội chứng được đặt theo john langdon down , một thầy thuốc đã mô tả hội chứng này vào năm 1866 .',\n",
              " 'viện bảo tàng nằm trong cố cung được gọi là viện bảo tàng cố cung . diện tích tử cấm thành là 720.000 m2 , gồm 800 cung và 9999 phòng . do đó , unesco đã xếp cố cung vào loại quần thể cổ bằng gỗ lớn nhất thế giới và được công nhận là di sản thế giới tại trung quốc vào năm 1987 với tên gọi là cung điện triều minh và triều thanh tại bắc kinh và thẩm dương ( tiếng anh : \" imperial palace of the ming and qing dynasties in beijing and shenyang \" ) .',\n",
              " '\" chakravartin ashoka samrat \" dựa trên cuộc đời của ashoka ( 304 – 232 trước công nguyên ) , là hoàng đế thứ ba của vương triều mauryan , ấn độ . drama lịch sử này được sản xuất bởi contiloe entertainment và đạo diễn bởi prasad gavandi . bộ phim được phát sóng từ ngày 2 tháng 2 năm 2015 với thời lượng 45 phút phát sóng cho 20 tập đầu .',\n",
              " 'thứ sáu đen ( tiếng anh : \" black friday \" ) là một cái tên không chính thức cho ngày thứ sáu ngay sau lễ tạ ơn ( ngày lễ tạ ơn rơi vào ngày thứ năm lần thứ 4 trong tháng 11 ở hoa kỳ , cho nên thứ sáu đen rơi vào khoảng ngày 23-29 tháng 11 ) và được coi là ngày mở hàng cho mùa mua sắm giáng sinh của mỹ kể từ năm 1952 , mặc dù thuật ngữ \" black friday \" đã không được sử dụng rộng rãi cho đến những thập kỷ gần đây .',\n",
              " 'ban nhạc được gán với tên gọi \" fab four \" trong quãng thời gian beatlemania ngày một gia tăng tại anh vào năm 1963 , và tới năm 1964 họ trở thành ngôi sao nổi tiếng toàn thế giới , đưa british invasion tới thị trường âm nhạc mỹ .',\n",
              " 'harvard là thành viên sáng lập hiệp hội viện đại học bắc mỹ vào năm 1900 . james bryant conant lãnh đạo viện đại học này trong suốt thời kỳ đại suy thoái và chiến tranh thế giới thứ hai , và sau chiến tranh bắt đầu cải cách chương trình học và mở rộng việc tuyển sinh .',\n",
              " 'trận xích bích ( , hán việt : xích bích chi chiến ) là một trận đánh lớn cuối thời đông hán có tính chất quyết định đến cục diện chia ba thời tam quốc . trận đánh diễn ra vào mùa đông năm kiến an thứ 13 ( tức năm 208 ) giữa liên quân tôn quyền-lưu bị với quân đội lấy danh nghĩa triều đình của tào tháo .',\n",
              " 'hòa thượng thích quảng đức, thế danh lâm văn tuất[1], (1897—11 tháng 6 năm 1963) là một hòa thượng phái đại thừa, người đã tẩm xăng tự thiêu tại ngã tư đường lê văn duyệt và phan đình phùng, sài gòn (nay là ngã tư đường cách mạng tháng tám và nguyễn đình chiểu, quận 3, tp hồ chí minh) vào ngày 11 tháng 6 năm 1963 nhằm phản đối sự đàn áp phật giáo của chính quyền việt nam cộng hòa ngô đình diệm.',\n",
              " 'park hang-seo ( hangul : 박항서 , hanja : 朴恒緖 , hán-việt : \" phác hằng tự \" , sinh ngày 4 tháng 1 năm 1959 , tại huyện sancheong , tỉnh gyeongsang nam , hàn quốc ) là một huấn luyện viên bóng đá người hàn quốc . ông chính thức ra mắt vai trò huấn luyện viên trưởng của đội tuyển bóng đá nam và u23 việt nam từ ngày 11 tháng 10 năm 2017 .',\n",
              " 'tây ban nha trở thành thành viên chính thức của fifa vào năm 1904 , nhưng liên đoàn bóng đá hoàng gia tây ban nha lại được thành lập vào năm 1909 . trận thi đấu quốc tế đầu tiên của đội tuyển tây ban nha là trận gặp đội tuyển đan mạch vào năm 1920 .',\n",
              " 'tuy nhiên , vẫn còn rất nhiều tranh luận về lý do tại sao thời kỳ phục hưng lại bắt đầu tại ý , và tại sao nó lại bắt đầu vào một thời điểm như thế . bởi vậy , một số giả thuyết đã được đưa ra để giải thích nguồn gốc của thời kỳ phục hưng .',\n",
              " 'toà tháp là toà nhà cao thứ hai việt nam . landmark 72 là khu phức hợp nằm ngay trung tâm khu đô thị mới của hà nội , việt nam . với hai toà nhà chung cư 50 tầng và một toà tháp 72 tầng , một thành phố thu nhỏ trong lòng hà nội .',\n",
              " 'ông mất vào tháng 1 năm 1974 ở sài gòn và được đưa về an táng trong phần mộ gia đình tại ấp cái dầy , xã châu hưng , huyện vĩnh lợi , bạc liêu . ba huy mất sau khi hoang phí gần hết gia sản , chỉ để lại cho các con mấy căn phố lầu .',\n",
              " 'trà vinh là một tỉnh ven biển ở đồng bằng sông cửu long , miền nam việt nam .',\n",
              " 'lại văn sâm ( sinh ngày 10 tháng 6 năm 1957 ) là một nhà báo , người dẫn chương trình truyền hình , biên tập viên của đài truyền hình việt nam ( vtv ) . ông là một trong những người đề xuất đưa các trò chơi truyền hình lên kênh vtv 3 .',\n",
              " 'park hang-seo là một huấn luyện viên bóng đá chuyên nghiệp người hàn quốc. ông chính thức ra mắt vai trò huấn luyện viên trưởng của đội tuyển bóng đá nam và u23 việt nam từ ngày 11 tháng 10 năm 2017.',\n",
              " 'phùng xuân nhạ sinh ngày 3 tháng 6 năm 1963 tại xã tống phan , huyện phù cừ , tỉnh hưng yên . ông là một giáo sư , tiến sĩ ngành kinh tế , chủ tịch hội đồng chức danh giáo sư nhà nước , và là một chính khách việt nam .',\n",
              " 'hội thánh của đức chúa trời ( tiếng anh : church of god ) , với trụ sở chính ở cleveland , tennessee , hoa kỳ là một hệ phái thiên chúa giáo pentecostal . với hơn sáu triệu thành viên ở trên 180 quốc gia , hội thánh của đức chúa trời là một trong những hội thánh pentecostal lớn nhất thế giới .',\n",
              " 'ngày 26 tháng 3 năm 1995 , bồ đào nha bắt đầu áp dụng các quy tắc khu vực schengen , loại bỏ kiểm soát biên giới với các thành viên schengen đồng thời củng cố biên giới các quốc gia khác . năm 1996 , bồ đào nha đồng sáng lập cộng đồng các quốc gia nói tiếng bồ đào nha ( cplp ) có trụ sở tại lisboa .',\n",
              " 'kể từ năm 1965 , the beatles bắt đầu thu âm và thực hiện những kiệt tác xuất sắc nhất của họ , bao gồm những album vĩ đại nhất lịch sử âm nhạc thế giới như \" rubber soul \" ( 1965 ) , \" revolver \" ( 1966 ) , \" sgt . pepper \\' s lonely hearts club band \" ( 1967 ) , \" the beatles \" ( \" album trắng \" , 1968 ) và \" abbey road \" ( 1969 ) .',\n",
              " 'mạch chỉnh lưu có thể được sử dụng trong các bộ nguồn cung cấp dòng điện một chiều , hoặc trong các mạch tách sóng tín hiệu vô tuyến điện trong các thiết bị vô tuyến . phần tử tích cực trong mạch chỉnh lưu có thể là các điốt bán dẫn , các đèn chỉnh lưu thuỷ ngân hoặc các linh kiện khác .',\n",
              " 'lee min ho ( sinh ngày 22 tháng 6 năm 1987 ) là nam diễn viên , người mẫu hàn quốc được biết đến các với vai goo jun pyo trong phim truyền hình \" vườn sao băng \" , vai lee yoon sung trong phim truyền hình \" thợ săn thành phố \" và trong phim \" những người thừa kế \" với vai diễn kim tan năm 2013 .',\n",
              " 'gỗ nhóm 1 ở việt nam là những loại gỗ quý . tiêu chuẩn chính của các loại gỗ trong nhóm này là gỗ có màu sắc , vân thớ đẹp , hương vị thơm và rất khan hiếm , có giá trị kinh tế cao nhất . các loại gỗ trong nhóm này thường dùng làm đồ mỹ nghệ , gỗ lạng , hàng mộc chạm khảm , ván sàn đặc biệt ...',\n",
              " 'lễ hội là một sự kiện văn hóa được tổ chức mang tính cộng đồng. \"lễ\" là hệ thống những hành vi, động tác nhằm biểu hiện sự tôn kính của con người với thần linh, phản ánh những ước mơ chính đáng của con người trước cuộc sống mà bản thân họ chưa có khả năng thực hiện.',\n",
              " 'nguyễn công phượng ( sinh ngày 21 tháng 1 năm 1995 tại mỹ sơn , đô lương , nghệ an ) là một cầu thủ bóng đá chuyên nghiệp người việt nam hiện đang thi đấu ở vị trí tiền đạo câu lạc bộ hoàng anh gia lai tại  v.league 1  và đội tuyển quốc gia việt nam .',\n",
              " 'đại học harvard được thành lập năm 1636 là trường già nhất nước mỹ, đồng thời cũng là một trong những cơ sở giáo dục uy tín nhất thế giới.',\n",
              " 'lịch sử là một bộ môn khoa học nghiên cứu về quá khứ, đặc biệt là những sự kiện liên quan đến con người. đây là thuật ngữ chung có liên quan đến các sự kiện trong quá khứ cũng như những ghi nhớ, phát hiện, thu thập, tổ chức, trình bày, giải thích và thông tin về những sự kiện này.',\n",
              " 'vườn quốc gia cúc phương ( hay rừng cúc phương ) là một khu bảo tồn thiên nhiên , khu rừng đặc dụng nằm trên địa phận ranh giới 3 khu vực tây bắc , châu thổ sông hồng và bắc trung bộ thuộc ba tỉnh : ninh bình , hoà bình , thanh hoá .',\n",
              " 'vitas là nghệ danh của vitaly \" vitalik \" vladasovich grachyov ( tiếng latvia : \" vitalij vladasovič gračëv \" ; tiếng nga : \" виталий владасович грачёв \" ; phiên âm tiếng việt : vi-ta-li \" vi-ta-lích \" vla-đa-sô-vích gra-chốp , sinh ngày 19 tháng 2 năm 1979 ) , là một ca sĩ người ukraina , hát chủ yếu bằng tiếng nga , và là một người viết bài hát .',\n",
              " 'năm 2003 , trịnh vĩnh bình , với tư cách là một nhà đầu tư nước ngoài có quốc tịch hà lan bị mất tài sản tại việt nam , đã nộp đơn kiện phía việt nam ra một trung tâm trọng tài quốc tế về giải quyết các tranh chấp trong lĩnh vực đầu tư , đặt tại stockholm ( thuỵ điển ) .',\n",
              " 'tên gọi khoa học của chi này có nguồn gốc từ tiếng tamil \" murungakkai \" . tại gujarati , người ta gọi chúng là \" saragvo \" . khu vực phân bổ chủ yếu của chúng là đông bắc và tây nam châu phi , madagascar , bán đảo ả rập , nam á.',\n",
              " 'tôn giáo ai cập cổ đại bao gồm các niềm tin tôn giáo và nghi thức khác nhau tại ai cập cổ đại qua hơn 3.000 năm , từ thời kỳ tiền triều đại cho đến khi du nhập kitô giáo trong những thế kỷ đầu công nguyên .',\n",
              " 'huyện lư giang có 17 trấn . năm 175 , quân sư và đô đốc nhà đông ngô của tôn quyền là chu du đã được sinh ra tại quận lư giang , ngày nay là huyện lư giang .',\n",
              " 'bắc bộ là một trong 3 vùng lãnh thổ chính ( gồm bắc bộ , trung bộ và nam bộ ) của việt nam . bắc bộ cùng với một phần của bắc trung bộ thuộc địa danh miền bắc việt nam . bắc bộ trong lịch sử trải qua nhiều tên gọi , thời kỳ trịnh-nguyễn phân tranh được gọi là đàng ngoài hay bắc hà , thời pháp thuộc gọi là bắc kỳ , dưới thời chính phủ bảo đại trong cuộc chiến tranh đông dương còn được gọi là bắc phần .',\n",
              " 'tuân nguyễn qua đời ngày 9 tháng 5 năm 1983 ( nhằm ngày 27 tháng 3 năm quý hợi ) , an táng tại lô 7 , đường số 3 , nghĩa trang gò dưa , quận thủ đức , thành phố hồ chí minh . theo như một số nguồn tin trên báo thì nguyên nhân ông mất là do bị chấn thương sọ não sau khi bị xe ôtô đụng .',\n",
              " 'hoài linh ( 1920 - 1995 ) tên thật lê văn linh , là một nhạc sĩ nhạc vàng nổi tiếng . trước 1975 , ông hoạt động trong đoàn văn nghệ vì dân ( thuộc nha cảnh sát quốc gia ) với cấp bậc trung uý dưới quyền điều khiển của nhạc sĩ nguyễn văn đông .',\n",
              " 'trần trinh huy là con trai ông trần trinh trạch , tức hội đồng trạch và bà phan thị muồi , con gái bá hộ phan văn bì , người có đất ruộng nhiều nhất trong tỉnh bạc liêu , người ta tặng cho ông bá hộ là \" vua lúa gạo nam kỳ .',\n",
              " 'thuyết tương đối gồm hai lý thuyết vật lý do albert einstein phát triển , với thuyết tương đối đặc biệt công bố vào năm 1905 và thuyết tương đối tổng quát công bố vào cuối năm 1915 và đầu năm 1916 . thuyết tương đối hẹp miêu tả hành xử của không gian và thời gian và những hiện tượng liên quan từ những quan sát viên chuyển động đều tương đối với nhau .',\n",
              " 'bà trở thành hoàng thái hậu nhiếp chính dưới thời tuyên thống đế phổ nghi , hoàng đế thứ 12 cũng là hoàng đế cuối cùng của triều thanh và cả trung quốc . vì vậy bà là hoàng thái hậu cuối cùng trong lịch sử . bà được biết đến vai trò lớn là ký hiệp ước thoái vị thay cho vị hoàng đế trẻ tuổi vào năm 1912 , về cơ bản chấm dứt triều đại nhà thanh và chấm dứt chế độ quân chủ của trung quốc .',\n",
              " 'trần trinh huy ( 1900-1974 ) hay còn gọi là ba huy , là một công tử ăn chơi nổi tiếng ở sài gòn và miền nam những năm 1930 , 1940 . mức độ vung tiền tiêu xài của ông nổi danh xếp hạng đầu bảng trong số các công tử bạc liêu thời bấy giờ , đến nỗi khi nói đến thành ngữ công tử bạc liêu người ta thường liên tưởng đến ông .',\n",
              " 'tăng trưởng kinh tế là sự gia tăng của tổng sản phẩm quốc nội ( gdp ) hoặc tổng sản lượng quốc gia ( gnp ) hoặc quy mô sản lượng quốc gia tính bình quân trên đầu người ( pci ) trong một thời gian nhất định .',\n",
              " 'khmer đỏ ( ខ្មែរក្រហម ) ( tiếng pháp : khmer rouge ) , tên chính thức đảng cộng sản campuchia và sau này là đảng campuchia dân chủ , là một tổ chức chính trị cầm quyền tại campuchia từ 1975 đến 1979 . tổ chức này còn được biết với các tên đảng cộng sản khmer , quân đội nhân dân campuchia dân chủ .',\n",
              " '\" beatle thứ năm \" là một khái niệm mở rộng mà báo chí và người hâm mộ dành để nói về những nhân vật có đóng góp quan trọng tới sự thành công của the beatles . ngoài 4 thành viên chính mà được gọi là \" fab four \" ( john lennon , paul mccartney , george harrison và ringo starr ) , khái niệm \" beatle thứ năm \" xuất hiện trong giai đoạn bùng nổ của the beatles trong những năm 1963-1965 .',\n",
              " 'ban tổ chức trung ương đảng cộng sản việt nam có công văn số 214 - pc / btctw , ngày 01/03/2005 gửi ubnd tỉnh kiên giang với nội dung : \" \" ngày 24/02/2005 , ban tổ chức trung ương nhận được đơn , thư của ông hà văn thuỳ , trú tại 128/85 lê lư , phương phú thọ hoà , quận tân phú , thành phố hồ chí minh khiếu nại việc ông bị buộc thôi việc khỏi hội văn nghệ kiên giang và đề nghị giải quyết chính sách hưu trí đối với ông ( có toàn bộ đơn thư kèm theo ) \" \" .',\n",
              " 'ngày 25 tháng 8 năm kỷ sửu ( tức 22 tháng 9 năm 1829 ) , bà sinh người con thứ ba là trai , đặt tên là nguyễn phúc thì , sau đổi tên thành nguyễn phúc hồng nhậm , tức tự đức hoàng đế sau này .',\n",
              " 'xuân thu là tên gọi một giai đoạn lịch sử từ 771 đến 476 tcn trong lịch sử trung quốc . tên của nó bắt nguồn từ cuốn kinh xuân thu ( biên niên sử xuân thu ) , một cuốn sử mà theo truyền thống thường được coi là của khổng tử .',\n",
              " '\" chakravartin ashoka samrat \" dựa trên cuộc đời của ashoka ( 304 – 232 trước công nguyên ) , là hoàng đế thứ ba của vương triều mauryan , ấn độ . drama lịch sử này được sản xuất bởi contiloe entertainment và đạo diễn bởi prasad gavandi . bộ phim được phát sóng từ ngày 2 tháng 2 năm 2015 với thời lượng 45 phút phát sóng cho 20 tập đầu .',\n",
              " 'toà tháp là toà nhà cao thứ hai việt nam . landmark 72 là khu phức hợp nằm ngay trung tâm khu đô thị mới của hà nội , việt nam . với hai toà nhà chung cư 50 tầng và một toà tháp 72 tầng , một thành phố thu nhỏ trong lòng hà nội .',\n",
              " 'tam quốc diễn nghĩa , nguyên tên là \" tam quốc chí thông tục diễn nghĩa \" , là một tiểu thuyết lịch sử trung quốc được la quán trung viết vào thế kỷ 14 kể về thời kỳ hỗn loạn tam quốc ( 190-280 ) với khoảng 120 chương hồi , theo phương pháp \" bảy thực ba hư \" ( bảy phần thực ba phần hư cấu ) .',\n",
              " 'trịnh sảng ( sinh ngày 22 tháng 8 năm 1991 ) là nữ diễn viên người trung quốc . cô tốt nghiệp học viện điện ảnh bắc kinh 2011 . năm 2009 , với vai diễn đầu tay sở vũ tiêm trong cùng ngắm mưa sao băng cô bắt đầu nổi tiếng và được đông đảo khán giả biết .',\n",
              " 'hiện nay luật bóng đá chính thức có 17 điều được áp dụng cho mọi cấp độ chơi bóng và chỉ có một vài sửa đổi nhỏ cho phù hợp với bóng đá nữ và bóng đá trẻ .',\n",
              " 'thành lập năm 1701 ở khu định cư connecticut , yale là một trong những viện đại học lâu đời nhất ở hoa kỳ , chỉ sau trường đại học harvard ( 1636 ; sau này là viện đại học harvard ) và trường đại học william & mary ( 1693 ) .',\n",
              " 'trần trinh huy , tên thật là trần trinh quy sinh ngày 22 tháng 6 năm 1900 , nhưng do cho rằng cái tên \" quy \" không sang trọng nên ông đổi lại thành \" huy \" . ngoài tên công tử bạc liêu , trần trinh huy còn mang nhiều tên khác như ba huy , hội đồng ba ( cách gọi của tá điền , sự thật thì ba huy không là thành viên trong hội đồng nào ) , hắc công tử ( do nước da ngăm đen và để phân biệt với bạch công tử ) .',\n",
              " 'pascal là một ngôn ngữ lập trình máy tính thuộc dạng mệnh lệnh và thủ tục , được niklaus wirth phát triển vào năm 1970 là ngôn ngữ lập trình đặc biệt thích hợp cho kiểu lập trình cấu trúc và cấu trúc dữ liệu . được đặt theo tên của nhà toán học , triết gia và nhà vật lí người pháp , blaise pascal .',\n",
              " 'chiến tranh triều tiên ( ở hàn quốc , \" korean war \" ; ở chdcnd triều tiên là cuộc chiến xảy ra và kéo dài từ giữa năm 1950 đến năm 1953 trên bán đảo triều tiên bị chia cắt vì sự chiếm đóng tạm thời của liên xô và hoa kỳ .',\n",
              " 'hồ quý ly ( chữ hán : 胡季犛 ; 1336 – 1407 ? ) , lấy tên huý hồ nhất nguyên , là vị hoàng đế đầu tiên của nhà nước đại ngu trong lịch sử việt nam . ông ở ngôi vị hoàng đế từ năm 1400 đến năm 1401 , sau đó giữ ngôi thái thượng hoàng từ năm 1401 đến năm 1407 .',\n",
              " 'the beatles từng giành tới 10 giải grammy , 1 giải oscar cho nhạc phim hay nhất và 15 giải ivor novello . có tên trong danh sách \" \" của tạp chí \" time \" , họ cũng được nhắc tới là nghệ sĩ có số đĩa bán chạy nhất lịch sử với hơn 600 triệu đĩa đã bán trên toàn thế giới .',\n",
              " 'nhã phương ( tên thật : trần thị nhã phương , biệt danh : nabi nhã phương , sinh ngày 20 tháng 5 năm 1990 ) là nữ diễn viên điện ảnh người việt nam . cô được biết đến qua các phim như \" những thiên thần áo trắng , gia đình số đỏ , hoa nắng , cô nàng nặng cân , quả tim máu , vừa đi vừa khóc , tuổi thanh xuân , ngày ấy mình đã yêu \" ...',\n",
              " 'đội bóng này thường được coi là đội bóng chơi tốt nhất hành tinh và là đội duy nhất tham dự tất cả các vòng chung kết bóng đá thế giới .',\n",
              " 'chiến tranh trung - nhật ( 1894 - 1895 ) hay chiến tranh thanh - nhật là cuộc chiến nhằm chống lại các lực lượng quân sự nhà thanh của trung quốc đóng quân ở bán đảo triều tiên , mãn châu , và bờ biển trung quốc . đó là cuộc xung đột lớn đầu tiên giữa nhật bản và một thế lực quân sự ở nước ngoài trong thời hiện đại .',\n",
              " 'rất tiếc , công việc chưa đi đến đâu thì nhạc sĩ hoài linh đã mất ngày 30 tháng 4 năm đó ở tuổi 71 .',\n",
              " 'đạo đức là một từ hán việt , được dùng từ xa xưa để chỉ một thành tố trong tính cách và giá trị của một con người .',\n",
              " 'trần quốc toản , hay hoài văn hầu hoặc hoài văn vương , là một tông thất nhà trần , sống ở thời kỳ trị vì của trần nhân tông .',\n",
              " 'hồ tây trước đây còn có các tên gọi khác như đầm xác cáo , hồ kim ngưu , lãng bạc , dâm đàm , đoài hồ , là một hồ nước tự nhiên lớn nhất ở nội thành hà nội . hồ có diện tích hơn 500 ha với chu vi là 14,8 km . hồ nằm ở vị trí phía tây bắc trung tâm hà nội .',\n",
              " 'glucose là một loại đường đơn giản ( monosaccarit ) , và cũng là một gluxit ( cacbohydrat ) tiêu biểu . tên \" glucose \" đến từ ngôn ngữ hy lạp , chữ \" glu \" nghĩa là rượu nho ngọt , nước nho ; còn đuôi \" ose \" nhằm thể hiện sự phân loại chất trong hoá học ( đuôi \" ose \" biểu thị cho các chất cacbohydrat ) .',\n",
              " 'đội tuyển bóng đá quốc gia tây ban nha là đội tuyển của liên đoàn bóng đá hoàng gia tây ban nha và đại diện cho tây ban nha trên bình diện quốc tế . huấn luyện viên của đội hiện nay là luis enrique . tây ban nha còn có những biệt danh như \" la roja \" ( \" đội quân màu đỏ \" ) , \" la furia roja \" ( \" cơn thịnh nộ màu đỏ \" ) , \" la furia española \" ( \" cơn thịnh nộ của tây ban nha \" ) hay đơn giản là \" la furia \" ( \" cơn thịnh nộ \" ) .',\n",
              " 'đến đầu thế kỷ xx , bhutan thiết lập quan hệ với đế quốc anh . khi chủ nghĩa cộng sản giành thắng lợi tại trung quốc và truyền bá đến tây tạng , bhutan ký kết hiệp ước hữu nghị với ấn độ vào năm 1949 . quốc gia này từ giã vị thế cô lập có tính lịch sử của mình dưới thời quốc vương jigme singye wangchuck .',\n",
              " 'hội chứng down là một hội chứng bệnh do đột biến số lượng nhiễm sắc thể , mà cụ thể là thừa một nhiễm sắc thể 21 . tên hội chứng được đặt theo john langdon down , một thầy thuốc đã mô tả hội chứng này vào năm 1866 .',\n",
              " 'sân bay quốc tế nội bài thuộc huyện sóc sơn , cách trung tâm thủ đô hà nội 35  km theo tuyến đường bộ về phía tây bắc . khoảng cách này đã được rút ngắn còn lại 27  km khi cầu nhật tân và tuyến đường nối đầu cầu này với nội bài hoàn thành trong năm 2015 , ngoài ra còn có thể đi theo quốc lộ 3 dẫn từ cầu chương dương đến ngã 3  giao cắt với quốc lộ 2 để vào sân bay .',\n",
              " 'hoá học , một nhánh của khoa học tự nhiên , là ngành nghiên cứu về thành phần , cấu trúc , tính chất , và sự thay đổi của vật chất . hoá học nói về các nguyên tố , hợp chất , nguyên tử , phân tử , và các phản ứng hoá học xảy ra giữa những thành phần đó .',\n",
              " 'văn học dân gian ( vhdg ) hay văn học truyền miệng là những sáng tác văn học do nhân dân tạo nên và lưu truyền . vhdg cũng là những sáng tác nghệ thuật ngôn từ như văn học viết , nhưng lại có những đặc điểm riêng về lịch sử ra đời & phát triển , về người sáng tác , về cách thức sáng tác & lưu truyền , về nội dung tư tưởng & thể loại nghệ thuật',\n",
              " 'khu di tích côn sơn - kiếp bạc là một trong 62 di tích quốc gia đặc biệt quan trọng của việt nam . quần thể di tích này thuộc địa bàn thị xã chí linh tỉnh hải dương . nơi đây gồm quần thể các di tích lịch sử liên quan đến những chiến công lẫy lừng trong ba lần quân dân thời trần đánh thắng quân xâm lược nguyên mông thế kỷ xiii và trong cuộc kháng chiến 10 năm của nghĩa quân lam sơn chống quân minh ở thế kỷ xv .',\n",
              " 'bồ đào nha ( tiếng bồ đào nha : \" portugal \" , ) , tên chính thức là cộng hoà bồ đào nha ( , ) , là một quốc gia nằm ở tây nam châu âu trên bán đảo iberia . bồ đào nha là nước cực tây của châu âu lục địa . bồ đào nha giáp với đại tây dương ở phía tây và phía nam , giáp tây ban nha ở phía đông và phía bắc .',\n",
              " 'với gần 8% , việt nam là quốc gia có tỷ lệ người công giáo trong tổng dân số xếp thứ năm ở châu á ( sau đông timor , philippines , liban và hàn quốc ) . thời cực thịnh , công giáo tại việt nam còn được mệnh danh là \" trưởng nữ giáo hội bên viễn đông \" .',\n",
              " 'hán vũ đế ( chữ hán : 漢武帝 ; 31 tháng 7 , 156 tcn - 29 tháng 3 , 87 tcn ) , hay được phiên thành hán võ đế , tên thật lưu triệt , là vị hoàng đế thứ bảy của nhà hán trong lịch sử trung quốc .',\n",
              " 'hillary diane rodham clinton  ( , sinh ngày 26 tháng 10 năm 1947 ) là ứng cử viên tổng thống mỹ năm 2016 đại diện cho đảng dân chủ . trước đó , bà đã từng phục vụ trong nội các của tổng thống barack obama với chức vụ ngoại trưởng hoa kỳ thứ 67 từ ngày 21 tháng 1 năm 2009 đến ngày 1 tháng 2 năm 2013 .',\n",
              " 'trung quốc , tên chính thức là nước cộng hoà nhân dân trung hoa , là một quốc gia có chủ quyền nằm tại đông á. đây là quốc gia đông dân nhất trên thế giới , với số dân trên 1,405 tỷ người . trung quốc là quốc gia độc đảng do đảng cộng sản trung quốc cầm quyền , chính phủ trung ương đặt tại thủ đô bắc kinh .',\n",
              " 'nguyễn tuân sinh ngày 10 tháng 7 năm 1910 ở phố hàng bạc , hà nội , quê ở thôn thượng đình , xã nhân mục ( tên nôm là làng mọc ) , nay thuộc phường nhân chính , quận thanh xuân , hà nội .',\n",
              " 'tử cấm thành bắc kinh , trung quốc hay cố cung ( theo cách gọi ngày nay ) , nằm ngay giữa trung tâm thành phố bắc kinh trước đây , là cung điện của các triều đại từ giữa nhà minh đến cuối nhà thanh trung quốc . viện bảo tàng nằm trong cố cung được gọi là viện bảo tàng cố cung .',\n",
              " 'trước đây vùng đất trà vinh còn được gọi là xứ trà vang . tên trà vang vốn có nguồn gốc từ ngôn ngữ môn-khmer cổ mà dân gian thường gọi là trah păng . tên gọi ấy phản ánh đặc điểm cảnh quan thuở xa xưa của một vùng đất mới được bồi đắp ở ven sông , ven biển , có nhiều vùng trũng , đầm lầy ...',\n",
              " 'kinh tế bhutan phụ thuộc rất lớn vào xuất khẩu thuỷ điện . thu nhập bình quân đầu người của bhutan cao thứ nhì tại nam á , đứng sau maldives .',\n",
              " 'công nguyên là kỉ nguyên bắt đầu bằng năm theo truyền thống được cho là năm sinh của chúa giêsu . các năm trước đó được gọi là \" trước công nguyên \" hay \" trước tây lịch \" .',\n",
              " 'bồ đào nha là thành viên sáng lập của nato và cộng đồng các quốc gia nói tiếng bồ đào nha , và cũng là một thành viên của nhiều tổ chức quốc tế khác như liên hiệp quốc , liên minh châu âu , khu vực đồng euro , và oecd .',\n",
              " 'trần thiện thanh (12 tháng 6 năm 1942 – 13 tháng 5 năm 2005) là một trong những nhạc sĩ việt nam nổi tiếng nhất giai đoạn trước 1975. một số bút hiệu khác của ông là anh chương (tên con trai ông), trần thiện thanh toàn (em trai ông, đã tử trận), thanh trân trần thị. ông còn là ca sĩ với nghệ danh nhật trường và được xem như là một trong bốn giọng nam nổi tiếng nhất của nhạc vàng (\"tứ trụ nhạc vàng\").',\n",
              " 'vitas là nghệ danh của vitaly \" vitalik \" vladasovich grachyov ( tiếng latvia : \" vitalij vladasovič gračëv \" ; tiếng nga : \" виталий владасович грачёв \" ; phiên âm tiếng việt : vi-ta-li \" vi-ta-lích \" vla-đa-sô-vích gra-chốp , sinh ngày 19 tháng 2 năm 1979 ) , là một ca sĩ người ukraina , hát chủ yếu bằng tiếng nga , và là một người viết bài hát .',\n",
              " 'đối với người hindu , rắn như một biểu tượng của thần thánh và đi sâu vào tôn giáo của người balamon với lễ hội của rắn . rắn naga là biểu tượng của linh vật bảo vệ tôn giáo , cội nguồn của sự sống và cái chết .',\n",
              " 'máy học nghiên cứu cách thức để mô hình hoá bài toán cho phép máy tính tự động hiểu , xử lý và học từ dữ liệu để thực thi nhiệm vụ được giao cũng như cách đánh giá giúp tăng tính hiệu quả .',\n",
              " 'quỹ nhi đồng liên hiệp quốc viết tắt là unicef ( tiếng anh : \" united nations children \\' s fund \" ) là một quỹ cứu tế được thành lập bởi đại hội đồng liên hiệp quốc ngày 11 tháng 12 năm 1946 .',\n",
              " 'nguyễn phú trọng ( sinh 14 tháng 4 năm 1944 ) là chính trị gia người việt nam . ông hiện là tổng bí thư ban chấp hành trung ương đảng cộng sản việt nam , chủ tịch nước cộng hoà xã hội chủ nghĩa việt nam , đại biểu quốc hội việt nam khoá xiv nhiệm kì 2016 – 2021 , thuộc đoàn đại biểu quốc hội thành phố hà nội .',\n",
              " 'ếch đồng ( danh pháp hai phần : \" hoplobatrachus rugulosus \" ) là một loài ếch trong họ ranidae .',\n",
              " 'họ cu rốc hay chim gõ mõ ( danh pháp khoa học : megalaimidae ) là một họ chim trong bộ piciformes . tuy nhiên , đôi khi họ này được gộp vào họ capitonidae thành họ capitonidae \" sensu lato \" hoặc vào họ ramphastidae \" sensu lato \" .',\n",
              " 'điệu cò lả là một trong những làn điệu hát ru dân ca đồng bằng bắc bộ , việt nam . điệu cò lả là một giai điệu có nhiều vần , nhưng sự du dương của giai điệu giống như một điệp khúc .',\n",
              " 'kim đồng ( 1929 – 15 tháng 2 năm 1943 ) là bí danh của nông văn dèn ( một số sách báo ghi nhầm thành nông văn dền ) , một thiếu niên người dân tộc nùng , ở thôn nà mạ , xã trường hà , huyện hà quảng , tỉnh cao bằng . anh là người đội trưởng đầu tiên của tổ chức đội thiếu niên tiền phong hồ chí minh . đội tntp hcm được thành lập ngày 15 tháng 5 năm 1941 .',\n",
              " 'lý mạc sầu ( có bản dịch tiếng việt là lý mạc thu ) là một nhân vật hư cấu trong tiểu thuyết thần điêu hiệp lữ của kim dung . lý mạc sầu là đệ tử đời thứ ba của phái cổ mộ , là sư tỷ của tiểu long nữ , là một con người rất xinh đẹp nhưng tàn độc với công phu ngũ độc thần chưởng ( còn gọi là xích luyện thần chưởng ) và băng phách ngân châm .',\n",
              " 'theo một cuộc khảo sát công bố vào năm 2001 của fifa , tổ chức quản lý bóng đá trên thế giới , có hơn 240 triệu người thường xuyên chơi bóng đá ở hơn 200 quốc gia . luật chơi đơn giản và dụng cụ thi đấu ít tốn kém giúp cho trò chơi này phát triển mạnh mẽ . ở nhiều nước , bóng đá có vai trò quan trọng trong cuộc sống của người hâm mộ , trong cộng đồng địa phương hay cả quốc gia ; do đó có thể nói đây là môn thể thao phổ biến nhất thế giới .',\n",
              " 'hiện nay luật bóng đá chính thức có 17 điều được áp dụng cho mọi cấp độ chơi bóng và chỉ có một vài sửa đổi nhỏ cho phù hợp với bóng đá nữ và bóng đá trẻ .',\n",
              " 'tối 9/5 , tại khuôn viên đại sứ quán việt nam tại malaysia , ban liên lạc cộng đồng người việt nam tại malaysia đã tổ chức \" ngày hội cộng đồng lần thứ 2 \" nhằm khơi dậy tinh thần hướng về cội nguồn nhân kỷ niệm 40 năm ngày giải phóng miền nam , thống nhất đất nước ( 30/4 ) và kỷ niệm 125 năm ngày sinh của chủ tịch hồ chí minh ( 19/5 ) .',\n",
              " 'trần thái tông, tên khai sinh là trần cảnh, là vị hoàng đế đầu tiên của hoàng triều trần nước đại việt. ông giữ ngôi từ ngày 10 tháng 1 năm 1226 tới ngày 30 tháng 3 năm 1258, sau đó làm thái thượng hoàng cho đến khi qua đời năm 1277. trần cảnh sinh ra vào thời lý, quê ở làng tức mặc.',\n",
              " 'iran có dân số trên 79,92 triệu người tính đến năm 2017 , là quốc gia đông dân thứ 18 trên thế giới . lãnh thổ iran rộng 1.648.195  km2 , là quốc gia rộng thứ nhì tại trung đông và đứng thứ 17 thế giới . iran có vị thế địa chính trị quan trọng do nằm tại phần trung tâm của đại lục á-âu và gần với eo biển hormuz .',\n",
              " 'trịnh – nguyễn phân tranh là thời kỳ phân chia giữa chế độ \" vua lê chúa trịnh \" ở phía bắc sông gianh ( sử gọi là đàng ngoài ) và chúa nguyễn cai trị ở miền nam ( đàng trong ) , mở đầu khi trịnh tráng đem quân đánh nguyễn phúc nguyên năm 1627 và kết thúc vào cuối thế kỷ 18 khi nhà tây sơn đánh đổ cả chúa nguyễn lẫn chúa trịnh .',\n",
              " 'phần mềm máy tính ( tiếng anh : \" computer software \" ) hay gọi tắt là \" phần mềm \" ( \" software \" ) là một tập hợp những câu lệnh hoặc chỉ thị ( \" instruction \" ) được viết bằng một hoặc nhiều ngôn ngữ lập trình theo một trật tự xác định , và các \" dữ liệu \" hay \" tài liệu \" liên quan nhằm tự động thực hiện một số nhiệm vụ hay chức năng hoặc giải quyết một vấn đề cụ thể nào đó',\n",
              " 'pascal ( ký hiệu pa ) là đơn vị đo áp suất trong hệ đo lường quốc tế ( si ) . nó là một đơn vị dẫn xuất trong si nghĩa là nó được suy ra từ việc các đơn vị cơ bản .',\n",
              " 'bệnh tình ngày thêm trầm trọng cho đến khi ông mất tại nhà vào khoảng 10h tối thứ bảy ngày 14 tháng 12 năm 1799 , thọ 67 tuổi . lời cuối cùng của ông là \" \\' tis well \" ( tạm hiểu là tốt lắm , tôi chết đau đớn nhưng tôi không sợ ) .',\n",
              " 'theo đó thì ông sinh năm 1897 tại làng hội khánh , xã vạn khánh , huyện vạn ninh , tỉnh khánh hoà , thuộc miền trung việt nam , trong một gia đình có bảy anh chị em , cha là lâm hữu ứng và mẹ là nguyễn thị nương . năm lên bảy tuổi , cậu bé lâm văn tức xuất gia tu học với hoà thượng thích hoằng thâm , vừa là thầy bản sư , vừa là cậu ruột .',\n",
              " 'thế vận hội bắt nguồn từ các cuộc thi đấu thể thao thời hy lạp cổ đại từ năm 776 trước công nguyên cho đến khi hoàng đế la mã là theodosius i cấm đoán vào năm 394 . và thế vận hội hiện đại được nam tước người pháp pierre frèdy de coubertin tổ chức lần đầu tiên vào cuối thế kỷ 19 .',\n",
              " 'bồ đào nha ( tiếng bồ đào nha : \" portugal \" , ) , tên chính thức là cộng hoà bồ đào nha ( , ) , là một quốc gia nằm ở tây nam châu âu trên bán đảo iberia . bồ đào nha là nước cực tây của châu âu lục địa . bồ đào nha giáp với đại tây dương ở phía tây và phía nam , giáp tây ban nha ở phía đông và phía bắc .',\n",
              " 'ashoka đại đế là vị vua thứ ba của vương triều ma-ta-ga thời ấn độ xưa , trị vì ấn độ từ năm 273 đến 232 trước cn .',\n",
              " 'ỷ thiên đồ long ký (tiếng trung: 倚天屠龍記), còn được dịch ra tiếng việt là cô gái đồ long, là một tiểu thuyết võ hiệp của nhà văn kim dung. đây là cuốn cuối cùng trong bộ tiểu thuyết xạ điêu tam khúc. tiểu thuyết được hương cảng thương báo xuất bản lần đầu năm 1961 tại hồng kông và sau đó bản tiếng việt được nhà xuất bản văn học xuất bản tại việt nam.',\n",
              " 'đế quốc nhật bản hay đại nhật bản đế quốc là một quốc gia dân tộc trong lịch sử nhật bản tồn tại từ cuộc cách mạng minh trị năm 1868 cho đến khi hiến pháp nhật bản được ban hành vào năm 1947',\n",
              " 'trong hệ si , đơn vị của áp suất bằng newton trên mét vuông ( n / m ) , nó được gọi là pascal ( pa ) mang tên nhà toán học và vật lý người pháp blaise pascal thế kỉ thứ 17 . áp suất 1 pa là rất nhỏ , nó xấp xỉ bằng áp suất của một đồng đô la tác dụng lên mặt bàn .',\n",
              " 'đội tuyển bóng đá quốc gia tây ban nha là đội tuyển của liên đoàn bóng đá hoàng gia tây ban nha và đại diện cho tây ban nha trên bình diện quốc tế . huấn luyện viên của đội hiện nay là luis enrique . tây ban nha còn có những biệt danh như \" la roja \" ( \" đội quân màu đỏ \" ) , \" la furia roja \" ( \" cơn thịnh nộ màu đỏ \" ) , \" la furia española \" ( \" cơn thịnh nộ của tây ban nha \" ) hay đơn giản là \" la furia \" ( \" cơn thịnh nộ \" ) .',\n",
              " 'nguyễn văn chi ( sinh năm 1945 ) là một chính trị gia việt nam . ông từng giữ chức uỷ viên bộ chính trị đảng cộng sản việt nam khoá x , uỷ viên ban bí thư khoá ix ( từ tháng 1 năm 2003 ) , khoá x , chủ nhiệm uỷ ban kiểm tra trung ương đảng cộng sản việt nam khoá ix , khoá x.',\n",
              " 'thành phố biên hoà là đô thị loại i , là đầu mối giao thông quan trọng của vùng kinh tế trọng điểm phía nam , có dòng sông đồng nai chảy qua , cách trung tâm thành phố hồ chí minh 30  km , cách thành phố vũng tàu 90  km .',\n",
              " 'phần lớn các loài hổ sống trong rừng và đồng cỏ ( những khu vực mà khả năng nguỵ trang của chúng phù hợp nhất ) . trong số các loại mèo lớn , chỉ có hổ và báo đốm mỹ ( \" jaguar \" ) là bơi tốt , và thông thường người ta hay thấy hổ tắm trong ao , hồ và sông .',\n",
              " 'nguyễn tuân ( 10 / 7 / 1910  – 28 / 7/1987) , sở trường về tuỳ bút và ký , được tặng giải thưởng hồ chí minh về văn học nghệ thuật năm 1996 . tác phẩm của nguyễn tuân luôn thể hiện phong cách độc đáo , tài hoa , sự hiểu biết phong phú nhiều mặt và vốn ngôn ngữ , giàu có , điêu luyện .',\n",
              " 'khi johnson có mặt trên boong , chiếc máy bay được dùng tên định danh air force one . chiếc máy bay này hiện được trưng bày , với các máy bay khác của tổng thống , tại bảo tàng không quân quốc gia hoa kỳ ở căn cứ không quân wright patterson gần dayton , ohio .',\n",
              " 'george washington ( , 22 tháng 2 năm 1732 – 14 tháng 12 năm 1799 ) là nhà lãnh đạo chính trị và quân sự có ảnh hưởng lớn đối với quốc gia non trẻ hoa kỳ từ năm 1775 đến năm 1799 . ông đã lãnh đạo người mỹ chiến thắng vương quốc anh trong cuộc chiến tranh cách mạng mỹ với tư cách là tổng tư lệnh lục quân lục địa năm 1775 – 1783 , và ông cũng đã trông coi việc viết ra hiến pháp hoa kỳ năm 1787 .',\n",
              " 'những học giả viết về lịch sử được gọi là nhà sử học. các sự kiện xảy ra trước khi được ghi chép lại được coi là thời tiền sử.',\n",
              " 'nguyễn nhật ánh là nhà văn việt nam chuyên viết cho tuổi mới lớn . ông sinh ngày 7 tháng 5 năm 1955 tại làng đo đo , xã bình quế , huyện thăng bình , tỉnh quảng nam .',\n",
              " 'gỗ nhóm 1 ở việt nam là những loại gỗ quý . tiêu chuẩn chính của các loại gỗ trong nhóm này là gỗ có màu sắc , vân thớ đẹp , hương vị thơm và rất khan hiếm , có giá trị kinh tế cao nhất . các loại gỗ trong nhóm này thường dùng làm đồ mỹ nghệ , gỗ lạng , hàng mộc chạm khảm , ván sàn đặc biệt ...',\n",
              " '\" ophiophagus hannah \" thuộc về chi \" ophiophagus \" đơn diện , họ elapidae ( họ rắn hổ ) . trong khi hầu hết những loài rắn hổ mang khác là thành viên thuộc chi naja . loài này được phân biệt với các loài hổ mang khác dựa theo kích thước và mang cổ .',\n",
              " 'quốc gia ba lan được thành lập từ hơn 1.000 năm trước và đạt tới thời kỳ hoàng kim ở gần cuối thế kỷ xvi dưới thời triều đại jagiellonia , khi ba lan là một trong những nước lớn nhất , giàu nhất và mạnh nhất châu âu .',\n",
              " 'vùng đồng bằng sông hồng và duyên hải đông bắc là vùng du lịch có nhiều danh hiệu unesco nhất .',\n",
              " 'những khách hàng nổi tiếng khác gồm có các gia đình guinness , grimaldi và kennedy ; họ mặc quần áo hiệu givenchy khi đi đám tang john f. kennedy .',\n",
              " 'ánh sáng đơn sắc là ánh sáng khi chiếu ra có một màu nhất định. ánh sáng này không thể phân tích thành các ánh sáng có màu khác nhau giống như ánh sáng đa sắc. hiện nay ánh sáng do đèn led phát ra là sẽ tạo thành một nguồn sáng đơn sắc trong phạm vi hẹp của bước sóng ánh sáng.',\n",
              " 'lại văn sâm ( sinh ngày 10 tháng 6 năm 1957 ) là một nhà báo , người dẫn chương trình truyền hình , biên tập viên của đài truyền hình việt nam ( vtv ) . ông là một trong những người đề xuất đưa các trò chơi truyền hình lên kênh vtv 3 .',\n",
              " 'phan văn vĩnh sinh ngày 19 tháng 5 năm 1955 tại thị trấn ngô đồng , huyện giao thuỷ , tỉnh nam định .',\n",
              " 'karl heinrich marx ( , thường được phiên âm là các mác trong các tài liệu tiếng việt hoặc hán việt là mã khắc tư ; sinh 5 tháng 5 năm 1818 tại trier , vương quốc phổ – mất 14 tháng 3 năm 1883 tại luân đôn , vương quốc anh ) là nhà triết học người đức gốc do thái , và cũng là nhà kinh tế , nhà sử học , nhà lãnh đạo cách mạng của hiệp hội người lao động quốc tế .',\n",
              " 'năm 982 , ba sứ thần mà lê hoàn ( người sáng lập ra nhà tiền lê ) gửi đến chăm pa đã bị bắt giữ . lê hoàn đã quyết định mở một cuộc tấn công vào vương quốc indrapura và giết chết vua chăm parameshvaravarman i. như một kết cục của sự thất bại , người chăm cuối cùng đã bỏ rơi indrapura vào khoảng năm 1000 .',\n",
              " 'gia đình là số 1 hay còn gọi là high kick là một bộ phim truyền hình việt nam thuộc thể loại hài kịch tình huống  ( sitcom ) được làm lại từ bộ phim cùng tên phiên bản hàn quốc \" gia đình là số một \" . bộ phim được lên sóng trên kênh htv7 từ ngày 18/1/2017 từ thứ hai đến thứ năm hàng tuần vào lúc 19h5 0 .',\n",
              " 'tỉnh bạc liêu được thành lập ngày 20 tháng 12 năm 1899 và chính thức hoạt động từ ngày 1 tháng 1 năm 1900 . ngày 22 tháng 10 năm 1956 , tỉnh bạc liêu bị giải thể nhập vào tỉnh ba xuyên . ngày 8 tháng 9 năm 1964 , tỉnh bạc liêu được tái lập trở lại . tháng 2 năm 1976 , tỉnh bạc liêu lại bị giải thể , nhập vào tỉnh minh hải .',\n",
              " 'luật bóng đá là hệ thống quy định của fifa trong việc chơi bóng đá , kể cả bóng đá trên sân cỏ chính thức , bóng đá trong nhà ... , áp dụng trên tất cả các nước .',\n",
              " 'đây là toà nhà cao nhất việt nam từ năm 2010 đến tháng 2-2018 và là công trình có diện tích sàn lớn nhất việt nam cho tới thời điểm hiện tại',\n",
              " 'lại văn sâm sinh ra tại thị xã phú thọ , tỉnh phú thọ . ông du học ở liên xô trong 12 năm với tấm bằng nghiên cứu tiếng hindi chứ không phải chuyên ngành báo chí . người ta biết nhiều về ông qua vai trò là người dẫn chương trình cho các trò chơi truyền hình của vtv3 như : \" sv 96 \" , \" sv 2000 \" , \" trò chơi thi đấu liên tỉnh \" , \" đấu trí \" , \" đấu trường 100 \" , \" chiếc nón kỳ diệu \" , \" hãy chọn giá đúng \" , \" chúng tôi là chiến sĩ \" ... và hiện tại là trò chơi \" ai là triệu phú \" , chương trình \" không giới hạn - sasuke việt nam \" .',\n",
              " 'ngã ba đồng lộc thuộc thị trấn đồng lộc , huyện can lộc , tỉnh hà tĩnh , nằm trên con đường mòn hồ chí minh xuyên qua dãy trường sơn ở tỉnh hà tĩnh , là giao điểm của quốc lộ 15a và tỉnh lộ 2 của hà tĩnh , thuộc địa phận thị trấn đồng lộc , huyện can lộc .',\n",
              " 'diện tích tử cấm thành là 720.000 m2, gồm 800 cung và 9999 phòng. do đó, unesco đã xếp cố cung vào loại quần thể cổ bằng gỗ lớn nhất thế giới và được công nhận là di sản thế giới tại trung quốc vào năm 1987 với tên gọi là cung điện triều minh và triều thanh tại bắc kinh và thẩm dương',\n",
              " 'đại hội thể thao đông nam á ( tiếng anh : sea games hay south east asian games ) , là một sự kiện thể thao tổ chức hai năm một lần vào giữa chu kỳ đại hội olympic và đại hội thể thao châu á , với sự tham gia của các vận động viên từ 11 nước trong khu vực đông nam á hiện nay .',\n",
              " 'lại văn sâm sinh ra tại thị xã phú thọ , tỉnh phú thọ . ông du học ở liên xô trong 12 năm với tấm bằng nghiên cứu tiếng hindi chứ không phải chuyên ngành báo chí . người ta biết nhiều về ông qua vai trò là người dẫn chương trình cho các trò chơi truyền hình của vtv3 như : \" sv 96 \" , \" sv 2000 \" , \" trò chơi thi đấu liên tỉnh \" , \" đấu trí \" , \" đấu trường 100 \" , \" chiếc nón kỳ diệu \" , \" hãy chọn giá đúng \" , \" chúng tôi là chiến sĩ \" ... và hiện tại là trò chơi \" ai là triệu phú \" , chương trình \" không giới hạn - sasuke việt nam \" .',\n",
              " 'hình thang trong hình học euclide là một tứ giác lồi có hai cạnh song song . hai cạnh song song này được gọi là các cạnh đáy của hình thang .',\n",
              " 'trên đỉnh núi thường có mây bao phủ nên ngày trước có tên gọi là bạch vân sơn . tổng chiều dài đường bộ để lên đỉnh yên tử ( chùa đồng ) là khoảng 6000m với 6 giờ đi bộ liên tục qua hàng ngàn bậc đá , đường rừng núi ...',\n",
              " 'lý liên kiệt ( sinh ngày 26 tháng 4 năm 1963 ) là một nam diễn viên võ thuật nổi tiếng người trung quốc . ngoài vai trò diễn viên , lý liên kiệt còn được biết tới là nhà sản xuất , nhà hoạt động từ thiện . vào năm 2017 , lý liên kiệt đã giới thiệu tới công chúng môn võ công thủ đạo với tư cách là người sáng lập dựa trên nền tảng của thái cực quyền .',\n",
              " 'núi cao nhất tại bhutan là gangkhar puensum , là một ứng cử viên chính của danh hiệu núi cao nhất chưa bị chinh phục trên thế giới .',\n",
              " \"là con đầu lòng của augustine washington ( 1694 – 1743 ) và người vợ thứ hai , mary ball washington ( 1708 – 1789 ) , george washington sinh ra trong trang trại pope ' s creek gần nơi ngày nay là colonial beach trong quận westmoreland , virginia . theo lịch julius ( có hiệu lực vào lúc đó ) , washington sinh ngày 11 tháng 1 năm 1731 ; theo lịch gregory , sử dụng tại anh và các thuộc địa thì ông sinh ngày 22 tháng 2 năm 1732 .\",\n",
              " 'hồng bàng thị hay thời đại hồng bàng là một giai đoạn lịch sử thuộc thời đại thượng cổ của lịch sử việt nam .',\n",
              " 'nhà ga hành khách t2 do nhật bản thiết kế và thi công , với nguồn vốn xây dựng từ nguồn vốn oda nhật bản , được khánh thành vào đầu năm 2015 . sân bay có 2 tháp chỉ huy , trong đó có 1 tháp cao 90 mét .',\n",
              " 'nguyễn nhật ánh là nhà văn việt nam chuyên viết cho tuổi mới lớn . ông sinh ngày 7 tháng 5 năm 1955 tại làng đo đo , xã bình quế , huyện thăng bình , tỉnh quảng nam .',\n",
              " 'hội thánh của đức chúa trời hiệp hội truyền giáo tin lành thế giới , còn gọi là hội thánh đức chúa trời mẹ , là một phong trào tôn giáo mới bắt nguồn từ hàn quốc và hiện nay đã có mặt tại 175 quốc gia . hội thánh do kim joo-cheol và jang gil-ja thành lập năm 1985 , tiếp quản từ hội thánh do ahn sahng-hong sáng lập năm 1964 .',\n",
              " 'chaplin bị phản ứng tiêu cực về phim này làm tổn thương sâu sắc , và bộ phim này rốt cuộc là bộ phim cuối cùng của ông .',\n",
              " 'đến ngày 19.5.1999 , báo \" lao động online \" ra đời , là tờ báo điện tử đầu tiên ở việt nam .',\n",
              " 'chu du là một nhân vật nổi tiếng trong tiểu thuyết tam quốc diễn nghĩa của la quán trung , xuất hiện từ hồi 15 đến hồi 56 .',\n",
              " 'thể chế thành phố được xác định theo quyết định của chính phủ dựa trên một số tiêu chí nhất định như kích thước , dân số , tình trạng cơ sở hạ tầng hay mức độ quan trọng mà xếp loại đô thị loại mấy .',\n",
              " 'ngưu lang chức nữ (chữ hán: 牛郎織女; tiếng anh: the weaver girl and the cowherd), còn có tên gọi khác theo ngôn ngữ việt nam là ông ngâu bà ngâu, là một câu chuyện cổ tích rất nổi tiếng có xuất xứ từ trung quốc[',\n",
              " 'chu du ( chữ hán : 周瑜 ; 175 - 210 ) , tên tự công cẩn , đương thời gọi chu lang , là danh tướng và khai quốc công thần của nước đông ngô thời tam quốc trong lịch sử trung quốc .',\n",
              " 'lương xuân trường ( sinh ngày 28 tháng 4 năm 1995 tại tuyên quang ) , là một cầu thủ bóng đá việt nam đang thi đấu cho hoàng anh gia lai và đội tuyển việt nam ở vị trí tiền vệ .',\n",
              " 'ngày 30 tháng 4 năm 1989 , tỉnh bình định được tái lập , thành phố quy nhơn trở lại là tỉnh lị tỉnh bình định .',\n",
              " 'thời đại chiến quốc kéo dài từ khoảng thế kỷ 5 tcn tới khi trung quốc thống nhất dưới thời tần năm 221 tcn . thông thường nó được coi là giai đoạn thứ hai của nhà đông chu , tiếp sau giai đoạn xuân thu , dù chính nhà chu đã kết thúc vào năm 256 tcn , 34 năm trước khi kết thúc giai đoạn chiến quốc .',\n",
              " 'the beatles từng giành tới 10 giải grammy , 1 giải oscar cho nhạc phim hay nhất và 15 giải ivor novello . có tên trong danh sách \" \" của tạp chí \" time \" , họ cũng được nhắc tới là nghệ sĩ có số đĩa bán chạy nhất lịch sử với hơn 600 triệu đĩa đã bán trên toàn thế giới .',\n",
              " 'thế nhưng , vai diễn hoàng đế ta hwan trong \" hoàng hậu ki \" mới chính là bệ phóng đưa ji chang wook lên đỉnh cao sự nghiệp và trở thành ngôi sao hạng a của hàn quốc với nhiều giải thưởng lớn cùng lời đánh giá cao từ giới chuyên môn .',\n",
              " 'thuỷ ngân là một nguyên tố hoá học trong bảng tuần hoàn có ký hiệu hg ( từ tiếng hy lạp hydrargyrum , tức là \" thuỷ ngân \" ( hay \" nước \" \" bạc \" ) ) và số nguyên tử 80 . là một kim loại nặng có ánh bạc , thuỷ ngân là một nguyên tố kim loại được biết có dạng lỏng ở nhiệt độ thường .',\n",
              " 'đắk nông hay đắc nông là một tỉnh ở tây nguyên việt nam . tỉnh đắk nông được thành lập vào ngày 1 tháng 1 năm 2004 , theo nghị quyết số 23/2003/qh11 ban hành ngày 26 tháng 11 năm 2003 của quốc hội trên cơ sở chia tách tỉnh đắk lắk thành 2 tỉnh đắk lắk và đắk nông .',\n",
              " 'cô còn được khán giả biết đến với biệt danh \" nữ hoàng thanh xuân \" . ngoài ra cô cũng là tứ tiểu hoa đán 9x 2016 cùng dương tử , quan hiểu đồng , châu đông vũ',\n",
              " 'phim với độ dài 30 tập và được trình chiếu lần đầu vào ngày 22/8/2016 . tại việt nam , bộ phim được trình chiếu trên kênh htv3 lúc 21h thứ hai đến thứ sáu từ ngày 19/3/2018 .',\n",
              " 'phần mềm máy tính, hay đơn giản là phần mềm, cũng được người việt hải ngoại gọi là nhu liệu là tập hợp dữ liệu hoặc hướng dẫn máy tính cho máy tính biết cách làm việc. điều này trái ngược với phần cứng vật lý, từ đó hệ thống được xây dựng và thực sự thực hiện công việc.',\n",
              " 'rối loạn ám ảnh cưỡng chế ( tiếng anh : \" obsessive-compulsive disorder \" - ocd ) là một rối loạn tâm lý có tính chất mãn tính , dấu hiệu phổ biến của bệnh đó là ý nghĩ ám ảnh , lo lắng không có lý do chính đáng và phải thực hiện các hành vi có tính chất ép buộc để giảm bớt căng thẳng , đây là một dạng trong nhóm bệnh liên quan trực tiếp đến stress .',\n",
              " 'trận chiến kéo dài trong suốt 81 ngày đêm , sau khi liên tiếp tung vào các đơn vị bộ binh cũng như sử dụng hoả lực bom đạn cực kỳ lớn , hoa kỳ và việt nam cộng hoà đã thành công trong việc tái chiếm lại thành cổ nhưng vẫn không thể giành lại nửa bắc của tỉnh quảng trị .',\n",
              " '\" bánh phở \" theo truyền thống được làm từ bột gạo , tráng thành tấm mỏng rồi cắt thành sợi . phở luôn được thưởng thức khi còn nóng hổi . để có được những bát phở ngon tuỳ thuộc rất nhiều vào kinh nghiệm và bí quyết truyền thống của người chế biến , trong đó quan trọng đặc biệt là nồi nước dùng .',\n",
              " 'đế quốc nhật bản hay đại nhật bản đế quốc là một quốc gia dân tộc trong lịch sử nhật bản tồn tại từ cuộc cách mạng minh trị năm 1868 cho đến khi hiến pháp nhật bản được ban hành vào năm 1947',\n",
              " 'giống cây này được xuất khẩu từ châu phi tới các nước trên thế giới và hiện nay đã được trồng tại tổng cộng hơn 70 quốc gia , chủ yếu là các khu vực nằm gần đường xích đạo thuộc châu mỹ , đông nam á , ấn độ và châu phi .',\n",
              " 'sân bay nội bài là trung tâm hoạt động chính cho vietnam airlines , vietjet air , pacific airlines , và trước kia có indochina airlines , air mekong .',\n",
              " 'bảy nước lớn thời chiến quốc , gồm có tề , sở , yên , hàn , triệu , nguỵ và tần . một dấu hiệu khác của sự tăng cường quyền lực là sự thay đổi danh hiệu : trước kia các lãnh chúa vẫn xếp mình vào bậc công hay hầu , chư hầu của vua nhà chu ; nhưng trong giai đoạn này họ đã lần lượt tự xưng vương , có nghĩa là họ ngang hàng với vua nhà chu .',\n",
              " 'j.y.p entertainment (tiếng hàn: j.y.p 엔터테인먼트) là một công ty giải trí và hãng thu âm đa quốc gia của hàn quốc có trụ sở chính tại hàn quốc.[2] đây là một trong những công ty giải trí lớn nhất ở hàn quốc. nó được thành lập bởi j.y. park vào năm 1997. công ty hoạt động như một hãng thu âm, công ty tài năng, công ty sản xuất âm nhạc, công ty quản lý sự kiện, công ty tổ chức các buổi hòa nhạc, và nhà xuất bản âm nhạc.[3][4] ngoài ra, công ty điều hành nhiều công ty con và bộ phận khác nhau trên toàn thế giới.',\n",
              " 'euro ( € ; mã iso : eur , còn gọi là âu kim hay đồng tiền chung châu âu ) là đơn vị tiền tệ của liên minh tiền tệ châu âu , là tiền tệ chính thức trong 18 quốc gia thành viên của liên minh châu âu ( áo , bỉ , bồ đào nha , đức , hà lan , hy lạp , ireland , luxembourg , pháp , phần lan , tây ban nha , ý , slovenia , malta , cộng hoà síp , estonia , latvia , litva ) và trong 6 nước và lãnh thổ không thuộc liên minh châu âu .',\n",
              " 'hoà thượng thích quảng đức , thế danh lâm văn tức , ( 1897 — 11 tháng 6 năm 1963 ) là một hoà thượng phái đại thừa , người đã tẩm xăng tự thiêu tại ngã tư đường lê văn duyệt và phan đình phùng , sài gòn ( nay là ngã tư đường cách mạng tháng tám và nguyễn đình chiểu , quận 3 , tp hồ chí minh ) vào ngày 11 tháng 6 năm quý mão 1963 nhằm phản đối sự đàn áp phật giáo của chính quyền việt nam cộng hoà ngô đình diệm .',\n",
              " 'tiếp theo sự sụp đổ của bức tường berlin ngày 9 tháng 11 năm 1989, đảng xã hội chủ nghĩa thống nhất đức mất đi đa số trong quốc hội tại cuộc bầu cử ngày 18 tháng 3 năm 1990.',\n",
              " 'biên hoà là thành phố công nghiệp và là tỉnh lỵ của tỉnh đồng nai , thuộc vùng đông nam bộ , việt nam .',\n",
              " 'tiếng thái ( ภาษาไทย , chuyển tự : \" phasa thai \" , đọc là \" pha-xả thai \" ) là ngôn ngữ chính thức của thái lan và là tiếng mẹ đẻ của người thái , dân tộc chiếm đa số ở thái lan .',\n",
              " 'karl heinrich marx ( , thường được phiên âm là các mác trong các tài liệu tiếng việt hoặc hán việt là mã khắc tư ; sinh 5 tháng 5 năm 1818 tại trier , vương quốc phổ – mất 14 tháng 3 năm 1883 tại luân đôn , vương quốc anh ) là nhà triết học người đức gốc do thái , và cũng là nhà kinh tế , nhà sử học , nhà lãnh đạo cách mạng của hiệp hội người lao động quốc tế .',\n",
              " 'lỗ đen ( hố đen hoặc hốc đen ) là một vùng không - thời gian có một trường hấp dẫn mạnh đến nỗi không có vật chất nói chung chiếm khối lượng và không gian nhất định hoặc bức xạ và ánh sáng nào có thể thoát ra ngoài .',\n",
              " 'họ sớm có được sự chú ý ở anh ngay với đĩa đơn đầu tay \" love me do \" vào cuối năm 1962 . ban nhạc được gán với tên gọi \" fab four \" trong quãng thời gian beatlemania ngày một gia tăng tại anh vào năm 1963 , và tới năm 1964 họ trở thành ngôi sao nổi tiếng toàn thế giới , đưa british invasion tới thị trường âm nhạc mỹ .',\n",
              " 'tên thật là võ quang minh , sinh ngày 20/11/1959 tại gò công , việt nam . là kép của đoàn kim cương , bông hồng những năm cuối thập niên 1980 .',\n",
              " 'phục hưng ( tiếng pháp : \" renaissance \" , , , từ \" ri - \" \" lần nữa \" và \" nascere \" \" được sinh ra \" ) là một phong trào văn hoá thường được xem là bao gồm giai đoạn từ thế kỷ xv đến thế kỷ xvii , khởi đầu tại firenze ( ý ) vào hậu kỳ trung đại , sau đó lan rộng ra phần còn lại của châu âu trên những quy mô và mức độ khác nhau .',\n",
              " 'momoland  ( hangul :  모모랜드 ) là nhóm nhạc nữ hàn quốc gồm 9 thành viên bao gồm : hyebin , yeonwoo , jane , taeha , nayun , daisy , jooe , ahin , nancy được thành lập vào tháng 11 năm 2016 bởi double kick company ( hiện nay là mld entertainment ) thông qua chương trình truyền hình thực tế \" finding momoland \" được phát sóng trên kênh truyền hình mnet .',\n",
              " 'lý liên kiệt ( sinh ngày 26 tháng 4 năm 1963 ) là một nam diễn viên võ thuật nổi tiếng người trung quốc . ngoài vai trò diễn viên , lý liên kiệt còn được biết tới là nhà sản xuất , nhà hoạt động từ thiện . vào năm 2017 , lý liên kiệt đã giới thiệu tới công chúng môn võ công thủ đạo với tư cách là người sáng lập dựa trên nền tảng của thái cực quyền .',\n",
              " 'bộ bộ kinh tâm là bộ phim truyền hình cổ trang của trung quốc được chuyển thể từ tiểu thuyết cùng tên của nhà văn đồng hoa do hãng phim thượng hải đường nhân sản xuất năm 2011 . bộ phim được trình chiếu lần đầu tiên trên kênh hunantv của trung quốc vào ngày 10 tháng 9 năm 2011 .',\n",
              " 'nhà ga hành khách t1 do chính các kiến trúc sư việt nam thiết kế , mang đậm bản sắc dân tộc , như một cổng trời chào đón khách thập phương đến với thủ đô và được đánh giá cao về mặt thẩm mĩ , từng đạt giải nhất kiến trúc việt nam , tuy trong thực tế xây dựng chỉ thực hiện được một phần của dự án .',\n",
              " 'ví dụ , linnaeus là người đầu tiên đặt ra một danh pháp khoa học ( dưới hệ thống danh pháp khoa học hiện đang được sử dụng ) cho cây vân sam na-uy , ông gọi nó là \" pinus abies \" . hiện tại cái tên này không được sử dụng nữa : nó là một danh pháp đồng nghĩa của danh pháp khoa học hiện tại của loài này là \" picea abies \" .',\n",
              " 'phan văn vĩnh ( sinh ngày 19 tháng 5 năm 1955 ) là cựu trung tướng công an nhân dân việt nam , chính trị gia và anh hùng lực lượng vũ trang nhân dân người việt nam . ông từng là đại biểu quốc hội việt nam khoá xii , thuộc đoàn đại biểu nam định , tổng cục trưởng tổng cục cảnh sát , bộ công an ( việt nam ) ( tổng cục ii ) , uỷ viên đảng uỷ công an trung ương việt nam .',\n",
              " 'đội tuyển bóng đá quốc gia brasil ( tiếng bồ đào nha : \" seleção brasileira de futebol \" , sbf ) là đội tuyển của liên đoàn bóng đá brasil và đại diện cho brasil trên bình diện quốc tế . trận thi đấu quốc tế đầu tiên của đội tuyển brasil là trận gặp đội tuyển argentina vào năm 1914 .',\n",
              " 'phong thần diễn nghĩa ( nguyên bản ) ( , cũng gọi là bảng phong thần , vũ vương phạt trụ ngoại sử phong thần diễn nghĩa , phong thần truyện , thương chu liệt quốc toàn truyện ( tái bản ) , là một bộ tiểu thuyết được viết lại trên cơ sở cuốn \" vũ vương phạt trụ bình thoại \" in đời nguyên , rồi nhào nặn tư liệu lịch sử với thần thoại , truyền thuyết và tôn giáo mà thành .',\n",
              " 'rối loạn ám ảnh cưỡng chế ( tiếng anh : \" obsessive-compulsive disorder \" - ocd ) là một rối loạn tâm lý có tính chất mãn tính , dấu hiệu phổ biến của bệnh đó là ý nghĩ ám ảnh , lo lắng không có lý do chính đáng và phải thực hiện các hành vi có tính chất ép buộc để giảm bớt căng thẳng , đây là một dạng trong nhóm bệnh liên quan trực tiếp đến stress .',\n",
              " 'bộ bộ kinh tâm là bộ phim truyền hình cổ trang của trung quốc được chuyển thể từ tiểu thuyết cùng tên của nhà văn đồng hoa do hãng phim thượng hải đường nhân sản xuất năm 2011 . bộ phim được trình chiếu lần đầu tiên trên kênh hunantv của trung quốc vào ngày 10 tháng 9 năm 2011 .',\n",
              " 'bhutan là một thành viên của liên hiệp quốc , có quan hệ ngoại giao với 52 quốc gia và liên minh châu âu , tuy nhiên không duy trì quan hệ chính thức với năm thành viên thường trực của hội đồng bảo an liên hiệp quốc .',\n",
              " 'ôxy là nguyên tố phổ biến xếp hàng thứ 3 trong vũ trụ theo khối lượng sau hydro và heli và là nguyên tố phổ biến nhất theo khối lượng trong vỏ trái đất .',\n",
              " 'tuy vậy , cho đến nay chưa thể chụp ảnh được trực tiếp hiệu ứng này đối với lỗ đen . một cách khác để quan sát hiệu ứng thấu kính hấp dẫn là thông qua ánh sáng phát ra từ những ngôi sao quay quanh lỗ đen .',\n",
              " 'yêu em từ cái nhìn đầu tiên là bộ phim được chuyển thể từ cuốn tiểu thuyết cùng tên của nhà văn cố mạn và do lâm ngọc phân làm đạo diễn với sự tham gia của các diễn viên dương dương , trịnh sảng , mao hiểu đồng ...',\n",
              " 'ấn độ giáo hay còn gọi gọn là ấn giáo hay hindu giáo là tên chỉ những nhánh tôn giáo chính có tương quan với nhau và hiện còn tồn tại ở ấn độ . khoảng 80% người ấn độ tự xem mình là người theo ấn độ giáo và người ta cho rằng , có khoảng 30 triệu người theo ấn độ giáo sống tại hải ngoại .',\n",
              " 'đơn vị hành chính trực thuộc có 4 thành phố , 2 thị xã và 8 huyện trực thuộc , trong đó có 186 đơn vị hành chính cấp xã bao gồm 71 phường , 8 thị trấn và 107 xã . quảng ninh là tỉnh có nhiều thành phố trực thuộc nhất của việt nam . tỷ lệ đô thị hoá của tỉnh đến nay đạt trên 64% và là một trong 3 địa phương có tỷ lệ đô thị hoá cao nhất cả nước ( sau tp hồ chí minh và bình dương ) .',\n",
              " 'axit clohydric được các nhà giả kim thuật châu âu gọi là \" dung dịch muối \" ( \" spirits of salt \" ) hay \" acidum salis \" ( axit muối ) . cả hai tên vẫn còn đang sử dụng , đặc biệt là trong các ngôn ngữ ngoài tiếng anh như và . khí hcl được gọi là \" khí axit biển \" ( \" marine acid air \" ) .',\n",
              " 'bồ đào nha có nền kinh tế tiến bộ với thu nhập cao và tiêu chuẩn sinh hoạt cao . đây là quốc gia có chỉ số hoà bình cao thứ ba trên thế giới vào năm 2016 và là một trong 13 quốc gia bền vững nhất vào năm 2017 , duy trì hình thức chính phủ cộng hoà bán tổng thống nhất thể .',\n",
              " 'tây ban nha cũng là đội vô địch world cup đầu tiên giữ được sạch lưới tại vòng đấu loại trực tiếp .',\n",
              " 'tên khác\\tvy vy mỉm cười khuynh thành. dựa trên\\tyêu em từ cái nhìn đầu tiên của cố mạn. kịch bản\\tcố mạn. đạo diễn\\tlâm ngọc phân.',\n",
              " 'thời pháp , mỹ , hoạt động kinh doanh muối bạc liêu rất rộng lớn , chiếm cứ toàn vùng nam bộ , ra tới tận phan thiết miền trung và đặc biệt giao lưu xuất khẩu theo đường sông cửu long qua campuchia , hiện nay nghề làm muối tuy không còn thịnh như trước nhưng bạc liêu vẫn là vùng sản xuất muối lớn nhất miền tây .',\n",
              " 'chu du nổi tiếng với chiến thắng ở trận xích bích trước quân tào tháo , là trận chiến lớn nhất thời đó . sau trận xích bích , cục diện tam quốc mới hoàn toàn phân định , là một bước ngoặt quan trọng trong lịch sử , dẫn đến việc chu du cũng trở thành một trứ danh tướng quân trong lịch sử .',\n",
              " 'hoàn châu cách cách (chữ hán phồn thể: 還珠格格, chữ hán giản thể: 还珠格格, tiếng anh: my fair princess) là một bộ phim truyền hình cổ trang hoa ngữ nổi tiếng, hợp tác sản xuất bởi công ty di nhân (怡人傳播公司) của đài loan và đài truyền hình hồ nam của đại lục, chuyển thể từ tiểu thuyết cùng tên của nữ tác giả quỳnh dao.',\n",
              " 'người chăm, (tiếng chăm: urang campa), còn gọi là người chàm, người chiêm , dân chiêm thành, người hời..., hiện cư ngụ chủ yếu tại campuchia, việt nam, malaysia, thái lan và hoa kỳ. người chăm thuộc nhóm chủng tộc austronesia hay người nam đảo.',\n",
              " 'phở là một món ăn truyền thống của việt nam , cũng có thể xem là một trong những món ăn tiêu biểu cho nền ẩm thực việt nam . thành phần chính của phở là bánh phở và nước dùng ( hay nước lèo theo cách gọi miền nam ) cùng với thịt bò hoặc thịt gà cắt lát mỏng .',\n",
              " 'quốc vương bhutan có hiệu là druk gyalpo, nghĩa là \"quốc vương rồng sấm\". cảnh quan bhutan biến đổi từ các đồng bằng cận nhiệt đới phì nhiêu tại phía nam đến các núi thuộc dãy himalaya tại phía bắc, có các đỉnh vượt 7.000 m. núi cao nhất tại bhutan là gangkhar puensum, là một ứng cử viên chính của danh hiệu núi cao nhất chưa bị chinh phục trên thế giới.',\n",
              " 'karl heinrich marx ( , thường được phiên âm là các mác trong các tài liệu tiếng việt hoặc hán việt là mã khắc tư ; sinh 5 tháng 5 năm 1818 tại trier , vương quốc phổ – mất 14 tháng 3 năm 1883 tại luân đôn , vương quốc anh ) là nhà triết học người đức gốc do thái , và cũng là nhà kinh tế , nhà sử học , nhà lãnh đạo cách mạng của hiệp hội người lao động quốc tế .',\n",
              " 'lương xuân trường sinh ra ở tuyên quang , ngay từ nhỏ đã thể hiện rõ sự đam mê trái bóng . bố là anh tên là lương bách chiến sớm phát hiện ra năng khiếu đặc biệt ở cậu con trai . năm lên 6 tuổi , trường đã được bố dạy cho những bài học cơ bản về bóng đá .',\n",
              " 'bạc liêu có nhiều dân tộc khác nhau sinh sống như người hoa , người việt , người khmer , người chăm ... người bạc liêu có phong cách phóng khoáng , đặc trưng của vùng nam bộ . bạc liêu có công tử bạc liêu lừng danh một thuở giàu có và chịu chơi , ngoài ra vùng đất này còn gắn liền với tên tuổi của nhạc sĩ cao văn lầu và bài dạ cổ hoài lang đặt nền móng cho sự phát triển của nền cổ nhạc nam bộ .',\n",
              " 'hiện nay quốc gia chế tạo máy bay cả dân dụng và quân dụng đứng đầu thế giới là hoa kỳ , sau đó đến pháp và các nước công nghiệp hàng đầu châu âu , nga ...',\n",
              " 'thimphu ( ; trước đây được viết là thimbu ) , là thủ đô và thành phố lớn nhất của vương quốc bhutan . thimphu toạ lạc tại trung tâm phần miền tây bhutan , nó và vùng thu lũng xung quanh tạo nên một phần của \" dzongkhag \" thimphu . thành phố được thiết lập làm thủ đô năm 1955 , và sau đó được tuyên bố là thủ đô bhutan năm 1961 bởi druk gyalpo thứ ba jigme dorji wangchuck .',\n",
              " 'ji chang wook ( hangul : 지창욱 ; hán việt : trì xương húc ) sinh ngày 05/07/1987 ,  là nam diễn viên hàn quốc . anh được mọi người biết đến nhiều nhất với vai diễn trong bộ phim \" cười lên dong-hae \" một trong những tác phẩm ăn khách nhất tại hàn quốc nửa đầu năm 2011 với rating  41% .',\n",
              " 'nguyên liệu làm bánh chưng gồm gạo nếp , đậu xanh , thịt lợn , lá dong và bánh thường được làm vào các dịp tết cổ truyền của dân tộc việt , cũng như ngày giổ tổ hùng vương ) ( mùng 10 tháng 3 âm lịch ) .',\n",
              " 'ấn độ giáo hay còn gọi gọn là ấn giáo hay hindu giáo là tên chỉ những nhánh tôn giáo chính có tương quan với nhau và hiện còn tồn tại ở ấn độ . khoảng 80% người ấn độ tự xem mình là người theo ấn độ giáo và người ta cho rằng , có khoảng 30 triệu người theo ấn độ giáo sống tại hải ngoại .',\n",
              " \"bhutan ( phiên âm tiếng việt : bu-tan ; tiếng dzongkha : ' ) , tên chính thức là vương quốc bhutan ( ' ) , là một quốc gia nội lục tại miền đông dãy himalaya thuộc nam á. bhutan có biên giới với trung quốc về phía bắc và với ấn độ về phía nam , đông và tây .\",\n",
              " 'từ năm 1975 đến 1987 , lại văn sâm học tập và nghiên cứu tại liên xô chuyên ngành ngôn ngữ tiếng hinđi . sau khi về nước , ông phụ bán hàng cho mẹ vợ ở chợ đồng xuân , hà nội .',\n",
              " 'việt hương , tên thật nguyễn việt hương ( sinh ngày 15 tháng 10 năm 1976 ) là diễn viên hài , diễn viên điện ảnh , mc và là giám khảo ở một số gameshow tại việt nam',\n",
              " 'người miêu được chính phủ trung quốc công nhận là một trong 55 dân tộc thiểu số tại trung quốc . người miêu tạo thành nhóm dân tộc lớn thứ 5 tại trung quốc .',\n",
              " 'ngày 4 tháng 1 năm 2015 , bộ giao thông vận tải đã khánh thành nhà ga hành khách t2 – cảng hkqt nội bài . nhà ga t2 gồm 4 tầng với diện tích mặt bằng khoảng 139.000  m2 , với tổng mức đầu tư gần 18.000 tỷ đồng ( sau 3 năm xây dựng 04/12/2011 – 04/01/2015 ) .',\n",
              " 'thành vatican , tên chính thức : thành quốc vatican ( tiếng ý : \" stato della città del vaticano \" ; tiếng latinh : \" status civitatis vaticanae \" ) là một quốc gia có chủ quyền với lãnh thổ bao gồm một vùng đất có tường bao kín nằm trong lòng thành phố roma , ý. với diện tích khoảng 44 hécta ( 110 mẫu anh ) , và dân số khoảng 1000 người , khiến vatican được quốc tế công nhận là thành phố , quốc gia độc lập nhỏ nhất thế giới về góc độ diện tích và dân số .',\n",
              " 'ba lan, tên chính thức là cộng hòa ba lan, là một quốc gia ở trung âu, tiếp giáp với các nước đức, slovakia, cộng hòa séc, ukraina, belarus, litva, nga và biển baltic; diện tích 312.685 km2. ba lan/dân số 38,43 triệu (2017)',\n",
              " 'công nghệ thông tin , viết tắt cntt , ( tiếng anh : \" information technology \" hay là it ) là một nhánh ngành kỹ thuật sử dụng máy tính và phần mềm máy tính để chuyển đổi , lưu trữ , bảo vệ , xử lý , truyền tải và thu thập thông tin .',\n",
              " 'nam phi là một quốc gia nằm ở mũi phía nam lục địa châu phi . nước này giáp biên giới với namibia , botswana , zimbabwe , mozambique , swaziland , và bao quanh toàn bộ đất nước lesotho .',\n",
              " 'nhà tần chỉ tồn tại được 15 năm ( 221 - 206 tcn ) với 3 đời vua . từ vua tới đại thần , không người nào không bất đắc kỳ tử . thời đại nhà tần thật ngắn ngủi và hết sức bi thảm , nhưng dù sao nó cũng có công lớn là đã thống nhất trung quốc .',\n",
              " 'la mã cổ đại là nền văn minh la mã bắt đầu từ sự kiện thành lập thành phố rome vào thế kỷ thứ ́ 8 tcn cho tới sự sụp đổ của đế quốc tây la mã vào thế kỷ thứ 5 scn , bao gồm các thời kỳ vương quốc la mã , cộng hoà la mã và đế quốc la mã cho tới khi đế quốc tây la mã sụp đổ .',\n",
              " 'nguyên nhân của thuỷ triều là do thuỷ quyển có hình cầu dẹt nhưng bị kéo cao lên ở hai miền đối diện nhau tạo thành hình ellipsoid . một đỉnh của ellipsoid nằm trực diện với mặt trăng - là miền nước lớn thứ nhất , do lực hấp dẫn của mặt trăng gây ra .',\n",
              " 'nhà toán học người ý gerolamo cardano là người đầu tiên đưa ra số phức . ông sử dụng số phức để giải các phương trình bậc ba trong thế kỷ xvi .',\n",
              " 'tây ban nha trở thành thành viên chính thức của fifa vào năm 1904 , nhưng liên đoàn bóng đá hoàng gia tây ban nha lại được thành lập vào năm 1909 . trận thi đấu quốc tế đầu tiên của đội tuyển tây ban nha là trận gặp đội tuyển đan mạch vào năm 1920 .',\n",
              " 'toàn cầu hoá là khái niệm dùng để miêu tả các thay đổi trong xã hội và trong nền kinh tế thế giới , tạo ra bởi mối liên kết và trao đổi ngày càng tăng giữa các quốc gia , các tổ chức hay các cá nhân ở góc độ văn hoá , kinh tế ... trên quy mô toàn cầu .',\n",
              " 'trong giai đoạn năm 2030 - 2050 thị xã giá rai hoàn thành các tiêu chí của đô thị loại iii để công nhận là đô thị loại iii và nâng lên thành thành phố giá rai trực thuộc tỉnh bạc liêu .',\n",
              " 'nhạc phủ nguyên là tên gọi cơ quan âm nhạc do hán vũ đế ( ở ngôi : 141 tr . cn – 87 ) lập nên , và phong cho lý diên niên chức hiệp luật đô uý , để làm nhiệm vụ thu thập ca dao và thơ để phổ nhạc .',\n",
              " 'ji chang wook ( hangul : 지창욱 ; hán việt : trì xương húc ) sinh ngày 05/07/1987 ,  là nam diễn viên hàn quốc . anh được mọi người biết đến nhiều nhất với vai diễn trong bộ phim \" cười lên dong-hae \" một trong những tác phẩm ăn khách nhất tại hàn quốc nửa đầu năm 2011 với rating  41% .',\n",
              " \"bhutan ( phiên âm tiếng việt : bu-tan ; tiếng dzongkha : ' ) , tên chính thức là vương quốc bhutan ( ' ) , là một quốc gia nội lục tại miền đông dãy himalaya thuộc nam á. bhutan có biên giới với trung quốc về phía bắc và với ấn độ về phía nam , đông và tây .\",\n",
              " 'các chính sách xã hội tiến bộ của nước này khá hiếm thấy tại châu phi . tới năm 2007 , nước này đã làm nên lịch sử khi trở thành nước thứ năm trên thế giới và đầu tiên tại châu phi hợp pháp hoá hôn nhân đồng tính .',\n",
              " 'tử cấm thành hay cấm thành là tên gọi của khu vực dành riêng cho gia đình nhà vua ở trong thành . đây là vòng thành trong cùng theo kết cấu \" ba vòng thành \" của kinh đô một số nước phương đông như trung quốc và việt nam .',\n",
              " 'văn bản quy phạm pháp luật hay còn gọi là văn bản pháp quy là một hình thức pháp luật thành văn ( văn bản pháp ) được thể hiện qua các văn bản chứa được các quy phạm pháp luật do cơ quan hoặc cá nhân có thẩm quyền ban hành để điều chỉnh các quan hệ xã hội .',\n",
              " 'kể từ đó , tây ban nha đã tham dự 14 trên 20 lần tổ chức fifa world cup và 9 trên 13 lần tổ chức euro',\n",
              " 'trong thần thoại , văn học bác học ( như tác phẩm tây du ký của trung hoa ) , văn học dân gian , hay trong kinh sách nhà phật ( ví dụ phẩm phổ môn ) , thì quán thế âm bồ tát được xem là vị bồ tát có thần lực nhất , chỉ sau phật tổ .',\n",
              " 'trận thi đấu quốc tế đầu tiên của đội tuyển bồ đào nha là trận gặp đội tuyển tây ban nha vào năm 1921 . đội là một trong những đội bóng mạnh nhất châu âu với thành tích tốt nhất cho đến nay là ngôi vô địch của euro 2016 ; hạng ba ở 2 giải đấu world cup 1966 và confed cup 2017 .',\n",
              " 'tên khai sinh saiyan của goku , kakarot , là 1 kiểu chơi chữ của \" cà rốt \" . tương tự như vậy , tất cả những người saiyan thuần chủng trong bộ phim đều được đặt tên theo lối chơi chữ loại rau có liên quan . gia đình của goku được đặt tên theo các loại rau củ : bardock - cây ngưu bàng ( burdock ) , raditz - củ cải ( radish ) , và kakarot - cà rốt ( carrot ) .',\n",
              " 'ánh sáng trắng là hỗn hợp của tất cả ánh sáng đơn sắc, trong đó có bảy màu cơ bản: đỏ, cam, vàng, lục, lam, chàm, tím. ánh sáng trắng là một trường hợp của ánh sáng phức tạp hay ánh sáng đa sắc.',\n",
              " 'ma cao nguyên là một thuộc địa của bồ đào nha và phải chịu sự quản lý của đế quốc này từ giữa thế kỷ xvi cho đến năm 1999 , và là thuộc địa hay tô giới cuối cùng của người châu âu tại trung quốc .',\n",
              " 'keangnam hanoi landmark tower là một khu phức hợp khách sạn-văn phòng-căn hộ-trung tâm thương mại tại đường phạm hùng , quận nam từ liêm , hà nội được đầu tư xây dựng bởi tập đoàn có trụ sở chính tại dongdaemun-gu , seoul của hàn quốc . keangnam landmark tower được bàn giao từ 20 tháng 3 năm 2011 đến cuối tháng 12 năm 2011 đã có 780 hộ chuyển vào sinh sống .',\n",
              " 'bồ đào nha ( tiếng bồ đào nha : \" portugal \" , ) , tên chính thức là cộng hoà bồ đào nha ( , ) , là một quốc gia nằm ở tây nam châu âu trên bán đảo iberia . bồ đào nha là nước cực tây của châu âu lục địa . bồ đào nha giáp với đại tây dương ở phía tây và phía nam , giáp tây ban nha ở phía đông và phía bắc .',\n",
              " 'theo riaa , the beatles là nghệ sĩ có doanh số đĩa bán chạy nhất tại mỹ với tổng cộng hơn 177 triệu đĩa đã bán . họ cũng có nhiều album và đĩa đơn quán quân tại các bảng xếp hạng tại anh hơn bất kể nghệ sĩ nào khác .',\n",
              " 'được thành lập vào năm 1636 bởi cơ quan lập pháp thuộc địa vịnh massachusetts và không lâu sau đó đặt theo tên của john harvard - người đã hiến tặng của cải cho trường , harvard là cơ sở học tập bậc cao lâu đời nhất hoa kỳ .',\n",
              " 'lý liên kiệt ( sinh ngày 26 tháng 4 năm 1963 ) là một nam diễn viên võ thuật nổi tiếng người trung quốc . ngoài vai trò diễn viên , lý liên kiệt còn được biết tới là nhà sản xuất , nhà hoạt động từ thiện . vào năm 2017 , lý liên kiệt đã giới thiệu tới công chúng môn võ công thủ đạo với tư cách là người sáng lập dựa trên nền tảng của thái cực quyền .',\n",
              " 'tại việt nam , hội thánh thường được nhắc tới với tên hội thánh của đức chúa trời , hội thánh đức chúa trời hay hội thánh đức chúa trời mẹ . tuy nhiên hội thánh của đức chúa trời ( church of god ) là tên được nhiều hệ phái thiên chúa giáo sử dụng .',\n",
              " 'tuy vậy , phần lớn phát hiện về sơ kỳ đồ đá nhật bản bắt đầu sau năm 35.000 tcn , khiến cho niên đại này được phần lớn chấp nhận như là thời gian con người đã tiến tới nhật bản .',\n",
              " 'nhóm ra mắt vào ngày 10 tháng 11 năm 2016 cùng với mini album đầu tay \" welcome to momoland \" .',\n",
              " 'tôn giáo chủ yếu ở tây tạng là phật giáo tây tạng , cùng với đó là tôn giáo bản địa bön ( bön ngày nay tương đồng với phật giáo tây tạng ) cùng với các thiểu số hồi giáo và cơ đốc giáo . phật giáo tây tạng có ảnh hưởng mang tính chủ yếu đối với nghệ thuật , âm nhạc , lễ hội của khu vực .',\n",
              " 'dù là con số nào , nhà chu vẫn là triều đại tồn tại lâu nhất trong lịch sử trung quốc .',\n",
              " 'tây tạng nằm trên cao nguyên tây tạng , cao trung bình trên 4200 m . phần lớn dãy himalaya nằm trong địa phận tây tạng . đỉnh cao nhất của dãy núi này , đỉnh everest , nằm trên biên giới với nepal .',\n",
              " 'người bạc liêu có phong cách phóng khoáng , đặc trưng của vùng nam bộ . bạc liêu có công tử bạc liêu lừng danh một thuở giàu có và chịu chơi , ngoài ra vùng đất này còn gắn liền với tên tuổi của nhạc sĩ cao văn lầu và bài dạ cổ hoài lang đặt nền móng cho sự phát triển của nền cổ nhạc nam bộ .',\n",
              " 'khi còn bé , luffy đã vô tình ăn phải trái ác quỷ do shanks dành dược từ thuyền địch nên anh đã trở thành người cao su . tuy ăn phải trái ác quỷ làm cậu không thể bơi , nhưng mong muốn ra biển đặc biệt là ước muốn trở thành vua hải tặc và tìm được kho báu one piece của luffy vẫn không hề giảm . 10 năm sau từ quê hương là làng foosha , ở đảo dawn thuộc east blue , luffy lên dường tìm kiếm đồng đội để lập băng hải tặc cho riêng mình , băng băng mũ rơm , hành trình trở thành hải tặc của luffy bắt đầu .',\n",
              " 'bộ bộ kinh tâm là bộ phim truyền hình cổ trang của trung quốc được chuyển thể từ tiểu thuyết cùng tên của nhà văn đồng hoa do hãng phim thượng hải đường nhân sản xuất năm 2011 . bộ phim được trình chiếu lần đầu tiên trên kênh hunantv của trung quốc vào ngày 10 tháng 9 năm 2011 .',\n",
              " 'ngoài vai trò chính trị , vương côn luân còn là nhà hồng học nổi tiếng với tác phẩm \" hồng lâu mộng nhân vật luận \" . ông chính là chủ nhiệm ban cố vấn cho bộ phim hồng lâu mộng 1987 của đạo diễn vương phù lâm .',\n",
              " 'tây tạng là khu vực có cao độ lớn nhất trên trái đất , với độ cao trung bình là .',\n",
              " 'duy khánh ( 1936 – 2003 ) , tên thật nguyễn văn diệp , còn có nghệ danh tăng hồng , hoàng thanh , là nam ca sĩ người việt . ông nổi danh từ thập niên 1960 , ban đầu với những bài hát mang âm hưởng dân ca và \" dân ca mới \" của phạm duy , nhạc về quê hương , về sau ông được xem như là 1 trong 4 giọng nam của nhạc vàng thời kỳ đầu ( \" tứ trụ nhạc vàng \" ) , 3 người còn lại là : nhật trường , hùng cường , chế linh .',\n",
              " 'mốc thời gian trong thảm hoạ chìm tàu \" titanic \" liệt kê các sự kiện xảy trong ngày chủ nhật , 14 tháng 4 năm 1912 , và những giờ đầu tiên của ngày hôm sau , thời gian mà con tàu titanic ra đi , gây ra một trong những thảm hoạ hàng hải nghiêm trọng nhất mọi thời đại .',\n",
              " 'thành phố việt trì nằm ở phía đông của tỉnh phú thọ , phía bờ tả ngạn sông hồng , nằm cách trung tâm thủ đô hà nội 70  km về phía tây bắc , cách cửa khẩu quốc tế lào cai 350  km về phía đông , cách thành phố cảng hải phòng 140  km về phía tây bắc .',\n",
              " 'năm 2005 , trong một cuộc thăm dò ý kiến của hội hoàng gia về nhân vật có ảnh hưởng lớn nhất trong lịch sử khoa học , newton vẫn là người được cho rằng có nhiều ảnh hưởng hơn albert einstein .',\n",
              " 'ngô diệc phàm  ( sinh ngày 6 tháng 11 năm 1990 ) với nghệ danh kris là nam ca sĩ , diễn viên người canada gốc trung quốc , cựu thành viên nhóm nhạc exo .',\n",
              " 'linh mục phanxicô xaviê trương bửu diệp sinh ngày 1 tháng 1 năm 1897 tại họ đạo cồn phước , thuộc làng tấn đức ; nay thuộc ấp mỹ lợi , xã mỹ an , huyện chợ mới , tỉnh an giang . cha là ông micae trương văn đặng ( 1860 - 1935 ) , mẹ là bà lucia lê thị thanh .',\n",
              " 'ông có tên là nguyễn văn phần , nguyên quán tại thị trấn như quỳnh , văn lâm , hưng yên .',\n",
              " 'brasil là một quốc gia rộng lớn . tổng diện tích của nước này là 8.514.876,599  km2 , chiếm tới một nửa diện tích lục địa nam mỹ . lãnh thổ brasil tiếp giáp với các quốc gia và vùng lãnh thổ là argentina , bolivia , colombia , guiana thuộc pháp , guyana , paraguay , peru , suriname , uruguay và venezuela .',\n",
              " 'nội dung \" thiên long bát bộ \" thấm đượm tinh thần phật giáo mà kim dung vốn ngưỡng mộ , tiếng nói của phật giáo trong tác phẩm vừa dịu dàng sâu lắng vừa thật hiển minh , quán xuyến từ đầu chí cuối tác phẩm .',\n",
              " 'ai cập cổ đại là một nền văn minh cổ đại nằm ở đông bắc châu phi , tập trung dọc theo hạ lưu của sông nile thuộc khu vực ngày nay là đất nước ai cập . đây là một trong sáu nền văn minh phát sinh một cách độc lập trên thế giới . nền văn minh ai cập được thống nhất lại vào năm 3150 tcn ( theo trình tự thời gian của bảng niên đại ai cập ) với sự thống nhất chính trị của thượng và hạ ai cập dưới thời vị pharaon đầu tiên ( narmer , thường được gọi là menes ) .',\n",
              " 'vào ngày 2 tháng 8 năm 1934 , tổng thống von hindenburg qua đời . ngày hôm trước , nội các đã cho ban hành \" luật liên quan đến chức vụ nhà nước cao nhất của đế chế \" , trong đó tuyên bố vào thời điểm hindenburg chết , chức vụ tổng thống sẽ bị xoá bỏ và những quyền hạn của nó sẽ được sát nhập vào quyền hạn của thủ tướng .',\n",
              " 'trấn thành tên khai sinh huỳnh trấn thành ( sinh ngày 5 tháng 2 năm 1987 ) là một diễn viên hài , người dẫn chương trình , diễn viên lồng tiếng và diễn viên điện ảnh người việt nam .',\n",
              " 'năm 2015 , khu di tích lịch sử địa đạo củ chi đón nhận danh hiệu anh hùng lao động do có thành tích đặc biệt xuất sắc trong lao động , sáng tạo . trong 20 năm hoạt động , khu di tích đón hơn 20 triệu lượt khách trong và ngoài nước tới tham quan , tìm hiểu .',\n",
              " 'đồng là nguyên tố hóa học trong bảng tuần hoàn nguyên tố có ký hiệu cu và số nguyên tử bằng 29. đồng là kim loại dẻo có độ dẫn điện và dẫn nhiệt cao. đồng nguyên chất mềm và dễ uốn; bề mặt đồng tươi có màu cam đỏ.',\n",
              " 'trong 65 năm tồn tại ở thăng long , nhà mạc mở 21 kỳ thi hội , lấy đỗ 485 tiến sĩ và 13/46 trạng nguyên trong 800 năm thi cử nho học thời phong kiến việt nam .',\n",
              " 'nguyên thuỷ thiên tôn hay nguyên thỉ thiên tôn là thượng đế trong đạo giáo trung quốc , đứng thứ nhất trong tam thanh với ngôi vị ngọc thanh . hai vị kia là thượng thanh linh bảo thiên tôn ( đứng thứ 2 , lập ra triệt giáo ) và thái thanh đạo đức thiên tôn ( tức thái thượng lão quân ) ( đứng thứ 3 )',\n",
              " 'ngày 24 tháng 1 năm 1712 , friedrich chào đời tại berlin . ông là con của vua phổ friedrich wilhelm i ( 1668 – 1740 ) và hoàng hậu sophia dorothea xứ hanover ( 1687 – 1757 ) - con gái vua anh-tuyển hầu tước xứ hanover george i. friedrich có tổng cộng là 14 anh chị em , nhưng trong số đó chỉ 10 người sống đến tuổi trưởng thành .',\n",
              " 'nguyên thuỷ thiên tôn hay nguyên thỉ thiên tôn là thượng đế trong đạo giáo trung quốc , đứng thứ nhất trong tam thanh với ngôi vị ngọc thanh . hai vị kia là thượng thanh linh bảo thiên tôn ( đứng thứ 2 , lập ra triệt giáo ) và thái thanh đạo đức thiên tôn ( tức thái thượng lão quân ) ( đứng thứ 3 )',\n",
              " 'địa chỉ chính thức của tháp eiffel ở số 5 đại lộ anatole france , quận 7 , paris . nằm bên sông seine , tháp eiffel thuộc đường thẳng bắt đầu từ palais de chaillot , qua vườn trocadéro và sông , tới eiffel rồi chạy dọc champ-de-mars , đến école militaire và gần như thẳng tiếp tới tháp montparnasse .',\n",
              " 'nguyễn xuân anh sinh ngày 1 tháng 1 năm 1976 , nguyên quán xã hoà tiến , huyện hoà vang , thành phố đà nẵng . ông là con trai cả của ông nguyễn văn chi , chính trị gia từng là uỷ viên bộ chính trị đảng cộng sản việt nam khoá x ( 2006-2011 ) , bí thư ban chấp hành trung ương đảng cộng sản việt nam , chủ nhiệm uỷ ban kiểm tra trung ương đảng cộng sản việt nam ( 2003-2011 ) .',\n",
              " 'hình chữ nhật trong hình học euclid là một hình tứ giác có ba góc vuông . từ định nghĩa này , ta thấy hình chữ nhật là một tứ giác lồi có bốn góc vuông .',\n",
              " 'brasil có quốc gia có diện tích lớn thứ năm trên thế giới , chỉ đứng sau nga , canada , mỹ và trung quốc . lãnh thổ nước này trải dài trên 4 múi giờ khác nhau . brasil còn có một đường bờ biển dài 7367  km tiếp giáp với đại tây dương .',\n",
              " 'người với một diện tích đất là 789,4 km2 ( 304,8 mi2 ) . dân số vùng đô thị new york được ước tính là 20,320,876 trên diện tích 17.405  km2 ( 6.720 dặm vuông anh ) .',\n",
              " 'các chương truyện của manga \" fairy tail \" do hiro mashima sáng tác và minh hoạ . chương đầu tiên được đăng trên \" weekly shōnen magazine \" của kodansha vào ngày 2 tháng 8 năm 2006 , và được phát hành hàng tuần .',\n",
              " 'phim công chiếu tại đại hội điện ảnh việt nam quốc tế lần thứ iii vào ngày 12 tháng 4 năm 2007 và phát hành ở việt nam ngày 27 tháng 4 năm 2007. phim lập kỷ lục phòng vé trong nước, với doanh thu ước tính 10 tỷ đồng, dù không thể thu hồi lại vốn sản xuất.',\n",
              " 'nguyên thuỷ thiên tôn hay nguyên thỉ thiên tôn là thượng đế trong đạo giáo trung quốc , đứng thứ nhất trong tam thanh với ngôi vị ngọc thanh . hai vị kia là thượng thanh linh bảo thiên tôn ( đứng thứ 2 , lập ra triệt giáo ) và thái thanh đạo đức thiên tôn ( tức thái thượng lão quân ) ( đứng thứ 3 )',\n",
              " 'brasil, tên gọi chính thức là cộng hòa liên bang brasil, là quốc gia lớn nhất nam mỹ. brasil là quốc gia lớn thứ năm trên thế giới về diện tích lẫn dân số với hơn 190 triệu người. brasil là quốc gia nói tiếng bồ đào nha duy nhất ở châu mỹ và lớn nhất trên thế giới. bra-xin/dân số 209,3 triệu (2017)',\n",
              " 'ngô diệc phàm  ( sinh ngày 6 tháng 11 năm 1990 ) với nghệ danh kris là nam ca sĩ , diễn viên người canada gốc trung quốc , cựu thành viên nhóm nhạc exo .',\n",
              " 'cho đến nay ( 2017 ) theo như nguyễn đăng chương , giám đốc sở biểu diễn nghệ thuật của bộ văn hoá , thể thao và du lịch , có 70 bài hát của trịnh công sơn được phép trình diễn trước công chúng . bài hát mới nhất vừa được phép , là  \" nối vòng tay lớn \"   , vào ngày 12 tháng 4 năm 2017 .',\n",
              " 'thành phố trực thuộc tỉnh là một loại hình đơn vị hành chính nhà nước hiện nay tại việt nam , tương đương cấp huyện , quận và thị xã ( gọi chung là cấp huyện ) . thành phố trực thuộc tỉnh là một đô thị và là trung tâm hành chính , kinh tế của một tỉnh ( ngoại trừ tỉnh đắk nông là tỉnh duy nhất cả nước hiện nay không có thành phố nào trực thuộc ) .',\n",
              " 'địa lý châu á có thể coi là phức tạp và đa dạng nhất trong số 5 châu lục trên mặt đất . châu á được phân biệt với các châu khác không chỉ bởi các biển và đại dương , mà còn bởi nhiều đặc điểm tự nhiên độc đáo khác : một châu lục có kích thước vĩ đại nhất , trên 44,4 triệu km2 , có lịch sử phát triển và cấu tạo địa chất phức tạp nhất , có địa hình bề mặt bị chia cắt mạnh nhất và có sự phân hoá cảnh quan , khí hậu vô cùng phong phú , đa dạng : từ băng giá vĩnh cửu , rừng lá kim cho tới hoang mạc nóng bỏng , rừng rậm nhiệt đới xanh um .',\n",
              " 'danh từ là những từ chỉ người , sinh vật , sự vật , sự việc , khái niệm , hiện tượng ...',\n",
              " 'nhà hát broadway ( tiếng anh : \" broadway theatre \" ) là một nhà hát thuộc sân khấu broadway , toạ lạc tại số 1681 đại lộ broadway , khu manhattan , new york , hoa kỳ .',\n",
              " 'tên ban đầu của nó là 1925 hb . nguồn gốc cái tên của nó hiện chưa được rõ ràng .',\n",
              " 'quốc gia này có diện tích lớn nhất trên thế giới và là nhà sản xuất dầu lửa lớn nhất , vào năm 2016 kinh tế nga đứng hàng thứ 13 trên thế giới và đứng thứ 5 châu âu theo gdp danh nghĩa hoặc đứng thứ 6 trên thế giới và đứng thứ 2 châu âu theo gdp theo sức mua tương đương ( ~ 3.300 tỷ usd năm 2016 )',\n",
              " 'tiền thân của đảng việt tân là mặt trận quốc gia thống nhất giải phóng việt nam do hoàng cơ minh , chuẩn tướng hải quân quân lực việt nam cộng hoà thành lập vào năm 1980 ( hay còn gọi là mặt trận hoàng cơ minh ) . năm 2004 , mặt trận tuyên bố giải tán , tái tổ chức thành việt tân và tuyên bố sẽ thực hiện \" \" những hoạt động đấu tranh thích hợp với tình thế mới \" \" .',\n",
              " 'ireland chính thức được tuyên bố là một nước cộng hoà vào năm 1949 . ireland trở thành một thành viên của liên hiệp quốc vào tháng 12 năm 1955 , gia nhập cộng đồng kinh tế châu âu ( eec ) vào năm 1973 . cộng hoà ireland không có quan hệ chính thức với bắc ireland trong hầu hết thời gian của thế kỷ xx , song vào thập niên 1980 và 1990 hai chính phủ anh quốc và ireland làm việc với các phái bắc ireland nhằm tìm giải pháp cho xung đột vũ trang tại bắc ireland .',\n",
              " 'indonesia ( tên chính thức : cộng hoà indonesia , tiếng indonesia : \" republik indonesia \" ) trước đó trong tài liệu tiếng việt quốc gia này từng được gọi là \" nước nam dương \" , là một quốc gia nằm giữa đông nam á và châu đại dương . indonesia được mệnh danh là \" \" xứ sở vạn đảo \" \" , lãnh thổ của nó bao gồm \" 13.487 \" hòn đảo và với dân số khoảng 255 triệu người ( năm 2015 ) , đứng thứ tư thế giới về dân số .',\n",
              " 'saqqara bao gồm nhiều kim tự tháp , nổi tiếng nhất trong số đó là kim tự tháp bậc thang của pharaon djoser . nằm cách khoảng 30 km về phía nam thủ đô cairo , saqqara chiếm một diện tích khoảng hơn 16 ha .',\n",
              " 'isaac newton jr . là một nhà vật lý , nhà thiên văn học , nhà triết học , nhà toán học , nhà thần học và nhà giả kim thuật người anh , được nhiều người cho rằng là nhà khoa học vĩ đại và có tầm ảnh hưởng lớn nhất .',\n",
              " 'đàm vĩnh hưng tên thật là huỳnh minh hưng ( sinh ngày 2 tháng 10 năm 1971 ) , còn có biệt danh mr. đàm , là một ca sĩ việt nam . đàm vĩnh hưng là một nghệ sĩ đã giành được 2 giải cống hiến và hàng loạt các giải thưởng lớn nhỏ khác ở trong nước .',\n",
              " 'châu á hay á châu là châu lục lớn nhất và đông dân nhất thế giới nằm ở bắc bán cầu và đông bán cầu. châu á chiếm 8.6% tổng diện tích bề mặt trái đất và có 4 tỉ người, chiếm 60% dân số hiện nay của thế giới. sự phân chia ranh giới giữa châu á và châu phi là eo đất suez. châu á/dân số 4,463 tỷ',\n",
              " 'đặng tiểu bình ( giản thể : 邓小平 ; phồn thể : 鄧小平 ; bính âm : \" dèng xiǎopíng \" ; 22 tháng 8 năm 1904 - 19 tháng 2 năm 1997 ) có tên khai sinh là đặng tiên thánh , khi đi học mới đổi là đặng hi hiền , là một lãnh tụ của đảng cộng sản trung quốc .',\n",
              " 'trần đức lương ( sinh ngày 5 tháng 5 năm 1937 tại xã phổ khánh , huyện đức phổ , tỉnh quảng ngãi ) là một chính khách việt nam . ông là chủ tịch nước thứ năm của việt nam ( nhiệm kỳ từ 24 tháng 9 năm 1997 cho đến 26 tháng 6 năm 2006 ) , là uỷ viên bộ chính trị ( khoá viii , ix ) và uỷ viên thường vụ bộ chính trị ( khoá viii ) ban chấp hành trung ương đảng cộng sản việt nam .',\n",
              " 'tên gọi đặng tiểu bình được ông dùng từ năm 1927 , sau khi tưởng giới thạch đàn áp phong trào cách mạng cộng sản tại thượng hải .',\n",
              " 'sóc trăng là một tỉnh ven biển thuộc đồng bằng sông cửu long thuộc việt nam , nằm ở cửa nam sông hậu , cách thành phố hồ chí minh khoảng 231  km , cách cần thơ 62  km . tỉnh sóc trăng nằm ở hạ nguồn của sông hậu , là nơi sông hậu đổ vào biển đông tại hai cửa định an và trần đề , với dân số và diện tích đều đứng thứ 6 trong khu vực đồng bằng sông cửu long .',\n",
              " 'các đô thị việt nam được chia thành sáu loại gồm : loại đô thị đặc biệt và các đô thị từ loại i đến loại v. các đô thị đặc biệt , loại i và loại ii phải do thủ tướng ra quyết định công nhận ; các kiểu đô thị loại iii và iv do bộ xây dựng ra quyết định công nhận ; và loại v do uỷ ban nhân dân cấp tỉnh ( hay thành phố trực thuộc trung ương ) công nhận .',\n",
              " 'bài thơ \" tiếng đàn balalaika trên sông đà \" do nhà thơ quang huy sáng tác nói về sự giúp đỡ của liên xô với việt nam trong công cuộc xây dựng nhà máy thuỷ điện hoà bình .',\n",
              " 'brasil ( phiên âm : \" b \\' ra-xin \" hay \" b \\' ra-din \" ) , tên gọi chính thức là cộng hoà liên bang brasil , là quốc gia lớn nhất nam mỹ . brasil là quốc gia lớn thứ năm trên thế giới về diện tích lẫn dân số với hơn 190 triệu người . brasil là quốc gia nói tiếng bồ đào nha duy nhất ở châu mỹ và lớn nhất trên thế giới .',\n",
              " 'địa chỉ chính thức của tháp eiffel ở số 5 đại lộ anatole france , quận 7 , paris . nằm bên sông seine , tháp eiffel thuộc đường thẳng bắt đầu từ palais de chaillot , qua vườn trocadéro và sông , tới eiffel rồi chạy dọc champ-de-mars , đến école militaire và gần như thẳng tiếp tới tháp montparnasse .',\n",
              " 'phanxicô xaviê trương bửu diệp ( 1 tháng 1 năm 1897 - 12 tháng 3 năm 1946 ) , thường được gọi là cha diệp , là một linh mục công giáo tại việt nam . ông được biết đến nhiều bởi đã chịu chết thay cho giáo dân cùng bị bắt với mình ...',\n",
              " 'sóc trăng là một tỉnh ven biển thuộc đồng bằng sông cửu long thuộc việt nam , nằm ở cửa nam sông hậu , cách thành phố hồ chí minh khoảng 231  km , cách cần thơ 62  km . tỉnh sóc trăng nằm ở hạ nguồn của sông hậu , là nơi sông hậu đổ vào biển đông tại hai cửa định an và trần đề , với dân số và diện tích đều đứng thứ 6 trong khu vực đồng bằng sông cửu long .',\n",
              " 'đây là những điều cơ bản tiên quyết của cơ học newton , một loạt các phát biểu và phương trình trong cuốn \" các nguyên lý toán học của triết học tự nhiên \" , được xuất bản lần đầu năm 1687 .',\n",
              " 'biến đổi khí hậu là những biến đổi trong môi trường vật lý hoặc sinh học gây ra những ảnh hưởng có hại đáng kể đến thành phần, khả năng phục hồi hoặc sinh sản của các hệ sinh thái tự nhiên và được quản lý hoặc đến hoạt động của các hệ thống kinh tế – xã hội hoặc đến sức khỏe và phúc lợi của con người.',\n",
              " 'phanxicô xaviê trương bửu diệp ( 1 tháng 1 năm 1897 - 12 tháng 3 năm 1946 ) , thường được gọi là cha diệp , là một linh mục công giáo tại việt nam . ông được biết đến nhiều bởi đã chịu chết thay cho giáo dân cùng bị bắt với mình ...',\n",
              " 'vùng trung du miền núi phía bắc , trước năm 1954 còn gọi là trung du và thượng du là khu vực sơn địa và bán sơn địa ở miền bắc việt nam .']"
            ]
          },
          "metadata": {},
          "execution_count": 20
        }
      ]
    },
    {
      "cell_type": "code",
      "source": [
        "tfidf_vectorizer = TfidfVectorizer()\n",
        "context_embedded = tfidf_vectorizer.fit_transform(context)"
      ],
      "metadata": {
        "id": "5Cz_DsZsUj7Y"
      },
      "execution_count": 21,
      "outputs": []
    },
    {
      "cell_type": "code",
      "source": [
        "context_embedded.shape"
      ],
      "metadata": {
        "colab": {
          "base_uri": "https://localhost:8080/"
        },
        "id": "CpstImSTd6w_",
        "outputId": "b9bf4ef2-c608-4127-e6f1-f3c2745647f1"
      },
      "execution_count": 22,
      "outputs": [
        {
          "output_type": "execute_result",
          "data": {
            "text/plain": [
              "(500, 2913)"
            ]
          },
          "metadata": {},
          "execution_count": 22
        }
      ]
    },
    {
      "cell_type": "code",
      "source": [
        "## Question 10\n",
        "context_embedded.toarray()[7][0]"
      ],
      "metadata": {
        "colab": {
          "base_uri": "https://localhost:8080/"
        },
        "id": "oV3xwN6_eJqm",
        "outputId": "acb1382f-67b9-4dfb-9de1-b3cde55c04f9"
      },
      "execution_count": 23,
      "outputs": [
        {
          "output_type": "execute_result",
          "data": {
            "text/plain": [
              "0.31126580760710637"
            ]
          },
          "metadata": {},
          "execution_count": 23
        }
      ]
    },
    {
      "cell_type": "markdown",
      "source": [
        "## **3.2. Retrieval**"
      ],
      "metadata": {
        "id": "SmrUE65HJTSS"
      }
    },
    {
      "cell_type": "markdown",
      "source": [
        "### 3.2.1. Cosine Similarity"
      ],
      "metadata": {
        "id": "42inIVareZaX"
      }
    },
    {
      "cell_type": "code",
      "source": [
        "vi_data_df.iloc[0]"
      ],
      "metadata": {
        "colab": {
          "base_uri": "https://localhost:8080/",
          "height": 178
        },
        "id": "Ia0sbH-eJWWQ",
        "outputId": "f08fe446-1bd4-44b3-9255-e12cd384f2c1"
      },
      "execution_count": 24,
      "outputs": [
        {
          "output_type": "execute_result",
          "data": {
            "text/plain": [
              "id                                                 1570446247\n",
              "question    Quang Hải giành được chức vô địch U21 quốc gia...\n",
              "text        Năm 2013 , Nguyễn Quang Hải giành chức vô địch...\n",
              "Name: 0, dtype: object"
            ],
            "text/html": [
              "<div>\n",
              "<style scoped>\n",
              "    .dataframe tbody tr th:only-of-type {\n",
              "        vertical-align: middle;\n",
              "    }\n",
              "\n",
              "    .dataframe tbody tr th {\n",
              "        vertical-align: top;\n",
              "    }\n",
              "\n",
              "    .dataframe thead th {\n",
              "        text-align: right;\n",
              "    }\n",
              "</style>\n",
              "<table border=\"1\" class=\"dataframe\">\n",
              "  <thead>\n",
              "    <tr style=\"text-align: right;\">\n",
              "      <th></th>\n",
              "      <th>0</th>\n",
              "    </tr>\n",
              "  </thead>\n",
              "  <tbody>\n",
              "    <tr>\n",
              "      <th>id</th>\n",
              "      <td>1570446247</td>\n",
              "    </tr>\n",
              "    <tr>\n",
              "      <th>question</th>\n",
              "      <td>Quang Hải giành được chức vô địch U21 quốc gia...</td>\n",
              "    </tr>\n",
              "    <tr>\n",
              "      <th>text</th>\n",
              "      <td>Năm 2013 , Nguyễn Quang Hải giành chức vô địch...</td>\n",
              "    </tr>\n",
              "  </tbody>\n",
              "</table>\n",
              "</div><br><label><b>dtype:</b> object</label>"
            ]
          },
          "metadata": {},
          "execution_count": 24
        }
      ]
    },
    {
      "cell_type": "code",
      "source": [
        "question = vi_data_df.iloc[0]['question']\n",
        "query_embedded = tfidf_vectorizer.transform([question.lower()])\n",
        "query_embedded.shape"
      ],
      "metadata": {
        "colab": {
          "base_uri": "https://localhost:8080/"
        },
        "id": "ccrWwRYeefWx",
        "outputId": "8f35a0df-9423-450c-9de3-98a0e74d4207"
      },
      "execution_count": 26,
      "outputs": [
        {
          "output_type": "execute_result",
          "data": {
            "text/plain": [
              "(1, 2913)"
            ]
          },
          "metadata": {},
          "execution_count": 26
        }
      ]
    },
    {
      "cell_type": "code",
      "source": [
        "cosine_scores = cosine_similarity(context_embedded, query_embedded).reshape((-1,))\n",
        "cosine_scores.shape"
      ],
      "metadata": {
        "colab": {
          "base_uri": "https://localhost:8080/"
        },
        "id": "rgkvNwLZe2HD",
        "outputId": "da15bc07-ac7b-4bf3-d534-d1d7cfc2f27b"
      },
      "execution_count": 28,
      "outputs": [
        {
          "output_type": "execute_result",
          "data": {
            "text/plain": [
              "(500,)"
            ]
          },
          "metadata": {},
          "execution_count": 28
        }
      ]
    },
    {
      "cell_type": "code",
      "source": [
        "cosine_scores.argsort()[-5:][::-1]"
      ],
      "metadata": {
        "colab": {
          "base_uri": "https://localhost:8080/"
        },
        "id": "-ypxnGyVvBSY",
        "outputId": "69f69251-2f30-4166-dc04-038dcb3856be"
      },
      "execution_count": 34,
      "outputs": [
        {
          "output_type": "execute_result",
          "data": {
            "text/plain": [
              "array([  0,  97, 136, 384, 118])"
            ]
          },
          "metadata": {},
          "execution_count": 34
        }
      ]
    },
    {
      "cell_type": "code",
      "source": [
        "# Get stop cosine similarity score\n",
        "top_k = 5\n",
        "for index in cosine_scores.argsort()[-top_k:][::-1]:\n",
        "    print(\"Score: \", cosine_scores[index])\n",
        "    print(vi_data_df.iloc[index, 2])\n",
        "    print(\"============\")"
      ],
      "metadata": {
        "colab": {
          "base_uri": "https://localhost:8080/"
        },
        "id": "8suObLSptR9U",
        "outputId": "8fbeff6b-44ce-42de-e3d6-4bf695ed501d"
      },
      "execution_count": 36,
      "outputs": [
        {
          "output_type": "stream",
          "name": "stdout",
          "text": [
            "Score:  0.6279910475266974\n",
            "Năm 2013 , Nguyễn Quang Hải giành chức vô địch U21 quốc gia 2013 cùng với đội trẻ Hà Nội T&T và tạo nên cú sốc khi trở thành cầu thủ 16 tuổi đầu tiên giành được danh hiệu vô địch U21 quốc gia .\n",
            "============\n",
            "Score:  0.2114579586225163\n",
            "Bao Công huý là Bao Chửng ( chữ Hán : 包拯 ; 11 tháng 4 năm 999 - 20 tháng 5 năm 1062 ) , tự Hy Nhân . Ngoài ra , ông còn được gọi là Bao Thanh thiên , Bao Đãi chế , Bao Hắc tử , Bao Học sĩ hay Bao Long Đồ .\n",
            "============\n",
            "Score:  0.17714753149794465\n",
            "Arsenal đã giành được 13 chức vô địch quốc gia , 13 Cúp FA ( kỷ lục ) , 2 Cúp Liên đoàn Anh , 1 Cúp Liên đoàn Thế kỷ , 15 Siêu cúp Anh , 1 Cúp UEFA và 1 Cúp Inter-Cities Fairs . Arsenal là câu lạc bộ có số trận thắng ở cấp cao nhất nhiều thứ hai trong lịch sử bóng đá Anh , và cũng là đội bóng Anh duy nhất cho đến nay vô địch quốc gia với thành tích bất bại qua 38 vòng đấu , nhận biệt danh The Invincibles ( tiếng Việt : \" Đội bóng bất bại \" ) và giành Cúp vàng Ngoại hạng Anh .\n",
            "============\n",
            "Score:  0.15971218395887335\n",
            "Tây Ban Nha cũng là đội vô địch World Cup đầu tiên giữ được sạch lưới tại vòng đấu loại trực tiếp .\n",
            "============\n",
            "Score:  0.1578067474650028\n",
            "Tuyên Quang là một tỉnh thuộc vùng Đông Bắc Việt Nam . Có tỉnh lỵ là Thành phố Tuyên Quang .\n",
            "============\n"
          ]
        }
      ]
    },
    {
      "cell_type": "code",
      "source": [
        "## Question 11\n",
        "def tfidf_search(question, tfidf_vectorizer, top_d=5):\n",
        "    # lowercasing before encoding\n",
        "    query_embedded = tfidf_vectorizer.transform([question.lower()])\n",
        "    cosine_scores = cosine_similarity(context_embedded, query_embedded).reshape((-1,))\n",
        "    results = []\n",
        "    for index in cosine_scores.argsort()[-top_d:][::-1]:\n",
        "        doc = {\n",
        "            'id': index,\n",
        "            'cosine_score': cosine_scores[index]\n",
        "        }\n",
        "        results.append(doc)\n",
        "    return results"
      ],
      "metadata": {
        "id": "Dmma4VsjxbOe"
      },
      "execution_count": 37,
      "outputs": []
    },
    {
      "cell_type": "code",
      "source": [
        "question = vi_data_df.iloc[0]['question']\n",
        "print(\"Question: \", question)\n",
        "\n",
        "results = tfidf_search(question, tfidf_vectorizer)\n",
        "for result in results:\n",
        "    print(\"Id: \", result['id'])\n",
        "    print(\"Score: \", result['cosine_score'])\n",
        "    print(vi_data_df.iloc[result['id'], 2])\n",
        "    print(\"=======\")"
      ],
      "metadata": {
        "colab": {
          "base_uri": "https://localhost:8080/"
        },
        "id": "Bbec8zvRzM5-",
        "outputId": "9fb9d3ee-1af5-4d1f-8f94-590cca25be87"
      },
      "execution_count": 43,
      "outputs": [
        {
          "output_type": "stream",
          "name": "stdout",
          "text": [
            "Question:  Quang Hải giành được chức vô địch U21 quốc gia năm bao nhiêu tuổi\n",
            "Id:  0\n",
            "Score:  0.6279910475266974\n",
            "Năm 2013 , Nguyễn Quang Hải giành chức vô địch U21 quốc gia 2013 cùng với đội trẻ Hà Nội T&T và tạo nên cú sốc khi trở thành cầu thủ 16 tuổi đầu tiên giành được danh hiệu vô địch U21 quốc gia .\n",
            "=======\n",
            "Id:  97\n",
            "Score:  0.2114579586225163\n",
            "Bao Công huý là Bao Chửng ( chữ Hán : 包拯 ; 11 tháng 4 năm 999 - 20 tháng 5 năm 1062 ) , tự Hy Nhân . Ngoài ra , ông còn được gọi là Bao Thanh thiên , Bao Đãi chế , Bao Hắc tử , Bao Học sĩ hay Bao Long Đồ .\n",
            "=======\n",
            "Id:  136\n",
            "Score:  0.17714753149794465\n",
            "Arsenal đã giành được 13 chức vô địch quốc gia , 13 Cúp FA ( kỷ lục ) , 2 Cúp Liên đoàn Anh , 1 Cúp Liên đoàn Thế kỷ , 15 Siêu cúp Anh , 1 Cúp UEFA và 1 Cúp Inter-Cities Fairs . Arsenal là câu lạc bộ có số trận thắng ở cấp cao nhất nhiều thứ hai trong lịch sử bóng đá Anh , và cũng là đội bóng Anh duy nhất cho đến nay vô địch quốc gia với thành tích bất bại qua 38 vòng đấu , nhận biệt danh The Invincibles ( tiếng Việt : \" Đội bóng bất bại \" ) và giành Cúp vàng Ngoại hạng Anh .\n",
            "=======\n",
            "Id:  384\n",
            "Score:  0.15971218395887335\n",
            "Tây Ban Nha cũng là đội vô địch World Cup đầu tiên giữ được sạch lưới tại vòng đấu loại trực tiếp .\n",
            "=======\n",
            "Id:  118\n",
            "Score:  0.1578067474650028\n",
            "Tuyên Quang là một tỉnh thuộc vùng Đông Bắc Việt Nam . Có tỉnh lỵ là Thành phố Tuyên Quang .\n",
            "=======\n"
          ]
        }
      ]
    },
    {
      "cell_type": "code",
      "source": [
        "results[0]['cosine_score']"
      ],
      "metadata": {
        "colab": {
          "base_uri": "https://localhost:8080/"
        },
        "id": "zYTQaG1W1i64",
        "outputId": "86e93117-3af7-495a-c107-a0eeccf5357c"
      },
      "execution_count": 44,
      "outputs": [
        {
          "output_type": "execute_result",
          "data": {
            "text/plain": [
              "0.6279910475266974"
            ]
          },
          "metadata": {},
          "execution_count": 44
        }
      ]
    },
    {
      "cell_type": "markdown",
      "source": [
        "### 3.2.1. Correlation"
      ],
      "metadata": {
        "id": "gl88ThvXehX1"
      }
    },
    {
      "cell_type": "code",
      "source": [
        "question = vi_data_df.iloc[0]['question']\n",
        "question"
      ],
      "metadata": {
        "colab": {
          "base_uri": "https://localhost:8080/",
          "height": 36
        },
        "id": "B1mdVaWlej7K",
        "outputId": "c20e651c-a2ae-477f-bb20-9aa1e72e83ca"
      },
      "execution_count": 39,
      "outputs": [
        {
          "output_type": "execute_result",
          "data": {
            "text/plain": [
              "'Quang Hải giành được chức vô địch U21 quốc gia năm bao nhiêu tuổi'"
            ],
            "application/vnd.google.colaboratory.intrinsic+json": {
              "type": "string"
            }
          },
          "metadata": {},
          "execution_count": 39
        }
      ]
    },
    {
      "cell_type": "code",
      "source": [
        "query_embedded = tfidf_vectorizer.transform([question.lower()])\n",
        "query_embedded.shape"
      ],
      "metadata": {
        "colab": {
          "base_uri": "https://localhost:8080/"
        },
        "id": "ap_Q6hkz013p",
        "outputId": "ae79368e-ba82-475a-88df-e5bb89a1b21e"
      },
      "execution_count": 40,
      "outputs": [
        {
          "output_type": "execute_result",
          "data": {
            "text/plain": [
              "(1, 2913)"
            ]
          },
          "metadata": {},
          "execution_count": 40
        }
      ]
    },
    {
      "cell_type": "code",
      "source": [
        "corr_scores = np.corrcoef(\n",
        "    query_embedded.toarray()[0],\n",
        "    context_embedded.toarray()\n",
        ")\n",
        "corr_scores.shape"
      ],
      "metadata": {
        "colab": {
          "base_uri": "https://localhost:8080/"
        },
        "id": "n0QmpMX808Xr",
        "outputId": "f0f951f6-314d-46de-f12a-831a2332f6f4"
      },
      "execution_count": 46,
      "outputs": [
        {
          "output_type": "execute_result",
          "data": {
            "text/plain": [
              "(501, 501)"
            ]
          },
          "metadata": {},
          "execution_count": 46
        }
      ]
    },
    {
      "cell_type": "code",
      "source": [
        "corr_scores[0][1:10]"
      ],
      "metadata": {
        "colab": {
          "base_uri": "https://localhost:8080/"
        },
        "id": "aKlVZUSP8c2x",
        "outputId": "b1ea65a7-963f-42c7-e91c-b77b118e9e07"
      },
      "execution_count": 48,
      "outputs": [
        {
          "output_type": "execute_result",
          "data": {
            "text/plain": [
              "array([ 0.62595998, -0.00477247,  0.02170301,  0.04041869,  0.019418  ,\n",
              "        0.01144099,  0.04205915,  0.02519109, -0.00678129])"
            ]
          },
          "metadata": {},
          "execution_count": 48
        }
      ]
    },
    {
      "cell_type": "code",
      "source": [
        "# Get stop cosine similarity score\n",
        "top_d = 5\n",
        "for idx in corr_scores[0][1:].argsort()[-top_d:][::-1]:\n",
        "    print(\"Score: \", corr_scores[0][idx])\n",
        "    print(vi_data_df.iloc[idx, 2])\n",
        "    print(\"=======\")"
      ],
      "metadata": {
        "colab": {
          "base_uri": "https://localhost:8080/"
        },
        "id": "8i-9Dh3474LX",
        "outputId": "42b86f36-db9c-4663-9140-536483a40255"
      },
      "execution_count": 47,
      "outputs": [
        {
          "output_type": "stream",
          "name": "stdout",
          "text": [
            "Score:  1.0\n",
            "Năm 2013 , Nguyễn Quang Hải giành chức vô địch U21 quốc gia 2013 cùng với đội trẻ Hà Nội T&T và tạo nên cú sốc khi trở thành cầu thủ 16 tuổi đầu tiên giành được danh hiệu vô địch U21 quốc gia .\n",
            "=======\n",
            "Score:  0.010218977799153024\n",
            "Bao Công huý là Bao Chửng ( chữ Hán : 包拯 ; 11 tháng 4 năm 999 - 20 tháng 5 năm 1062 ) , tự Hy Nhân . Ngoài ra , ông còn được gọi là Bao Thanh thiên , Bao Đãi chế , Bao Hắc tử , Bao Học sĩ hay Bao Long Đồ .\n",
            "=======\n",
            "Score:  -0.005223983785487503\n",
            "Arsenal đã giành được 13 chức vô địch quốc gia , 13 Cúp FA ( kỷ lục ) , 2 Cúp Liên đoàn Anh , 1 Cúp Liên đoàn Thế kỷ , 15 Siêu cúp Anh , 1 Cúp UEFA và 1 Cúp Inter-Cities Fairs . Arsenal là câu lạc bộ có số trận thắng ở cấp cao nhất nhiều thứ hai trong lịch sử bóng đá Anh , và cũng là đội bóng Anh duy nhất cho đến nay vô địch quốc gia với thành tích bất bại qua 38 vòng đấu , nhận biệt danh The Invincibles ( tiếng Việt : \" Đội bóng bất bại \" ) và giành Cúp vàng Ngoại hạng Anh .\n",
            "=======\n",
            "Score:  0.04719630867691377\n",
            "Tây Ban Nha cũng là đội vô địch World Cup đầu tiên giữ được sạch lưới tại vòng đấu loại trực tiếp .\n",
            "=======\n",
            "Score:  -0.004762359075143503\n",
            "Tuyên Quang là một tỉnh thuộc vùng Đông Bắc Việt Nam . Có tỉnh lỵ là Thành phố Tuyên Quang .\n",
            "=======\n"
          ]
        }
      ]
    },
    {
      "cell_type": "code",
      "source": [
        "def corr_search(question, tfidf_vectorizer, top_d=5):\n",
        "    query_embedded = tfidf_vectorizer.transform([question.lower()])\n",
        "    corr_scores = np.corrcoef(\n",
        "        query_embedded.toarray()[0],\n",
        "        context_embedded.toarray()\n",
        "    )\n",
        "    corr_scores = corr_scores[0][1:]\n",
        "    results = []\n",
        "    for idx in corr_scores.argsort()[-top_d:][::-1]:\n",
        "        doc = {\n",
        "            'id': idx,\n",
        "            'corr_score':corr_scores[idx]\n",
        "        }\n",
        "        results.append(doc)\n",
        "    return results"
      ],
      "metadata": {
        "id": "aZbCiH8u8HOv"
      },
      "execution_count": 49,
      "outputs": []
    },
    {
      "cell_type": "code",
      "source": [
        "question = vi_data_df.iloc[0]['question']\n",
        "print(\"Question: \", question)\n",
        "results = corr_search(question, tfidf_vectorizer)\n",
        "for result in results:\n",
        "    print(\"Id: \", result['id'])\n",
        "    print(\"Score: \", result['corr_score'])\n",
        "    print(vi_data_df.iloc[result['id'], 2])\n",
        "    print(\"=======\")"
      ],
      "metadata": {
        "colab": {
          "base_uri": "https://localhost:8080/"
        },
        "id": "LzALFlli87mR",
        "outputId": "bdb1e250-ab3b-4ede-d4f3-972b14bce58a"
      },
      "execution_count": 50,
      "outputs": [
        {
          "output_type": "stream",
          "name": "stdout",
          "text": [
            "Question:  Quang Hải giành được chức vô địch U21 quốc gia năm bao nhiêu tuổi\n",
            "Id:  0\n",
            "Score:  0.6259599752568777\n",
            "Năm 2013 , Nguyễn Quang Hải giành chức vô địch U21 quốc gia 2013 cùng với đội trẻ Hà Nội T&T và tạo nên cú sốc khi trở thành cầu thủ 16 tuổi đầu tiên giành được danh hiệu vô địch U21 quốc gia .\n",
            "=======\n",
            "Id:  97\n",
            "Score:  0.20734246471973258\n",
            "Bao Công huý là Bao Chửng ( chữ Hán : 包拯 ; 11 tháng 4 năm 999 - 20 tháng 5 năm 1062 ) , tự Hy Nhân . Ngoài ra , ông còn được gọi là Bao Thanh thiên , Bao Đãi chế , Bao Hắc tử , Bao Học sĩ hay Bao Long Đồ .\n",
            "=======\n",
            "Id:  136\n",
            "Score:  0.17124615520165054\n",
            "Arsenal đã giành được 13 chức vô địch quốc gia , 13 Cúp FA ( kỷ lục ) , 2 Cúp Liên đoàn Anh , 1 Cúp Liên đoàn Thế kỷ , 15 Siêu cúp Anh , 1 Cúp UEFA và 1 Cúp Inter-Cities Fairs . Arsenal là câu lạc bộ có số trận thắng ở cấp cao nhất nhiều thứ hai trong lịch sử bóng đá Anh , và cũng là đội bóng Anh duy nhất cho đến nay vô địch quốc gia với thành tích bất bại qua 38 vòng đấu , nhận biệt danh The Invincibles ( tiếng Việt : \" Đội bóng bất bại \" ) và giành Cúp vàng Ngoại hạng Anh .\n",
            "=======\n",
            "Id:  384\n",
            "Score:  0.15520346054699719\n",
            "Tây Ban Nha cũng là đội vô địch World Cup đầu tiên giữ được sạch lưới tại vòng đấu loại trực tiếp .\n",
            "=======\n",
            "Id:  118\n",
            "Score:  0.1544453199666337\n",
            "Tuyên Quang là một tỉnh thuộc vùng Đông Bắc Việt Nam . Có tỉnh lỵ là Thành phố Tuyên Quang .\n",
            "=======\n"
          ]
        }
      ]
    },
    {
      "cell_type": "code",
      "source": [
        "## Question 12\n",
        "results[1]['corr_score']"
      ],
      "metadata": {
        "colab": {
          "base_uri": "https://localhost:8080/"
        },
        "id": "CjvOQ-Ek9xTB",
        "outputId": "bfee78c1-ca95-4a78-a2c8-1550b3099b63"
      },
      "execution_count": 51,
      "outputs": [
        {
          "output_type": "execute_result",
          "data": {
            "text/plain": [
              "0.20734246471973258"
            ]
          },
          "metadata": {},
          "execution_count": 51
        }
      ]
    }
  ]
}