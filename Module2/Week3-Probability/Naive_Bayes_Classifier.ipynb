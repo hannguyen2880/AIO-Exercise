{
  "nbformat": 4,
  "nbformat_minor": 0,
  "metadata": {
    "colab": {
      "provenance": []
    },
    "kernelspec": {
      "name": "python3",
      "display_name": "Python 3"
    },
    "language_info": {
      "name": "python"
    }
  },
  "cells": [
    {
      "cell_type": "markdown",
      "source": [
        "# **4. PLAY TENNIS CLASSIFIER IMPLEMENTATION**"
      ],
      "metadata": {
        "id": "lswstf_tzNy1"
      }
    },
    {
      "cell_type": "markdown",
      "source": [
        "Develop a user program\n",
        "Naive Bayes classification model to predict whether on day 11 (D11), AD can play tennis or not?"
      ],
      "metadata": {
        "id": "RIItS7sSzV10"
      }
    },
    {
      "cell_type": "code",
      "source": [
        "import numpy as np"
      ],
      "metadata": {
        "id": "wNxp14HtTlme"
      },
      "execution_count": 1,
      "outputs": []
    },
    {
      "cell_type": "code",
      "execution_count": 2,
      "metadata": {
        "colab": {
          "base_uri": "https://localhost:8080/"
        },
        "id": "iSBhzjYwTYce",
        "outputId": "6ffabab7-0682-4258-f8d1-a02b10c9dd56"
      },
      "outputs": [
        {
          "output_type": "stream",
          "name": "stdout",
          "text": [
            "[['Sunny' 'Hot' 'High' 'Weak' 'no']\n",
            " ['Sunny' 'Hot' 'High' 'Strong' 'no']\n",
            " ['Overcast' 'Hot' 'High' 'Weak' 'yes']\n",
            " ['Rain' 'Mild' 'High' 'Weak' 'yes']\n",
            " ['Rain' 'Cool' 'Normal' 'Weak' 'yes']\n",
            " ['Rain' 'Cool' 'Normal' 'Strong' 'no']\n",
            " ['Overcast' 'Cool' 'Normal' 'Strong' 'yes']\n",
            " ['Overcast' 'Mild' 'High' 'Weak' 'no']\n",
            " ['Sunny' 'Cool' 'Normal' 'Weak' 'yes']\n",
            " ['Rain' 'Mild' 'Normal' 'Weak' 'yes']]\n"
          ]
        }
      ],
      "source": [
        "#Init data\n",
        "def create_train_data():\n",
        "    data = [['Sunny','Hot', 'High', 'Weak', 'no'],\n",
        "            ['Sunny','Hot', 'High', 'Strong', 'no'],\n",
        "            ['Overcast','Hot', 'High', 'Weak', 'yes'],\n",
        "            ['Rain','Mild', 'High', 'Weak', 'yes'],\n",
        "            ['Rain','Cool', 'Normal', 'Weak', 'yes'],\n",
        "            ['Rain','Cool', 'Normal', 'Strong', 'no'],\n",
        "            ['Overcast','Cool', 'Normal', 'Strong', 'yes'],\n",
        "            ['Overcast','Mild', 'High', 'Weak', 'no'],\n",
        "            ['Sunny','Cool', 'Normal', 'Weak', 'yes'],\n",
        "            ['Rain','Mild', 'Normal', 'Weak', 'yes']\n",
        "          ]\n",
        "    return np.array(data)\n",
        "\n",
        "train_data = create_train_data()\n",
        "print(train_data)"
      ]
    },
    {
      "cell_type": "code",
      "source": [
        "def compute_prior_probability(train_data):\n",
        "    y_unique = ['no', 'yes']\n",
        "    prior_probability = np.zeros(len(y_unique))\n",
        "    for i in range(len(y_unique)):\n",
        "        prior_probability[i] = len(np.where(train_data[:,4] == y_unique[i])[0]) / len(train_data)\n",
        "    return prior_probability"
      ],
      "metadata": {
        "id": "ZfNi2l01T5ac"
      },
      "execution_count": 3,
      "outputs": []
    },
    {
      "cell_type": "code",
      "source": [
        "prior_probability = compute_prior_probability(train_data)\n",
        "print(\"P(“Play Tennis” = No) =\", prior_probability[0])\n",
        "print(\"P(“Play Tennis” = Yes) =\", prior_probability[1])"
      ],
      "metadata": {
        "colab": {
          "base_uri": "https://localhost:8080/"
        },
        "id": "XzKPOpHD6Uhm",
        "outputId": "511cdfd8-7ac7-4fac-e512-68c5db894aea"
      },
      "execution_count": 4,
      "outputs": [
        {
          "output_type": "stream",
          "name": "stdout",
          "text": [
            "P(“Play Tennis” = No) = 0.4\n",
            "P(“Play Tennis” = Yes) = 0.6\n"
          ]
        }
      ]
    },
    {
      "cell_type": "code",
      "source": [
        "train_data.shape"
      ],
      "metadata": {
        "colab": {
          "base_uri": "https://localhost:8080/"
        },
        "id": "hB43_KGhEfCu",
        "outputId": "cd670acf-19ac-45a2-d25c-54a851a43372"
      },
      "execution_count": 5,
      "outputs": [
        {
          "output_type": "execute_result",
          "data": {
            "text/plain": [
              "(10, 5)"
            ]
          },
          "metadata": {},
          "execution_count": 5
        }
      ]
    },
    {
      "cell_type": "code",
      "source": [
        "y_unique = ['no', 'yes']\n",
        "x_unique = np.unique(train_data[:,0])\n",
        "np.zeros((len(y_unique),len(x_unique)))"
      ],
      "metadata": {
        "colab": {
          "base_uri": "https://localhost:8080/"
        },
        "id": "9Svhkz9vEs4u",
        "outputId": "e48460eb-1fa0-495b-e377-7eabe83c362a"
      },
      "execution_count": 6,
      "outputs": [
        {
          "output_type": "execute_result",
          "data": {
            "text/plain": [
              "array([[0., 0., 0.],\n",
              "       [0., 0., 0.]])"
            ]
          },
          "metadata": {},
          "execution_count": 6
        }
      ]
    },
    {
      "cell_type": "code",
      "source": [
        "#output: conditional probabilities and list of feature names: P(A | B)\n",
        "\n",
        "def compute_conditional_probability(train_data):\n",
        "    y_unique = ['no', 'yes']\n",
        "    conditional_probability = []\n",
        "    list_x_name = []\n",
        "    for i in range(train_data.shape[1] - 1):\n",
        "      x_unique = np.unique(train_data[:,i])\n",
        "\n",
        "      list_x_name.append(x_unique)\n",
        "\n",
        "      x_conditional_probability = np.zeros((len(y_unique), len(x_unique)))\n",
        "\n",
        "      for j in range(len(y_unique)):\n",
        "        for k in range(len(x_unique)):\n",
        "          x_conditional_probability[j, k] = len(np.where((train_data[:, i] == x_unique[k]) & (train_data[:, -1] == y_unique[j]))[0]) / len(np.where(train_data[:, -1] == y_unique[j])[0])\n",
        "\n",
        "      conditional_probability.append(x_conditional_probability)\n",
        "    return conditional_probability, list_x_name"
      ],
      "metadata": {
        "id": "KOZOKQH_6e0W"
      },
      "execution_count": 7,
      "outputs": []
    },
    {
      "cell_type": "code",
      "source": [
        "_, list_x_name  = compute_conditional_probability(train_data)\n",
        "print(\"x1 = \",list_x_name[0])\n",
        "print(\"x2 = \",list_x_name[1])\n",
        "print(\"x3 = \",list_x_name[2])\n",
        "print(\"x4 = \",list_x_name[3])"
      ],
      "metadata": {
        "colab": {
          "base_uri": "https://localhost:8080/"
        },
        "id": "b4Yf5XddcMou",
        "outputId": "2f725c1d-9694-4af7-d121-001cf9b7ddcf"
      },
      "execution_count": 8,
      "outputs": [
        {
          "output_type": "stream",
          "name": "stdout",
          "text": [
            "x1 =  ['Overcast' 'Rain' 'Sunny']\n",
            "x2 =  ['Cool' 'Hot' 'Mild']\n",
            "x3 =  ['High' 'Normal']\n",
            "x4 =  ['Strong' 'Weak']\n"
          ]
        }
      ]
    },
    {
      "cell_type": "code",
      "source": [
        "#This function is used to return the index of the feature name\n",
        "def get_index_from_value(feature_name, list_features):\n",
        "  return np.where(list_features == feature_name)[0][0]"
      ],
      "metadata": {
        "id": "PROJ_D0ZcVJu"
      },
      "execution_count": 9,
      "outputs": []
    },
    {
      "cell_type": "code",
      "source": [
        "#Question: 4.4.1\n",
        "train_data = create_train_data()\n",
        "_, list_x_name  = compute_conditional_probability(train_data)\n",
        "outlook = list_x_name[0]\n",
        "i1 = get_index_from_value(\"Overcast\", outlook)\n",
        "i2 = get_index_from_value(\"Rain\", outlook)\n",
        "i3 = get_index_from_value(\"Sunny\", outlook)\n",
        "\n",
        "print(i1, i2, i3)"
      ],
      "metadata": {
        "colab": {
          "base_uri": "https://localhost:8080/"
        },
        "id": "R8rxAyr9IvgG",
        "outputId": "ea60c309-39f7-49b5-e68e-74e9073da7fb"
      },
      "execution_count": 10,
      "outputs": [
        {
          "output_type": "stream",
          "name": "stdout",
          "text": [
            "0 1 2\n"
          ]
        }
      ]
    },
    {
      "cell_type": "code",
      "source": [
        "#Question: 4.4.2\n",
        "train_data = create_train_data()\n",
        "conditional_probability, list_x_name  = compute_conditional_probability(train_data)\n",
        "# Compute P(\"Outlook\"=\"Sunny\"|Play Tennis\"=\"Yes\")\n",
        "x1 = get_index_from_value(\"Sunny\", list_x_name[0])\n",
        "print(\"P('Outlook'='Sunny'|Play Tennis'='Yes') = \", np.round(conditional_probability[0][1, x1], 2))"
      ],
      "metadata": {
        "colab": {
          "base_uri": "https://localhost:8080/"
        },
        "id": "Bg41LmE5JHha",
        "outputId": "bdfe7a83-b3a7-4ee0-bee9-39c0d97d8260"
      },
      "execution_count": 11,
      "outputs": [
        {
          "output_type": "stream",
          "name": "stdout",
          "text": [
            "P('Outlook'='Sunny'|Play Tennis'='Yes') =  0.17\n"
          ]
        }
      ]
    },
    {
      "cell_type": "code",
      "source": [
        "#Question: 4.4.3\n",
        "train_data = create_train_data()\n",
        "conditional_probability, list_x_name  = compute_conditional_probability(train_data)\n",
        "# Compute P(\"Outlook\"=\"Sunny\"|Play Tennis\"=\"No\")\n",
        "x1 = get_index_from_value(\"Sunny\", list_x_name[0])\n",
        "print(\"P('Outlook'='Sunny'|Play Tennis'='No') = \", np.round(conditional_probability[0][0, x1], 2))"
      ],
      "metadata": {
        "colab": {
          "base_uri": "https://localhost:8080/"
        },
        "id": "tQxS_OBMVo3E",
        "outputId": "f52edf73-6385-49b6-e43c-53769dea77b0"
      },
      "execution_count": 12,
      "outputs": [
        {
          "output_type": "stream",
          "name": "stdout",
          "text": [
            "P('Outlook'='Sunny'|Play Tennis'='No') =  0.5\n"
          ]
        }
      ]
    },
    {
      "cell_type": "code",
      "source": [
        "###########################\n",
        "# Train Naive Bayes Model\n",
        "###########################\n",
        "def train_naive_bayes(train_data):\n",
        "    prior_probability = compute_prior_probability(train_data)\n",
        "    conditional_probability, list_x_name  = compute_conditional_probability(train_data)\n",
        "    return prior_probability, conditional_probability, list_x_name"
      ],
      "metadata": {
        "id": "sJRNjiygV1xK"
      },
      "execution_count": 13,
      "outputs": []
    },
    {
      "cell_type": "code",
      "source": [
        "data = create_train_data()\n",
        "prior_probability, conditional_probability, list_x_name = train_naive_bayes(data)"
      ],
      "metadata": {
        "id": "_nBbUAXMdNUB"
      },
      "execution_count": 14,
      "outputs": []
    },
    {
      "cell_type": "code",
      "source": [
        "####################\n",
        "# Prediction\n",
        "####################\n",
        "def prediction_play_tennis(X, list_x_name, prior_probability, conditional_probability):\n",
        "    x1 = get_index_from_value(X[0],list_x_name[0])\n",
        "    x2 = get_index_from_value(X[1],list_x_name[1])\n",
        "    x3 = get_index_from_value(X[2],list_x_name[2])\n",
        "    x4 = get_index_from_value(X[3],list_x_name[3])\n",
        "\n",
        "    p0 = prior_probability[0] * conditional_probability[0][0,x1] * conditional_probability[1][0,x2] * conditional_probability[2][0,x3] * conditional_probability[3][0,x4]\n",
        "    p1 = prior_probability[1] * conditional_probability[0][1,x1] * conditional_probability[1][1,x2] * conditional_probability[2][1,x3] * conditional_probability[3][1,x4]\n",
        "    if p0 > p1:\n",
        "        y_pred = 0\n",
        "    else:\n",
        "        y_pred = 1\n",
        "    return y_pred"
      ],
      "metadata": {
        "id": "nGVE6KvwdpYa"
      },
      "execution_count": 21,
      "outputs": []
    },
    {
      "cell_type": "code",
      "source": [
        "# Question 4.6.1\n",
        "X = ['Sunny','Cool', 'High', 'Strong']\n",
        "data = create_train_data()\n",
        "prior_probability,conditional_probability, list_x_name = train_naive_bayes(data)\n",
        "pred =  prediction_play_tennis(X, list_x_name, prior_probability, conditional_probability)\n",
        "\n",
        "if(pred):\n",
        "  print(\"Ad should go!\")\n",
        "else:\n",
        "  print(\"Ad should not go!\")"
      ],
      "metadata": {
        "id": "j6xYLsSdduqh",
        "colab": {
          "base_uri": "https://localhost:8080/"
        },
        "outputId": "49e9fd2f-31f9-4bc6-f081-f5b48b890f39"
      },
      "execution_count": 22,
      "outputs": [
        {
          "output_type": "stream",
          "name": "stdout",
          "text": [
            "Ad should not go!\n"
          ]
        }
      ]
    },
    {
      "cell_type": "markdown",
      "source": [
        "# **5. Iris Classification**"
      ],
      "metadata": {
        "id": "ol5n6TqpfwEh"
      }
    },
    {
      "cell_type": "code",
      "source": [
        "from sklearn import datasets\n",
        "import numpy as np\n",
        "import math"
      ],
      "metadata": {
        "id": "lLduD0x4f115"
      },
      "execution_count": 25,
      "outputs": []
    },
    {
      "cell_type": "code",
      "source": [
        "def create_train_data_iris():\n",
        "  data = np.loadtxt(\"/content/iris.data.txt\", delimiter=\",\", dtype=str)\n",
        "  return data"
      ],
      "metadata": {
        "id": "9YIvadgAf7UD"
      },
      "execution_count": 31,
      "outputs": []
    },
    {
      "cell_type": "code",
      "source": [
        "def compute_prior_probablity_iris(train_data):\n",
        "    y_unique = np.unique(train_data[:, 4])\n",
        "    prior_probability = np.zeros(len(y_unique))\n",
        "    for i in range(len(y_unique)):\n",
        "        prior_probability[i] = len(np.where(train_data[:, 4] == y_unique[i])[0]) / len(train_data)\n",
        "    return prior_probability"
      ],
      "metadata": {
        "id": "hxaEROpySzAA"
      },
      "execution_count": 23,
      "outputs": []
    },
    {
      "cell_type": "code",
      "source": [
        "def compute_conditional_probability_iris(train_data):\n",
        "    y_unique = np.unique(train_data[:,4]) # 0 for Setosa, 1 for Versicolour, 2 for Virginica\n",
        "    x_feature = 4\n",
        "    conditional_probability = []\n",
        "    list_x_name = []\n",
        "\n",
        "    for i in range(train_data.shape[1] - 1):\n",
        "        x_conditional_probability = np.zeros((len(y_unique), 2))\n",
        "        for j in range(len(y_unique)):\n",
        "            mean = np.mean((train_data[:,i][np.where(train_data[:,4] == y_unique[j])]).astype(float))\n",
        "            sigma =  np.std((train_data[:,i][np.where(train_data[:,4] == y_unique[j])]).astype(float))\n",
        "            sigma = sigma * sigma\n",
        "            x_conditional_probability[j]= [mean, sigma]\n",
        "        conditional_probability.append(x_conditional_probability)\n",
        "    return conditional_probability"
      ],
      "metadata": {
        "id": "uuNq55H1TM9n"
      },
      "execution_count": 24,
      "outputs": []
    },
    {
      "cell_type": "code",
      "source": [
        "def gauss(x, mean, sigma):\n",
        "    result = (1.0 / (np.sqrt(2*math.pi*sigma))) * (np.exp(-(float(x) - mean) ** 2 / (2 * sigma)))\n",
        "    return result"
      ],
      "metadata": {
        "id": "MboYfcaSTo1o"
      },
      "execution_count": 26,
      "outputs": []
    },
    {
      "cell_type": "code",
      "source": [
        "###########################\n",
        "# Train Naive Bayes Model\n",
        "###########################\n",
        "def train_gaussian_naive_bayes(train_data):\n",
        "    # Step 1: Calculate Prior Probability\n",
        "    prior_probability = compute_prior_probablity_iris(train_data)\n",
        "\n",
        "    # Step 2: Calculate Conditional Probability\n",
        "    conditional_probability  = compute_conditional_probability_iris(train_data)\n",
        "\n",
        "    return prior_probability,conditional_probability"
      ],
      "metadata": {
        "id": "VS2vqtVgU3Od"
      },
      "execution_count": 33,
      "outputs": []
    },
    {
      "cell_type": "code",
      "source": [
        "####################\n",
        "# Prediction\n",
        "####################\n",
        "def prediction_iris(X,  prior_probability, conditional_probability):\n",
        "    p0 = prior_probability[0] \\\n",
        "    *gauss(X[0], conditional_probability[0][0][0],conditional_probability[0][0][1])  \\\n",
        "    *gauss(X[1], conditional_probability[1][0][0],conditional_probability[1][0][1])  \\\n",
        "    *gauss(X[2], conditional_probability[2][0][0],conditional_probability[2][0][1])  \\\n",
        "    *gauss(X[3], conditional_probability[3][0][0],conditional_probability[3][0][1])\n",
        "\n",
        "    p1  =prior_probability[1] \\\n",
        "    *gauss(X[0], conditional_probability[0][1][0],conditional_probability[0][1][1])  \\\n",
        "    *gauss(X[1], conditional_probability[1][1][0],conditional_probability[1][1][1])  \\\n",
        "    *gauss(X[2], conditional_probability[2][1][0],conditional_probability[2][1][1])  \\\n",
        "    *gauss(X[3], conditional_probability[3][1][0],conditional_probability[3][1][1])\n",
        "\n",
        "    p2 = prior_probability[2] \\\n",
        "    *gauss(X[0], conditional_probability[0][2][0],conditional_probability[0][2][1])  \\\n",
        "    *gauss(X[1], conditional_probability[1][2][0],conditional_probability[1][2][1])  \\\n",
        "    *gauss(X[2], conditional_probability[2][2][0],conditional_probability[2][2][1])  \\\n",
        "    *gauss(X[3], conditional_probability[3][2][0],conditional_probability[3][2][1])\n",
        "\n",
        "    list_p = [p0, p1, p2]\n",
        "\n",
        "    return list_p.index(np.max(list_p))"
      ],
      "metadata": {
        "id": "-BmN1ySOU75t"
      },
      "execution_count": 48,
      "outputs": []
    },
    {
      "cell_type": "code",
      "source": [
        "!gdown 1z7hStO6RCOlVmo-YE0O1hwQ2swItvCPa"
      ],
      "metadata": {
        "colab": {
          "base_uri": "https://localhost:8080/"
        },
        "id": "7yneO31oUpxR",
        "outputId": "74238e3d-bd14-4815-eae5-0d7c70d67be0"
      },
      "execution_count": 30,
      "outputs": [
        {
          "output_type": "stream",
          "name": "stdout",
          "text": [
            "Downloading...\n",
            "From: https://drive.google.com/uc?id=1z7hStO6RCOlVmo-YE0O1hwQ2swItvCPa\n",
            "To: /content/iris.data.txt\n",
            "\r  0% 0.00/4.70k [00:00<?, ?B/s]\r100% 4.70k/4.70k [00:00<00:00, 15.8MB/s]\n"
          ]
        }
      ]
    },
    {
      "cell_type": "code",
      "source": [
        "data = create_train_data_iris()\n",
        "data"
      ],
      "metadata": {
        "colab": {
          "base_uri": "https://localhost:8080/"
        },
        "id": "DswE1NOOTxES",
        "outputId": "244a6081-457f-4755-bd85-bc0caaba9d06"
      },
      "execution_count": 36,
      "outputs": [
        {
          "output_type": "execute_result",
          "data": {
            "text/plain": [
              "array([['5.1', '3.5', '1.4', '0.2', 'Iris-setosa'],\n",
              "       ['4.9', '3.0', '1.4', '0.2', 'Iris-setosa'],\n",
              "       ['4.7', '3.2', '1.3', '0.2', 'Iris-setosa'],\n",
              "       ['4.6', '3.1', '1.5', '0.2', 'Iris-setosa'],\n",
              "       ['5.0', '3.6', '1.4', '0.2', 'Iris-setosa'],\n",
              "       ['5.4', '3.9', '1.7', '0.4', 'Iris-setosa'],\n",
              "       ['4.6', '3.4', '1.4', '0.3', 'Iris-setosa'],\n",
              "       ['5.0', '3.4', '1.5', '0.2', 'Iris-setosa'],\n",
              "       ['4.4', '2.9', '1.4', '0.2', 'Iris-setosa'],\n",
              "       ['4.9', '3.1', '1.5', '0.1', 'Iris-setosa'],\n",
              "       ['5.4', '3.7', '1.5', '0.2', 'Iris-setosa'],\n",
              "       ['4.8', '3.4', '1.6', '0.2', 'Iris-setosa'],\n",
              "       ['4.8', '3.0', '1.4', '0.1', 'Iris-setosa'],\n",
              "       ['4.3', '3.0', '1.1', '0.1', 'Iris-setosa'],\n",
              "       ['5.8', '4.0', '1.2', '0.2', 'Iris-setosa'],\n",
              "       ['5.7', '4.4', '1.5', '0.4', 'Iris-setosa'],\n",
              "       ['5.4', '3.9', '1.3', '0.4', 'Iris-setosa'],\n",
              "       ['5.1', '3.5', '1.4', '0.3', 'Iris-setosa'],\n",
              "       ['5.7', '3.8', '1.7', '0.3', 'Iris-setosa'],\n",
              "       ['5.1', '3.8', '1.5', '0.3', 'Iris-setosa'],\n",
              "       ['5.4', '3.4', '1.7', '0.2', 'Iris-setosa'],\n",
              "       ['5.1', '3.7', '1.5', '0.4', 'Iris-setosa'],\n",
              "       ['4.6', '3.6', '1.0', '0.2', 'Iris-setosa'],\n",
              "       ['5.1', '3.3', '1.7', '0.5', 'Iris-setosa'],\n",
              "       ['4.8', '3.4', '1.9', '0.2', 'Iris-setosa'],\n",
              "       ['5.0', '3.0', '1.6', '0.2', 'Iris-setosa'],\n",
              "       ['5.0', '3.4', '1.6', '0.4', 'Iris-setosa'],\n",
              "       ['5.2', '3.5', '1.5', '0.2', 'Iris-setosa'],\n",
              "       ['5.2', '3.4', '1.4', '0.2', 'Iris-setosa'],\n",
              "       ['4.7', '3.2', '1.6', '0.2', 'Iris-setosa'],\n",
              "       ['4.8', '3.1', '1.6', '0.2', 'Iris-setosa'],\n",
              "       ['5.4', '3.4', '1.5', '0.4', 'Iris-setosa'],\n",
              "       ['5.2', '4.1', '1.5', '0.1', 'Iris-setosa'],\n",
              "       ['5.5', '4.2', '1.4', '0.2', 'Iris-setosa'],\n",
              "       ['4.9', '3.1', '1.5', '0.1', 'Iris-setosa'],\n",
              "       ['5.0', '3.2', '1.2', '0.2', 'Iris-setosa'],\n",
              "       ['5.5', '3.5', '1.3', '0.2', 'Iris-setosa'],\n",
              "       ['4.9', '3.1', '1.5', '0.1', 'Iris-setosa'],\n",
              "       ['4.4', '3.0', '1.3', '0.2', 'Iris-setosa'],\n",
              "       ['5.1', '3.4', '1.5', '0.2', 'Iris-setosa'],\n",
              "       ['5.0', '3.5', '1.3', '0.3', 'Iris-setosa'],\n",
              "       ['4.5', '2.3', '1.3', '0.3', 'Iris-setosa'],\n",
              "       ['4.4', '3.2', '1.3', '0.2', 'Iris-setosa'],\n",
              "       ['5.0', '3.5', '1.6', '0.6', 'Iris-setosa'],\n",
              "       ['5.1', '3.8', '1.9', '0.4', 'Iris-setosa'],\n",
              "       ['4.8', '3.0', '1.4', '0.3', 'Iris-setosa'],\n",
              "       ['5.1', '3.8', '1.6', '0.2', 'Iris-setosa'],\n",
              "       ['4.6', '3.2', '1.4', '0.2', 'Iris-setosa'],\n",
              "       ['5.3', '3.7', '1.5', '0.2', 'Iris-setosa'],\n",
              "       ['5.0', '3.3', '1.4', '0.2', 'Iris-setosa'],\n",
              "       ['7.0', '3.2', '4.7', '1.4', 'Iris-versicolor'],\n",
              "       ['6.4', '3.2', '4.5', '1.5', 'Iris-versicolor'],\n",
              "       ['6.9', '3.1', '4.9', '1.5', 'Iris-versicolor'],\n",
              "       ['5.5', '2.3', '4.0', '1.3', 'Iris-versicolor'],\n",
              "       ['6.5', '2.8', '4.6', '1.5', 'Iris-versicolor'],\n",
              "       ['5.7', '2.8', '4.5', '1.3', 'Iris-versicolor'],\n",
              "       ['6.3', '3.3', '4.7', '1.6', 'Iris-versicolor'],\n",
              "       ['4.9', '2.4', '3.3', '1.0', 'Iris-versicolor'],\n",
              "       ['6.6', '2.9', '4.6', '1.3', 'Iris-versicolor'],\n",
              "       ['5.2', '2.7', '3.9', '1.4', 'Iris-versicolor'],\n",
              "       ['5.0', '2.0', '3.5', '1.0', 'Iris-versicolor'],\n",
              "       ['5.9', '3.0', '4.2', '1.5', 'Iris-versicolor'],\n",
              "       ['6.0', '2.2', '4.0', '1.0', 'Iris-versicolor'],\n",
              "       ['6.1', '2.9', '4.7', '1.4', 'Iris-versicolor'],\n",
              "       ['5.6', '2.9', '3.6', '1.3', 'Iris-versicolor'],\n",
              "       ['6.7', '3.1', '4.4', '1.4', 'Iris-versicolor'],\n",
              "       ['5.6', '3.0', '4.5', '1.5', 'Iris-versicolor'],\n",
              "       ['5.8', '2.7', '4.1', '1.0', 'Iris-versicolor'],\n",
              "       ['6.2', '2.2', '4.5', '1.5', 'Iris-versicolor'],\n",
              "       ['5.6', '2.5', '3.9', '1.1', 'Iris-versicolor'],\n",
              "       ['5.9', '3.2', '4.8', '1.8', 'Iris-versicolor'],\n",
              "       ['6.1', '2.8', '4.0', '1.3', 'Iris-versicolor'],\n",
              "       ['6.3', '2.5', '4.9', '1.5', 'Iris-versicolor'],\n",
              "       ['6.1', '2.8', '4.7', '1.2', 'Iris-versicolor'],\n",
              "       ['6.4', '2.9', '4.3', '1.3', 'Iris-versicolor'],\n",
              "       ['6.6', '3.0', '4.4', '1.4', 'Iris-versicolor'],\n",
              "       ['6.8', '2.8', '4.8', '1.4', 'Iris-versicolor'],\n",
              "       ['6.7', '3.0', '5.0', '1.7', 'Iris-versicolor'],\n",
              "       ['6.0', '2.9', '4.5', '1.5', 'Iris-versicolor'],\n",
              "       ['5.7', '2.6', '3.5', '1.0', 'Iris-versicolor'],\n",
              "       ['5.5', '2.4', '3.8', '1.1', 'Iris-versicolor'],\n",
              "       ['5.5', '2.4', '3.7', '1.0', 'Iris-versicolor'],\n",
              "       ['5.8', '2.7', '3.9', '1.2', 'Iris-versicolor'],\n",
              "       ['6.0', '2.7', '5.1', '1.6', 'Iris-versicolor'],\n",
              "       ['5.4', '3.0', '4.5', '1.5', 'Iris-versicolor'],\n",
              "       ['6.0', '3.4', '4.5', '1.6', 'Iris-versicolor'],\n",
              "       ['6.7', '3.1', '4.7', '1.5', 'Iris-versicolor'],\n",
              "       ['6.3', '2.3', '4.4', '1.3', 'Iris-versicolor'],\n",
              "       ['5.6', '3.0', '4.1', '1.3', 'Iris-versicolor'],\n",
              "       ['5.5', '2.5', '4.0', '1.3', 'Iris-versicolor'],\n",
              "       ['5.5', '2.6', '4.4', '1.2', 'Iris-versicolor'],\n",
              "       ['6.1', '3.0', '4.6', '1.4', 'Iris-versicolor'],\n",
              "       ['5.8', '2.6', '4.0', '1.2', 'Iris-versicolor'],\n",
              "       ['5.0', '2.3', '3.3', '1.0', 'Iris-versicolor'],\n",
              "       ['5.6', '2.7', '4.2', '1.3', 'Iris-versicolor'],\n",
              "       ['5.7', '3.0', '4.2', '1.2', 'Iris-versicolor'],\n",
              "       ['5.7', '2.9', '4.2', '1.3', 'Iris-versicolor'],\n",
              "       ['6.2', '2.9', '4.3', '1.3', 'Iris-versicolor'],\n",
              "       ['5.1', '2.5', '3.0', '1.1', 'Iris-versicolor'],\n",
              "       ['5.7', '2.8', '4.1', '1.3', 'Iris-versicolor'],\n",
              "       ['6.3', '3.3', '6.0', '2.5', 'Iris-virginica'],\n",
              "       ['5.8', '2.7', '5.1', '1.9', 'Iris-virginica'],\n",
              "       ['7.1', '3.0', '5.9', '2.1', 'Iris-virginica'],\n",
              "       ['6.3', '2.9', '5.6', '1.8', 'Iris-virginica'],\n",
              "       ['6.5', '3.0', '5.8', '2.2', 'Iris-virginica'],\n",
              "       ['7.6', '3.0', '6.6', '2.1', 'Iris-virginica'],\n",
              "       ['4.9', '2.5', '4.5', '1.7', 'Iris-virginica'],\n",
              "       ['7.3', '2.9', '6.3', '1.8', 'Iris-virginica'],\n",
              "       ['6.7', '2.5', '5.8', '1.8', 'Iris-virginica'],\n",
              "       ['7.2', '3.6', '6.1', '2.5', 'Iris-virginica'],\n",
              "       ['6.5', '3.2', '5.1', '2.0', 'Iris-virginica'],\n",
              "       ['6.4', '2.7', '5.3', '1.9', 'Iris-virginica'],\n",
              "       ['6.8', '3.0', '5.5', '2.1', 'Iris-virginica'],\n",
              "       ['5.7', '2.5', '5.0', '2.0', 'Iris-virginica'],\n",
              "       ['5.8', '2.8', '5.1', '2.4', 'Iris-virginica'],\n",
              "       ['6.4', '3.2', '5.3', '2.3', 'Iris-virginica'],\n",
              "       ['6.5', '3.0', '5.5', '1.8', 'Iris-virginica'],\n",
              "       ['7.7', '3.8', '6.7', '2.2', 'Iris-virginica'],\n",
              "       ['7.7', '2.6', '6.9', '2.3', 'Iris-virginica'],\n",
              "       ['6.0', '2.2', '5.0', '1.5', 'Iris-virginica'],\n",
              "       ['6.9', '3.2', '5.7', '2.3', 'Iris-virginica'],\n",
              "       ['5.6', '2.8', '4.9', '2.0', 'Iris-virginica'],\n",
              "       ['7.7', '2.8', '6.7', '2.0', 'Iris-virginica'],\n",
              "       ['6.3', '2.7', '4.9', '1.8', 'Iris-virginica'],\n",
              "       ['6.7', '3.3', '5.7', '2.1', 'Iris-virginica'],\n",
              "       ['7.2', '3.2', '6.0', '1.8', 'Iris-virginica'],\n",
              "       ['6.2', '2.8', '4.8', '1.8', 'Iris-virginica'],\n",
              "       ['6.1', '3.0', '4.9', '1.8', 'Iris-virginica'],\n",
              "       ['6.4', '2.8', '5.6', '2.1', 'Iris-virginica'],\n",
              "       ['7.2', '3.0', '5.8', '1.6', 'Iris-virginica'],\n",
              "       ['7.4', '2.8', '6.1', '1.9', 'Iris-virginica'],\n",
              "       ['7.9', '3.8', '6.4', '2.0', 'Iris-virginica'],\n",
              "       ['6.4', '2.8', '5.6', '2.2', 'Iris-virginica'],\n",
              "       ['6.3', '2.8', '5.1', '1.5', 'Iris-virginica'],\n",
              "       ['6.1', '2.6', '5.6', '1.4', 'Iris-virginica'],\n",
              "       ['7.7', '3.0', '6.1', '2.3', 'Iris-virginica'],\n",
              "       ['6.3', '3.4', '5.6', '2.4', 'Iris-virginica'],\n",
              "       ['6.4', '3.1', '5.5', '1.8', 'Iris-virginica'],\n",
              "       ['6.0', '3.0', '4.8', '1.8', 'Iris-virginica'],\n",
              "       ['6.9', '3.1', '5.4', '2.1', 'Iris-virginica'],\n",
              "       ['6.7', '3.1', '5.6', '2.4', 'Iris-virginica'],\n",
              "       ['6.9', '3.1', '5.1', '2.3', 'Iris-virginica'],\n",
              "       ['5.8', '2.7', '5.1', '1.9', 'Iris-virginica'],\n",
              "       ['6.8', '3.2', '5.9', '2.3', 'Iris-virginica'],\n",
              "       ['6.7', '3.3', '5.7', '2.5', 'Iris-virginica'],\n",
              "       ['6.7', '3.0', '5.2', '2.3', 'Iris-virginica'],\n",
              "       ['6.3', '2.5', '5.0', '1.9', 'Iris-virginica'],\n",
              "       ['6.5', '3.0', '5.2', '2.0', 'Iris-virginica'],\n",
              "       ['6.2', '3.4', '5.4', '2.3', 'Iris-virginica'],\n",
              "       ['5.9', '3.0', '5.1', '1.8', 'Iris-virginica']], dtype='<U15')"
            ]
          },
          "metadata": {},
          "execution_count": 36
        }
      ]
    },
    {
      "cell_type": "code",
      "source": [
        "#Example 1 #########################\n",
        "X = [6.3 , 3.3, 6.0,  2.5]\n",
        "train_data = create_train_data_iris()\n",
        "y_unique = np.unique(train_data[:, 4])\n",
        "prior_probability, conditional_probability = train_gaussian_naive_bayes(train_data)\n",
        "pred = y_unique[prediction_iris(X, prior_probability, conditional_probability)]\n",
        "assert pred == \"Iris-virginica\""
      ],
      "metadata": {
        "id": "OAcu3Jd9T3Rb"
      },
      "execution_count": 42,
      "outputs": []
    },
    {
      "cell_type": "code",
      "source": [
        "pred"
      ],
      "metadata": {
        "colab": {
          "base_uri": "https://localhost:8080/",
          "height": 36
        },
        "id": "5R-c7QnFWaye",
        "outputId": "93258e42-098e-4339-cce4-6c799cf84781"
      },
      "execution_count": 43,
      "outputs": [
        {
          "output_type": "execute_result",
          "data": {
            "text/plain": [
              "'Iris-virginica'"
            ],
            "application/vnd.google.colaboratory.intrinsic+json": {
              "type": "string"
            }
          },
          "metadata": {},
          "execution_count": 43
        }
      ]
    },
    {
      "cell_type": "code",
      "source": [
        "#Example 2 #########################\n",
        "X = [5.0,2.0,3.5,1.0]\n",
        "train_data = create_train_data_iris()\n",
        "y_unique = np.unique(train_data[:,4])\n",
        "prior_probability, conditional_probability = train_gaussian_naive_bayes(train_data)\n",
        "pred = y_unique[prediction_iris(X, prior_probability, conditional_probability)]\n",
        "assert pred == \"Iris-versicolor\""
      ],
      "metadata": {
        "id": "EPzVdIZXVPpf"
      },
      "execution_count": 44,
      "outputs": []
    },
    {
      "cell_type": "code",
      "source": [
        "pred"
      ],
      "metadata": {
        "colab": {
          "base_uri": "https://localhost:8080/",
          "height": 36
        },
        "id": "8vH-HHFFWfNl",
        "outputId": "b49dbe97-6319-4c57-9998-040b0c5aacdd"
      },
      "execution_count": 45,
      "outputs": [
        {
          "output_type": "execute_result",
          "data": {
            "text/plain": [
              "'Iris-versicolor'"
            ],
            "application/vnd.google.colaboratory.intrinsic+json": {
              "type": "string"
            }
          },
          "metadata": {},
          "execution_count": 45
        }
      ]
    },
    {
      "cell_type": "code",
      "source": [
        "#Example 3 #########################\n",
        "# X =[sepal length, sepal width, petal length, petal width]\n",
        "X = [4.9,3.1,1.5,0.1]\n",
        "train_data = create_train_data_iris()\n",
        "y_unique = np.unique(train_data[:,4])\n",
        "prior_probability, conditional_probability = train_gaussian_naive_bayes(train_data)\n",
        "pred = y_unique[prediction_iris(X, prior_probability, conditional_probability)]\n",
        "assert pred == \"Iris-setosa\""
      ],
      "metadata": {
        "id": "wRNMtYrBVRxo"
      },
      "execution_count": 46,
      "outputs": []
    },
    {
      "cell_type": "code",
      "source": [
        "pred"
      ],
      "metadata": {
        "colab": {
          "base_uri": "https://localhost:8080/",
          "height": 36
        },
        "id": "iMn1Q7vwWhyO",
        "outputId": "51b4e341-9120-48bf-984d-5a89c33e017f"
      },
      "execution_count": 47,
      "outputs": [
        {
          "output_type": "execute_result",
          "data": {
            "text/plain": [
              "'Iris-setosa'"
            ],
            "application/vnd.google.colaboratory.intrinsic+json": {
              "type": "string"
            }
          },
          "metadata": {},
          "execution_count": 47
        }
      ]
    }
  ]
}